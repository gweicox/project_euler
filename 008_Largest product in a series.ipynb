{
 "cells": [
  {
   "cell_type": "markdown",
   "id": "a3222310",
   "metadata": {},
   "source": [
    "### 8. Largest product in a series\n",
    "link: https://projecteuler.net/problem=8\n",
    "\n",
    "The **four** adjacent digits in the 1000-digit number that have the greatest product are 9 × 9 × 8 × 9 = 5832.<br>\n",
    "Find the **thirteen** adjacent digits in the 1000-digit number that have the greatest product. What is the value of this product?"
   ]
  },
  {
   "cell_type": "code",
   "execution_count": 1,
   "id": "11f47361",
   "metadata": {},
   "outputs": [],
   "source": [
    "number = ('7316717653133062491922511967442657474235534919493496983520312774506326239578318016984801'\n",
    "          '8694788518438586156078911294949545950173795833195285320880551112540698747158523863050715'\n",
    "          '6932909632952274430435576689664895044524452316173185640309871112172238311362229893423380'\n",
    "          '3081353362766142828064444866452387493035890729629049156044077239071381051585930796086670'\n",
    "          '1724271218839987979087922749219016997208880937766572733300105336788122023542180975125454'\n",
    "          '0594752243525849077116705560136048395864467063244157221553975369781797784617406495514929'\n",
    "          '0862569321978468622482839722413756570560574902614079729686524145351004748216637048440319'\n",
    "          '9890008895243450658541227588666881164271714799244429282308634656748139191231628245861786'\n",
    "          '6458359124566529476545682848912883142607690042242190226710556263211111093705442175069416'\n",
    "          '5896040807198403850962455444362981230987879927244284909188845801561660979191338754992005'\n",
    "          '2406368991256071760605886116467109405077541002256983155200055935729725716362695618826704'\n",
    "          '28252483600823257530420752963450')"
   ]
  },
  {
   "cell_type": "code",
   "execution_count": 2,
   "id": "a044927b",
   "metadata": {},
   "outputs": [],
   "source": [
    "from math import prod\n",
    "\n",
    "f = lambda num: prod(int(x) for x in num)\n",
    "\n",
    "greatest_product = lambda num, a: max(map(f, (num[x: x + a] for x in range(len(num) - a + 1))))"
   ]
  },
  {
   "cell_type": "code",
   "execution_count": 3,
   "id": "ea5578d8",
   "metadata": {},
   "outputs": [
    {
     "name": "stdout",
     "output_type": "stream",
     "text": [
      "Wall time: 2 ms\n"
     ]
    },
    {
     "data": {
      "text/plain": [
       "23514624000"
      ]
     },
     "execution_count": 3,
     "metadata": {},
     "output_type": "execute_result"
    }
   ],
   "source": [
    "%%time\n",
    "\n",
    "greatest_product(number, 13)\n",
    "\n",
    "# 2022.06.28\n",
    "# 23_514_624_000"
   ]
  }
 ],
 "metadata": {
  "kernelspec": {
   "display_name": "Python 3",
   "language": "python",
   "name": "python3"
  },
  "language_info": {
   "codemirror_mode": {
    "name": "ipython",
    "version": 3
   },
   "file_extension": ".py",
   "mimetype": "text/x-python",
   "name": "python",
   "nbconvert_exporter": "python",
   "pygments_lexer": "ipython3",
   "version": "3.8.8"
  }
 },
 "nbformat": 4,
 "nbformat_minor": 5
}
