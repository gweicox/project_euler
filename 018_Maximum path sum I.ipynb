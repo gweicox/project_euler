{
 "cells": [
  {
   "cell_type": "markdown",
   "id": "7b6fa326",
   "metadata": {},
   "source": [
    "### 18. Maximum path sum I\n",
    "\n",
    "link: https://projecteuler.net/problem=18\n",
    "\n",
    "By starting at the top of the triangle below and moving to adjacent numbers on the row below, the maximum total from top to bottom is 23.<br><br>\n",
    "\n",
    "<center>\n",
    "<span style=\"color:red\">3</span><br>\n",
    "<span style=\"color:red\">7</span> 4<br>  \n",
    "2 <span style=\"color:red\">4</span> 6<br>  \n",
    "8 5 <span style=\"color:red\">9</span> 3\n",
    "</center>\n",
    "\n",
    "That is, 3 + 7 + 4 + 9 = 23.\n",
    "\n",
    "Find the maximum total from top to bottom of the triangle below:\n",
    "\n",
    "<center>\n",
    "75  <br>\n",
    "95 64  <br>\n",
    "17 47 82  <br>\n",
    "18 35 87 10  <br>\n",
    "20 04 82 47 65  <br>\n",
    "19 01 23 75 03 34  <br>\n",
    "88 02 77 73 07 63 67  <br>\n",
    "99 65 04 28 06 16 70 92  <br>\n",
    "41 41 26 56 83 40 80 70 33  <br>\n",
    "41 48 72 33 47 32 37 16 94 29  <br>\n",
    "53 71 44 65 25 43 91 52 97 51 14  <br>\n",
    "70 11 33 28 77 73 17 78 39 68 17 57  <br>\n",
    "91 71 52 38 17 14 91 43 58 50 27 29 48  <br>\n",
    "63 66 04 68 89 53 67 30 73 16 69 87 40 31  <br>\n",
    "04 62 98 27 23 09 70 98 73 93 38 53 60 04 23\n",
    "</center>\n",
    "\n",
    "**NOTE:** As there are only 16384 routes, it is possible to solve this problem by trying every route. However, **Problem 67**, is the same challenge with a triangle containing one-hundred rows; it cannot be solved by brute force, and requires a clever method! ;o)"
   ]
  },
  {
   "cell_type": "code",
   "execution_count": 1,
   "id": "6dda697c",
   "metadata": {},
   "outputs": [],
   "source": [
    "triangle = '''75\n",
    "95 64\n",
    "17 47 82\n",
    "18 35 87 10\n",
    "20 04 82 47 65\n",
    "19 01 23 75 03 34\n",
    "88 02 77 73 07 63 67\n",
    "99 65 04 28 06 16 70 92\n",
    "41 41 26 56 83 40 80 70 33\n",
    "41 48 72 33 47 32 37 16 94 29\n",
    "53 71 44 65 25 43 91 52 97 51 14\n",
    "70 11 33 28 77 73 17 78 39 68 17 57\n",
    "91 71 52 38 17 14 91 43 58 50 27 29 48\n",
    "63 66 04 68 89 53 67 30 73 16 69 87 40 31\n",
    "04 62 98 27 23 09 70 98 73 93 38 53 60 04 23'''"
   ]
  },
  {
   "cell_type": "code",
   "execution_count": 2,
   "id": "70fbad0c",
   "metadata": {},
   "outputs": [
    {
     "name": "stdout",
     "output_type": "stream",
     "text": [
      "Wall time: 0 ns\n"
     ]
    },
    {
     "data": {
      "text/plain": [
       "1074"
      ]
     },
     "execution_count": 2,
     "metadata": {},
     "output_type": "execute_result"
    }
   ],
   "source": [
    "%%time\n",
    "\n",
    "triangle = [[int(x) for x in y.split()] for y in triangle.split('\\n')]\n",
    "\n",
    "for i, row in enumerate(triangle[1:], 1):\n",
    "    for j, num in enumerate(row):\n",
    "        triangle[i][j] = num + max(triangle[i-1][max(0, j-1): j+1])\n",
    "        \n",
    "max(triangle[-1])\n",
    "\n",
    "# 2022.07.08"
   ]
  }
 ],
 "metadata": {
  "kernelspec": {
   "display_name": "Python 3",
   "language": "python",
   "name": "python3"
  },
  "language_info": {
   "codemirror_mode": {
    "name": "ipython",
    "version": 3
   },
   "file_extension": ".py",
   "mimetype": "text/x-python",
   "name": "python",
   "nbconvert_exporter": "python",
   "pygments_lexer": "ipython3",
   "version": "3.8.8"
  }
 },
 "nbformat": 4,
 "nbformat_minor": 5
}
