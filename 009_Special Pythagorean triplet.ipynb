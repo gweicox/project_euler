{
 "cells": [
  {
   "cell_type": "markdown",
   "id": "a68b96ae",
   "metadata": {},
   "source": [
    "### 9.  Special Pythagorean triplet\n",
    "\n",
    "link: https://projecteuler.net/problem=9\n",
    "\n",
    "A Pythagorean triplet is a set of three natural numbers, a < b < c, for which,\n",
    "\n",
    "$$ a^2 + b^2 = c^2 $$\n",
    "\n",
    "For example, \n",
    "$$ 3^2 + 4^2 = 9 + 16 = 25 = 5^2. $$\n",
    "\n",
    "There exists exactly one Pythagorean triplet for which a + b + c = 1000.  \n",
    "Find the product abc."
   ]
  },
  {
   "cell_type": "markdown",
   "id": "98441b55",
   "metadata": {},
   "source": [
    "==========================================================================<br>\n",
    "Solution:\n",
    "\n",
    "$$ \\begin{cases}\n",
    "a + b + c = 1000 \\\\\n",
    "a^2 + b^2 = c^2\n",
    "\\end{cases}  $$\n",
    "<br>\n",
    "$$ a^2 + b^2 = (1000 - a - b)^2 $$\n",
    "<br>\n",
    "$$ a^2 + b^2 = 1000^2 + a^2 + b^2 - 2000a - 2000b + 2ab $$\n",
    "<br>\n",
    "$$ a + b - \\frac{ab}{1000} = 500 $$\n",
    "<br>\n",
    "$$ b = \\frac{500 - a}{1 - 0.001a} $$\n",
    "<br>\n",
    "$$ b = 1000 - \\frac{500}{1 - 0.001a} $$"
   ]
  },
  {
   "cell_type": "code",
   "execution_count": 1,
   "id": "568f4e80",
   "metadata": {},
   "outputs": [
    {
     "name": "stdout",
     "output_type": "stream",
     "text": [
      "a = 200\n",
      "b = 375.0\n",
      "c = 425.0\n",
      "abc = 31875000.0\n",
      "\n",
      "Wall time: 0 ns\n"
     ]
    }
   ],
   "source": [
    "%%time\n",
    "\n",
    "for a in range(2, 334): # because a < b < c and a + b + c = 1000\n",
    "    if 500_000 % (1000 - a) == 0: # because 500/(1-0.001a) is int\n",
    "        b = 1000 - 500 / (1 - 0.001 * a)\n",
    "        c = 1000 - a - b\n",
    "        print(f'a = {a}\\nb = {b}\\nc = {c}\\nabc = {a * b * c}\\n')\n",
    "        \n",
    "# 2022.06.29"
   ]
  }
 ],
 "metadata": {
  "kernelspec": {
   "display_name": "Python 3",
   "language": "python",
   "name": "python3"
  },
  "language_info": {
   "codemirror_mode": {
    "name": "ipython",
    "version": 3
   },
   "file_extension": ".py",
   "mimetype": "text/x-python",
   "name": "python",
   "nbconvert_exporter": "python",
   "pygments_lexer": "ipython3",
   "version": "3.8.8"
  }
 },
 "nbformat": 4,
 "nbformat_minor": 5
}
