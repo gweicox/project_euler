{
 "cells": [
  {
   "cell_type": "markdown",
   "id": "355db850",
   "metadata": {},
   "source": [
    "### 14. Longest Collatz sequence\n",
    "\n",
    "link: https://projecteuler.net/problem=14\n",
    "\n",
    "The following iterative sequence is defined for the set of positive integers:\n",
    "\n",
    "n → n/2 (n is even)  \n",
    "n → 3n + 1 (n is odd)\n",
    "\n",
    "Using the rule above and starting with 13, we generate the following sequence:\n",
    "\n",
    "13 → 40 → 20 → 10 → 5 → 16 → 8 → 4 → 2 → 1\n",
    "\n",
    "It can be seen that this sequence (starting at 13 and finishing at 1) contains 10 terms. Although it has not been proved yet (Collatz Problem), it is thought that all starting numbers finish at 1.\n",
    "\n",
    "Which starting number, under one million, produces the longest chain?\n",
    "\n",
    "**NOTE:** Once the chain starts the terms are allowed to go above one million."
   ]
  },
  {
   "cell_type": "code",
   "execution_count": 1,
   "id": "9c95dbc6",
   "metadata": {},
   "outputs": [],
   "source": [
    "collatz_memo = {}"
   ]
  },
  {
   "cell_type": "code",
   "execution_count": 2,
   "id": "546a94b7",
   "metadata": {},
   "outputs": [],
   "source": [
    "def collatz_len(first_num: int) -> int:\n",
    "    n, acc = first_num, 0\n",
    "    get_next = lambda x: x // 2 if x % 2 == 0 else 3 * x + 1\n",
    "    \n",
    "    while n != 1:\n",
    "        if n in collatz_memo:\n",
    "            collatz_memo[first_num] = collatz_memo[n] + acc\n",
    "            return collatz_memo[first_num]\n",
    "        \n",
    "        n = get_next(n)\n",
    "        acc += 1\n",
    "    \n",
    "    collatz_memo[first_num] = acc + 1\n",
    "        \n",
    "    return collatz_memo[first_num]"
   ]
  },
  {
   "cell_type": "code",
   "execution_count": 3,
   "id": "c52de378",
   "metadata": {},
   "outputs": [
    {
     "name": "stdout",
     "output_type": "stream",
     "text": [
      "starting_number = 837799, longest_len = 525\n",
      "Wall time: 2.39 s\n"
     ]
    }
   ],
   "source": [
    "%%time\n",
    "\n",
    "longest_len = 0\n",
    "starting_number = 0\n",
    "\n",
    "for i in range(2, 10 ** 6):\n",
    "    i_len = collatz_len(i)\n",
    "    \n",
    "    if i_len > longest_len:\n",
    "        longest_len = i_len\n",
    "        starting_number = i\n",
    "\n",
    "print(f'starting_number = {starting_number}, longest_len = {longest_len}')\n",
    "\n",
    "# 2022.07.04"
   ]
  }
 ],
 "metadata": {
  "kernelspec": {
   "display_name": "Python 3",
   "language": "python",
   "name": "python3"
  },
  "language_info": {
   "codemirror_mode": {
    "name": "ipython",
    "version": 3
   },
   "file_extension": ".py",
   "mimetype": "text/x-python",
   "name": "python",
   "nbconvert_exporter": "python",
   "pygments_lexer": "ipython3",
   "version": "3.8.8"
  }
 },
 "nbformat": 4,
 "nbformat_minor": 5
}
