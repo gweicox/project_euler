{
 "cells": [
  {
   "cell_type": "markdown",
   "id": "26648214",
   "metadata": {},
   "source": [
    "### 42. Coded triangle numbers\n",
    "\n",
    "link: https://projecteuler.net/problem=42\n",
    "\n",
    "<p>The <i>n</i><sup>th</sup> term of the sequence of triangle numbers is given by, <i>t<sub>n</sub></i> = ½<i>n</i>(<i>n</i>+1); so the first ten triangle numbers are:</p>\n",
    "<p class=\"center\">1, 3, 6, 10, 15, 21, 28, 36, 45, 55, ...</p>\n",
    "<p>By converting each letter in a word to a number corresponding to its alphabetical position and adding these values we form a word value. For example, the word value for SKY is 19 + 11 + 25 = 55 = <i>t</i><sub>10</sub>. If the word value is a triangle number then we shall call the word a triangle word.</p>\n",
    "<p>Using <a href=\"project/resources/p042_words.txt\">words.txt</a> (right click and 'Save Link/Target As...'), a 16K text file containing nearly two-thousand common English words, how many are triangle words?</p>"
   ]
  },
  {
   "cell_type": "code",
   "execution_count": 1,
   "id": "d6258248",
   "metadata": {},
   "outputs": [
    {
     "name": "stdout",
     "output_type": "stream",
     "text": [
      "Wall time: 12.5 ms\n"
     ]
    },
    {
     "data": {
      "text/plain": [
       "162"
      ]
     },
     "execution_count": 1,
     "metadata": {},
     "output_type": "execute_result"
    }
   ],
   "source": [
    "%%time\n",
    "\n",
    "file = '042_Coded triangle numbers_words.txt'\n",
    "\n",
    "triangle_numbers = set(x * (x + 1) // 2 for x in range(42))\n",
    "\n",
    "def is_triangle(n: int) -> bool:\n",
    "    return n in triangle_numbers\n",
    "\n",
    "with open(file) as f:\n",
    "    words = f.read().replace('\"', '').split(',')\n",
    "    \n",
    "sum(1 for word in words if is_triangle(sum(ord(x)-64 for x in word)))\n",
    "\n",
    "# 162\n",
    "# 2022.08.01\n",
    "# Wall time: 12.5 ms"
   ]
  },
  {
   "cell_type": "code",
   "execution_count": 2,
   "id": "209889d2",
   "metadata": {},
   "outputs": [
    {
     "name": "stdout",
     "output_type": "stream",
     "text": [
      "Wall time: 53.7 ms\n"
     ]
    },
    {
     "data": {
      "text/plain": [
       "162"
      ]
     },
     "execution_count": 2,
     "metadata": {},
     "output_type": "execute_result"
    }
   ],
   "source": [
    "%%time\n",
    "\n",
    "file = '042_Coded triangle numbers_words.txt'\n",
    "\n",
    "sum(1 for w in eval(f'[{open(file).read()}]') if sum(ord(x)-64 for x in w) in [x*(x+1)//2 for x in range(42)])"
   ]
  }
 ],
 "metadata": {
  "kernelspec": {
   "display_name": "Python 3",
   "language": "python",
   "name": "python3"
  },
  "language_info": {
   "codemirror_mode": {
    "name": "ipython",
    "version": 3
   },
   "file_extension": ".py",
   "mimetype": "text/x-python",
   "name": "python",
   "nbconvert_exporter": "python",
   "pygments_lexer": "ipython3",
   "version": "3.8.8"
  }
 },
 "nbformat": 4,
 "nbformat_minor": 5
}
