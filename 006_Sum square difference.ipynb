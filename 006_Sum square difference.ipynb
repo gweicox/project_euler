{
 "cells": [
  {
   "cell_type": "markdown",
   "id": "274ee83b",
   "metadata": {},
   "source": [
    "### 6.  Sum square difference\n",
    "\n",
    "link: https://projecteuler.net/problem=6\n",
    "\n",
    "The sum of the squares of the first ten natural numbers is,\n",
    "\n",
    "$$ 1^2 + 2^2 + ... + 10^2 = 385 $$\n",
    "\n",
    "The square of the sum of the first ten natural numbers is,\n",
    "\n",
    "$$ (1 + 2 + ... + 10)^2 = 55^2 = 3025 $$\n",
    "\n",
    "Hence the difference between the sum of the squares of the first ten natural numbers and the square of the sum is \n",
    "\n",
    "$$ 3025−385=2640. $$\n",
    "\n",
    "Find the difference between the sum of the squares of the first one hundred natural numbers and the square of the sum."
   ]
  },
  {
   "cell_type": "code",
   "execution_count": 1,
   "id": "3c64d38a",
   "metadata": {},
   "outputs": [],
   "source": [
    "def sum_square_difference(n: int) -> int:\n",
    "    \n",
    "    return sum(range(1, n + 1)) ** 2 - sum(x ** 2 for x in range(1, n + 1))"
   ]
  },
  {
   "cell_type": "code",
   "execution_count": 2,
   "id": "037ad670",
   "metadata": {},
   "outputs": [
    {
     "name": "stdout",
     "output_type": "stream",
     "text": [
      "Wall time: 0 ns\n"
     ]
    },
    {
     "data": {
      "text/plain": [
       "25164150"
      ]
     },
     "execution_count": 2,
     "metadata": {},
     "output_type": "execute_result"
    }
   ],
   "source": [
    "%%time\n",
    "\n",
    "sum_square_difference(100)\n",
    "\n",
    "# 2022.06.26"
   ]
  }
 ],
 "metadata": {
  "kernelspec": {
   "display_name": "Python 3",
   "language": "python",
   "name": "python3"
  },
  "language_info": {
   "codemirror_mode": {
    "name": "ipython",
    "version": 3
   },
   "file_extension": ".py",
   "mimetype": "text/x-python",
   "name": "python",
   "nbconvert_exporter": "python",
   "pygments_lexer": "ipython3",
   "version": "3.8.8"
  }
 },
 "nbformat": 4,
 "nbformat_minor": 5
}
