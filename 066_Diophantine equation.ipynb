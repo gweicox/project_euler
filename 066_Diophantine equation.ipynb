{
 "cells": [
  {
   "cell_type": "markdown",
   "id": "7f5d1d5c",
   "metadata": {},
   "source": [
    "### 66. Diophantine equation\n",
    "\n",
    "link: https://projecteuler.net/problem=66\n",
    "\n",
    "<p>Consider quadratic Diophantine equations of the form:</p>\n",
    "\n",
    "<p class=\"margin_left\"><i>x</i><sup>2</sup> – D<i>y</i><sup>2</sup> = 1</p>\n",
    "\n",
    "<p>For example, when D=13, the minimal solution in <i>x</i> is 649<sup>2</sup> – 13×180<sup>2</sup> = 1.</p>\n",
    "\n",
    "<p>It can be assumed that there are no solutions in positive integers when D is square.</p>\n",
    "\n",
    "<p>By finding minimal solutions in <i>x</i> for D = {2, 3, 5, 6, 7}, we obtain the following:</p>\n",
    "\n",
    "<p class=\"margin_left\">3<sup>2</sup> – 2×2<sup>2</sup> = 1<br />\n",
    "2<sup>2</sup> – 3×1<sup>2</sup> = 1<br /><span class=\"red strong\">9</span><sup>2</sup> – 5×4<sup>2</sup> = 1<br />\n",
    "5<sup>2</sup> – 6×2<sup>2</sup> = 1<br />\n",
    "8<sup>2</sup> – 7×3<sup>2</sup> = 1</p>\n",
    "\n",
    "<p>Hence, by considering minimal solutions in <i>x</i> for D ≤ 7, the largest <i>x</i> is obtained when D=5.</p>\n",
    "\n",
    "<p>Find the value of D ≤ 1000 in minimal solutions of <i>x</i> for which the largest value of <i>x</i> is obtained.</p>"
   ]
  },
  {
   "cell_type": "code",
   "execution_count": 1,
   "id": "d73de5a1",
   "metadata": {},
   "outputs": [
    {
     "name": "stdout",
     "output_type": "stream",
     "text": [
      "Wall time: 131 ms\n"
     ]
    },
    {
     "data": {
      "text/plain": [
       "661"
      ]
     },
     "execution_count": 1,
     "metadata": {},
     "output_type": "execute_result"
    }
   ],
   "source": [
    "%%time\n",
    "\n",
    "\n",
    "def sq_approx(D, n):\n",
    "    a, b = 0, 1\n",
    "    arr = []\n",
    "    for _ in range(n):\n",
    "        z = int((D ** 0.5 + a) / b)\n",
    "        arr.append(z)\n",
    "        a, b = (z * b - a), ((D - (a - z * b) ** 2) / b)\n",
    "\n",
    "    if n > 1:\n",
    "        a, b, c = 1, arr[-1], arr[-2]\n",
    "        for i in arr[:-2][::-1]:\n",
    "            a, b, c = (b, c * b + a, i)\n",
    "        x = c * b + a\n",
    "        y = b\n",
    "        return (x, y)\n",
    "    else:\n",
    "        return arr[0]\n",
    "\n",
    "\n",
    "def algos():\n",
    "    squares = {x ** 2 for x in range(2, 33)}\n",
    "    x_max, y, D, D_max = 0, 0, 0, 1000\n",
    "\n",
    "    for D_curr in range(2, D_max+1):\n",
    "        if D_curr not in squares:\n",
    "            n = 2\n",
    "            while True:\n",
    "                res = sq_approx(D_curr, n)\n",
    "                x_curr, y_curr = res[0], res[1]\n",
    "                if (x_curr**2) - D_curr * (y_curr**2) == 1:\n",
    "                    if x_curr > x_max:\n",
    "                        x_max, D, y = x_curr, D_curr, y_curr\n",
    "                    break\n",
    "                n += 1\n",
    "    return D\n",
    "\n",
    "\n",
    "algos()\n",
    "\n",
    "# 661\n",
    "# 2024.02.03\n",
    "# Wall time: 131 ms"
   ]
  }
 ],
 "metadata": {
  "kernelspec": {
   "display_name": "Python 3",
   "language": "python",
   "name": "python3"
  },
  "language_info": {
   "codemirror_mode": {
    "name": "ipython",
    "version": 3
   },
   "file_extension": ".py",
   "mimetype": "text/x-python",
   "name": "python",
   "nbconvert_exporter": "python",
   "pygments_lexer": "ipython3",
   "version": "3.8.8"
  }
 },
 "nbformat": 4,
 "nbformat_minor": 5
}
