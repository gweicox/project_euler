{
 "cells": [
  {
   "cell_type": "markdown",
   "id": "0d40be25",
   "metadata": {},
   "source": [
    "### 36. Double-base palindromes\n",
    "\n",
    "link: https://projecteuler.net/problem=36\n",
    "\n",
    "<p>The decimal number, 585 = 1001001001<sub>2</sub> (binary), is palindromic in both bases.</p>\n",
    "<p>Find the sum of all numbers, less than one million, which are palindromic in base 10 and base 2.</p>\n",
    "<p class=\"smaller\">(Please note that the palindromic number, in either base, may not include leading zeros.)</p>"
   ]
  },
  {
   "cell_type": "code",
   "execution_count": 1,
   "id": "135897ba",
   "metadata": {},
   "outputs": [
    {
     "name": "stdout",
     "output_type": "stream",
     "text": [
      "Wall time: 190 ms\n"
     ]
    },
    {
     "data": {
      "text/plain": [
       "872187"
      ]
     },
     "execution_count": 1,
     "metadata": {},
     "output_type": "execute_result"
    }
   ],
   "source": [
    "%%time\n",
    "\n",
    "\n",
    "def is_doublebase_palindrom(n: int) -> bool:\n",
    "    return (s:=str(n))[::-1] == s and (b:=bin(n) + 'b0')[::-1] == b\n",
    "\n",
    "\n",
    "sum(x for x in range(1, 10**6, 2) if is_doublebase_palindrom(x))\n",
    "\n",
    "\n",
    "# 872187\n",
    "# 2022.07.26\n",
    "# Wall time: 190 ms"
   ]
  }
 ],
 "metadata": {
  "kernelspec": {
   "display_name": "Python 3",
   "language": "python",
   "name": "python3"
  },
  "language_info": {
   "codemirror_mode": {
    "name": "ipython",
    "version": 3
   },
   "file_extension": ".py",
   "mimetype": "text/x-python",
   "name": "python",
   "nbconvert_exporter": "python",
   "pygments_lexer": "ipython3",
   "version": "3.8.8"
  }
 },
 "nbformat": 4,
 "nbformat_minor": 5
}
