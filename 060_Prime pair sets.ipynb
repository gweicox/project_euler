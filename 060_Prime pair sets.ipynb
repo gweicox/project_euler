{
 "cells": [
  {
   "cell_type": "markdown",
   "id": "6408765c",
   "metadata": {},
   "source": [
    "### 60. Prime pair sets\n",
    "\n",
    "link: https://projecteuler.net/problem=60\n",
    "\n",
    "<p>The primes 3, 7, 109, and 673, are quite remarkable. By taking any two primes and concatenating them in any order the result will always be prime. For example, taking 7 and 109, both 7109 and 1097 are prime. The sum of these four primes, 792, represents the lowest sum for a set of four primes with this property.</p>\n",
    "\n",
    "<p>Find the lowest sum for a set of five primes for which any two primes concatenate to produce another prime.</p>"
   ]
  },
  {
   "cell_type": "code",
   "execution_count": 1,
   "id": "195c67e8",
   "metadata": {},
   "outputs": [
    {
     "name": "stdout",
     "output_type": "stream",
     "text": [
      "[13, 5197, 5701, 6733, 8389]\n",
      "Wall time: 726 ms\n"
     ]
    },
    {
     "data": {
      "text/plain": [
       "26033"
      ]
     },
     "execution_count": 1,
     "metadata": {},
     "output_type": "execute_result"
    }
   ],
   "source": [
    "%%time\n",
    "\n",
    "\n",
    "def eratosthenes_sieve(n):\n",
    "    sieve = list(range(n + 1))\n",
    "    sieve[1] = 0\n",
    "    for i in sieve:\n",
    "        if i > 1:\n",
    "            for j in range(i * i, n + 1, i):\n",
    "                sieve[j] = 0\n",
    "    return sieve\n",
    "\n",
    "def is_prime(n):\n",
    "    if n <= 1: return False\n",
    "    if n <= 3: return True\n",
    "    if not n % 2 or not n % 3: return False\n",
    "    for i in range(5, int(n**.5) + 1, 6):\n",
    "        if not n % i or not n % (i + 2): return False\n",
    "    return True\n",
    "\n",
    "cache = {}\n",
    "\n",
    "def is_concat_primes(a, b):\n",
    "    if (a, b) not in cache:\n",
    "        cache[(a, b)] = is_prime(int(str(a)+str(b))) and is_prime(int(str(b)+str(a)))\n",
    "    return cache[(a, b)]\n",
    "\n",
    "primes = [x for x in eratosthenes_sieve(10_000) if x]\n",
    "\n",
    "def get_lowest_sum():\n",
    "    for i, p1 in enumerate(primes):\n",
    "        for j, p2 in enumerate(primes[i+1:], i+1):\n",
    "            if is_concat_primes(p1, p2):\n",
    "                for k, p3 in enumerate(primes[j+1:], j+1):\n",
    "                    if is_concat_primes(p1, p3) and is_concat_primes(p2, p3):\n",
    "                        for m, p4 in enumerate(primes[k+1:], k+1):\n",
    "                            if is_concat_primes(p1, p4) and is_concat_primes(p2, p4):\n",
    "                                if is_concat_primes(p3, p4):\n",
    "                                    for p5 in primes[m+1:]:\n",
    "                                        if is_concat_primes(p1, p5) and is_concat_primes(p2, p5):\n",
    "                                            if is_concat_primes(p3, p5) and is_concat_primes(p4, p5):\n",
    "                                                res = [p1, p2, p3, p4, p5]\n",
    "                                                print(res)\n",
    "                                                return sum(res)\n",
    "\n",
    "\n",
    "get_lowest_sum()\n",
    "\n",
    "# 26033\n",
    "# 2024.01.28\n",
    "# Wall time: 726 ms"
   ]
  }
 ],
 "metadata": {
  "kernelspec": {
   "display_name": "Python 3",
   "language": "python",
   "name": "python3"
  },
  "language_info": {
   "codemirror_mode": {
    "name": "ipython",
    "version": 3
   },
   "file_extension": ".py",
   "mimetype": "text/x-python",
   "name": "python",
   "nbconvert_exporter": "python",
   "pygments_lexer": "ipython3",
   "version": "3.8.8"
  }
 },
 "nbformat": 4,
 "nbformat_minor": 5
}
