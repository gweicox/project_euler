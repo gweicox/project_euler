{
 "cells": [
  {
   "cell_type": "markdown",
   "id": "2a87c7c9",
   "metadata": {},
   "source": [
    "### 40.  Champernowne's constant\n",
    "\n",
    "link: https://projecteuler.net/problem=40\n",
    "\n",
    "<p>An irrational decimal fraction is created by concatenating the positive integers:</p>\n",
    "<p class=\"center\">0.12345678910<span style=\"color:red\">1</span>112131415161718192021...</p>\n",
    "<p>It can be seen that the 12<sup>th</sup> digit of the fractional part is 1.</p>\n",
    "<p>If <i>d</i><sub><i>n</i></sub> represents the <i>n</i><sup>th</sup> digit of the fractional part, find the value of the following expression.</p>\n",
    "<p class=\"center\"><i>d</i><sub>1</sub> × <i>d</i><sub>10</sub> × <i>d</i><sub>100</sub> × <i>d</i><sub>1000</sub> × <i>d</i><sub>10000</sub> × <i>d</i><sub>100000</sub> × <i>d</i><sub>1000000</sub></p>"
   ]
  },
  {
   "cell_type": "code",
   "execution_count": 1,
   "id": "7da0ea94",
   "metadata": {},
   "outputs": [
    {
     "name": "stdout",
     "output_type": "stream",
     "text": [
      "Wall time: 56 ms\n"
     ]
    },
    {
     "data": {
      "text/plain": [
       "210"
      ]
     },
     "execution_count": 1,
     "metadata": {},
     "output_type": "execute_result"
    }
   ],
   "source": [
    "%%time\n",
    "\n",
    "from math import prod as p\n",
    "\n",
    "d = ''.join(str(x) for x in range(2 * 10**5))\n",
    "p(int(d[10**x]) for x in range(7))\n",
    "\n",
    "\n",
    "# 210\n",
    "# 2022.07.30\n",
    "# Wall time: 56 ms"
   ]
  }
 ],
 "metadata": {
  "kernelspec": {
   "display_name": "Python 3",
   "language": "python",
   "name": "python3"
  },
  "language_info": {
   "codemirror_mode": {
    "name": "ipython",
    "version": 3
   },
   "file_extension": ".py",
   "mimetype": "text/x-python",
   "name": "python",
   "nbconvert_exporter": "python",
   "pygments_lexer": "ipython3",
   "version": "3.8.8"
  }
 },
 "nbformat": 4,
 "nbformat_minor": 5
}
