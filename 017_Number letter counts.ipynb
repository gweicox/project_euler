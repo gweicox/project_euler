{
 "cells": [
  {
   "cell_type": "markdown",
   "id": "0262306a",
   "metadata": {},
   "source": [
    "### 17. Number letter counts\n",
    "\n",
    "link: https://projecteuler.net/problem=17\n",
    "\n",
    "If the numbers 1 to 5 are written out in words: one, two, three, four, five, then there are 3 + 3 + 5 + 4 + 4 = 19 letters used in total.\n",
    "\n",
    "If all the numbers from 1 to 1000 (one thousand) inclusive were written out in words, how many letters would be used?\n",
    "\n",
    "**NOTE:** Do not count spaces or hyphens. For example, 342 (three hundred and forty-two) contains 23 letters and 115 (one hundred and fifteen) contains 20 letters. The use of \"and\" when writing out numbers is in compliance with British usage."
   ]
  },
  {
   "cell_type": "code",
   "execution_count": 1,
   "id": "6ebc241c",
   "metadata": {},
   "outputs": [],
   "source": [
    "d =  {0: '', 1: 'one', 2: 'two', 3: 'three', 4: 'four', 5: 'five', 6: 'six', 7: 'seven', 8: 'eight', 9: 'nine', \n",
    "     10: 'ten', 11: 'eleven', 12: 'twelve', 13: 'thirteen', 14: 'fourteen', \n",
    "     15: 'fifteen', 16: 'sixteen', 17: 'seventeen', 18: 'eighteen', 19: 'nineteen', \n",
    "     20: 'twenty', 30: 'thirty', 40: 'forty', 50: 'fifty', 60: 'sixty', 70: 'seventy', 80: 'eighty', 90: 'ninety'}"
   ]
  },
  {
   "cell_type": "code",
   "execution_count": 2,
   "id": "aedff07d",
   "metadata": {},
   "outputs": [],
   "source": [
    "def count_letters(n: int) -> int:\n",
    "    if n == 1000: return ('one thousand', 11)\n",
    "    acc, n = '', '00' + str(n)\n",
    "    \n",
    "    if int(n) > 99:\n",
    "        acc += d[int(n) // 100] + ' hundred'\n",
    "        if n[-2:] != '00':\n",
    "            acc += ' and '\n",
    "    if int(n[-2]) >= 2:\n",
    "        acc += d[int(n[-2]) * 10]\n",
    "        if int(n[-1]) >= 1:\n",
    "            acc += '-' + d[int(n[-1])]\n",
    "    else:\n",
    "        acc += d[int(n[-2:])]\n",
    "\n",
    "    return acc, len(acc.replace(' ', '').replace('-', ''))"
   ]
  },
  {
   "cell_type": "code",
   "execution_count": 3,
   "id": "8ae02395",
   "metadata": {},
   "outputs": [
    {
     "name": "stdout",
     "output_type": "stream",
     "text": [
      "Wall time: 3 ms\n"
     ]
    },
    {
     "data": {
      "text/plain": [
       "21124"
      ]
     },
     "execution_count": 3,
     "metadata": {},
     "output_type": "execute_result"
    }
   ],
   "source": [
    "%%time\n",
    "\n",
    "sum(count_letters(x)[1] for x in range(1, 1001))\n",
    "\n",
    "# 2022.07.07"
   ]
  }
 ],
 "metadata": {
  "kernelspec": {
   "display_name": "Python 3",
   "language": "python",
   "name": "python3"
  },
  "language_info": {
   "codemirror_mode": {
    "name": "ipython",
    "version": 3
   },
   "file_extension": ".py",
   "mimetype": "text/x-python",
   "name": "python",
   "nbconvert_exporter": "python",
   "pygments_lexer": "ipython3",
   "version": "3.8.8"
  }
 },
 "nbformat": 4,
 "nbformat_minor": 5
}
