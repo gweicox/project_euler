{
 "cells": [
  {
   "cell_type": "markdown",
   "id": "e7ef07d6",
   "metadata": {},
   "source": [
    "### 37. Truncatable primes\n",
    "\n",
    "link: https://projecteuler.net/problem=37\n",
    "\n",
    "<p>The number 3797 has an interesting property. Being prime itself, it is possible to continuously remove digits from left to right, and remain prime at each stage: 3797, 797, 97, and 7. Similarly we can work from right to left: 3797, 379, 37, and 3.</p>\n",
    "<p>Find the sum of the only eleven primes that are both truncatable from left to right and right to left.</p>\n",
    "<p class=\"smaller\">NOTE: 2, 3, 5, and 7 are not considered to be truncatable primes.</p>"
   ]
  },
  {
   "cell_type": "code",
   "execution_count": 1,
   "id": "dcf4696f",
   "metadata": {},
   "outputs": [
    {
     "name": "stdout",
     "output_type": "stream",
     "text": [
      "748317\n",
      "n = 11; [23, 37, 53, 73, 313, 317, 373, 797, 3137, 3797, 739397]\n",
      "Wall time: 194 ms\n"
     ]
    }
   ],
   "source": [
    "%%time\n",
    "\n",
    "def is_prime(n: int) -> bool:\n",
    "    if n <= 1: return False\n",
    "    elif n <= 3: return True\n",
    "    if not n % 2 or not n % 3: return False\n",
    "    else:\n",
    "        for i in range(5, int(n**0.5) + 1, 6):\n",
    "            if not n % i or not n % (i + 2):\n",
    "                return False\n",
    "    return True\n",
    "\n",
    "def get_all_trunc(n: int) -> list:\n",
    "    return [str_n:= str(n)] + sum([[str_n[i:], str_n[:-i]] for i in range(1, len(str_n))], [])\n",
    "\n",
    "def is_trunc_prime(n: int) -> bool:\n",
    "    return all(is_prime(int(x)) for x in get_all_trunc(n))\n",
    "\n",
    "acc, n, d = [], 0, 11\n",
    "\n",
    "while n < 11:\n",
    "    str_d = str(d)\n",
    "    if str_d[0] in ('2', '3', '5', '7') and str_d[-1] in ('3', '7'):\n",
    "        if set(str_d) <= {'1', '2', '3', '5', '7', '9'}:\n",
    "            if is_trunc_prime(d):\n",
    "                acc.append(d)\n",
    "                n += 1\n",
    "                \n",
    "    str_d_2 = str(d+2)\n",
    "    if str_d_2[0] in ('2', '3', '5', '7') and str_d_2[-1] in ('3', '7'):\n",
    "        if set(str_d_2) <= {'1', '2', '3', '5', '7', '9'}:\n",
    "            if is_trunc_prime(d+2):\n",
    "                acc.append(d+2)\n",
    "                n += 1\n",
    "    d += 6\n",
    "\n",
    "    \n",
    "print(f'{sum(acc)}\\nn = {len(acc)}; {acc}')\n",
    "\n",
    "\n",
    "# 748317\n",
    "# 2022.07.27\n",
    "# Wall time: 194 ms"
   ]
  }
 ],
 "metadata": {
  "kernelspec": {
   "display_name": "Python 3",
   "language": "python",
   "name": "python3"
  },
  "language_info": {
   "codemirror_mode": {
    "name": "ipython",
    "version": 3
   },
   "file_extension": ".py",
   "mimetype": "text/x-python",
   "name": "python",
   "nbconvert_exporter": "python",
   "pygments_lexer": "ipython3",
   "version": "3.8.8"
  }
 },
 "nbformat": 4,
 "nbformat_minor": 5
}
