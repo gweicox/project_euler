{
 "cells": [
  {
   "cell_type": "markdown",
   "id": "335e8558",
   "metadata": {},
   "source": [
    "### 39. Integer right triangles\n",
    "\n",
    "link: https://projecteuler.net/problem=39\n",
    "\n",
    "<p>If <i>p</i> is the perimeter of a right angle triangle with integral length sides, {<i>a</i>,<i>b</i>,<i>c</i>}, there are exactly three solutions for <i>p</i> = 120.</p>\n",
    "<p>{20,48,52}, {24,45,51}, {30,40,50}</p>\n",
    "<p>For which value of <i>p</i> ≤ 1000, is the number of solutions maximised?</p>"
   ]
  },
  {
   "cell_type": "markdown",
   "id": "0f08daef",
   "metadata": {},
   "source": [
    "Solution:\n",
    "$$ \\begin{cases}\n",
    "a + b + c = p \\\\\n",
    "a^2 + b^2 = c^2\n",
    "\\end{cases}  => b = \\frac{2ap - p^2}{2a - 2p}$$"
   ]
  },
  {
   "cell_type": "code",
   "execution_count": 1,
   "id": "64144bda",
   "metadata": {},
   "outputs": [
    {
     "name": "stdout",
     "output_type": "stream",
     "text": [
      "p = 840\n",
      "Wall time: 118 ms\n"
     ]
    }
   ],
   "source": [
    "%%time\n",
    "\n",
    "p_, max_ = 0, 0\n",
    "\n",
    "for p in range(12, 1001):\n",
    "    acc = 0\n",
    "    for a in range(1, p//3):\n",
    "        b = (2*a*p - p**2) / (2*a - 2*p)\n",
    "        if b == int(b):\n",
    "            acc += 1\n",
    "    if acc > max_:\n",
    "        max_, p_ = acc, p\n",
    "\n",
    "print(f'p = {p_}')\n",
    "\n",
    "# 840\n",
    "# 2022.07.29\n",
    "# Wall time: 118 ms"
   ]
  },
  {
   "cell_type": "code",
   "execution_count": 2,
   "id": "e6768377",
   "metadata": {},
   "outputs": [
    {
     "name": "stdout",
     "output_type": "stream",
     "text": [
      "Wall time: 100 ms\n"
     ]
    },
    {
     "data": {
      "text/plain": [
       "840"
      ]
     },
     "execution_count": 2,
     "metadata": {},
     "output_type": "execute_result"
    }
   ],
   "source": [
    "%%time\n",
    "\n",
    "d = [p for p in range(12, 1001) for a in range(1, p//3) if (b:=((2*a*p - p**2) / (2*a - 2*p))) == int(b)]\n",
    "max((q:={x:d.count(x) for x in set(d)}), key=q.get)"
   ]
  }
 ],
 "metadata": {
  "kernelspec": {
   "display_name": "Python 3",
   "language": "python",
   "name": "python3"
  },
  "language_info": {
   "codemirror_mode": {
    "name": "ipython",
    "version": 3
   },
   "file_extension": ".py",
   "mimetype": "text/x-python",
   "name": "python",
   "nbconvert_exporter": "python",
   "pygments_lexer": "ipython3",
   "version": "3.8.8"
  }
 },
 "nbformat": 4,
 "nbformat_minor": 5
}
