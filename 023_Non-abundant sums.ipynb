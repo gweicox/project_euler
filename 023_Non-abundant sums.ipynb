{
 "cells": [
  {
   "cell_type": "markdown",
   "id": "9eb00054",
   "metadata": {},
   "source": [
    "### 23. Non-abundant sums\n",
    "\n",
    "link: https://projecteuler.net/problem=23\n",
    "\n",
    "A perfect number is a number for which the sum of its proper divisors is exactly equal to the number. For example, the sum of the proper divisors of 28 would be 1 + 2 + 4 + 7 + 14 = 28, which means that 28 is a perfect number.\n",
    "\n",
    "A number n is called deficient if the sum of its proper divisors is less than n and it is called abundant if this sum exceeds n.\n",
    "\n",
    "As 12 is the smallest abundant number, 1 + 2 + 3 + 4 + 6 = 16, the smallest number that can be written as the sum of two abundant numbers is 24. By mathematical analysis, it can be shown that all integers greater than 28123 can be written as the sum of two abundant numbers. However, this upper limit cannot be reduced any further by analysis even though it is known that the greatest number that cannot be expressed as the sum of two abundant numbers is less than this limit.\n",
    "\n",
    "Find the sum of all the positive integers which cannot be written as the sum of two abundant numbers.\n",
    "\n"
   ]
  },
  {
   "cell_type": "code",
   "execution_count": 1,
   "id": "d83711d9",
   "metadata": {},
   "outputs": [
    {
     "name": "stdout",
     "output_type": "stream",
     "text": [
      "Wall time: 675 ms\n"
     ]
    },
    {
     "data": {
      "text/plain": [
       "4179871"
      ]
     },
     "execution_count": 1,
     "metadata": {},
     "output_type": "execute_result"
    }
   ],
   "source": [
    "%%time\n",
    "\n",
    "is_abundant = lambda n: n < sum(x + (n // x) * (n**0.5 != x) for x in range(2, int(n**0.5) + 1) if n % x == 0) + 1\n",
    "\n",
    "abundant_numbers = {x for x in range(12, 28_123) if is_abundant(x)}\n",
    "\n",
    "def is_two_abn_sum(n):\n",
    "    for i in abundant_numbers:      \n",
    "        if i > n: return False\n",
    "        if (n - i) in abundant_numbers: return True\n",
    "    return False\n",
    "\n",
    "sum(x for x in range(1, 28_123) if not is_two_abn_sum(x))\n",
    "\n",
    "# 4179871\n",
    "# 2022.07.13\n",
    "# Wall time: 675 ms"
   ]
  }
 ],
 "metadata": {
  "kernelspec": {
   "display_name": "Python 3",
   "language": "python",
   "name": "python3"
  },
  "language_info": {
   "codemirror_mode": {
    "name": "ipython",
    "version": 3
   },
   "file_extension": ".py",
   "mimetype": "text/x-python",
   "name": "python",
   "nbconvert_exporter": "python",
   "pygments_lexer": "ipython3",
   "version": "3.8.8"
  }
 },
 "nbformat": 4,
 "nbformat_minor": 5
}
