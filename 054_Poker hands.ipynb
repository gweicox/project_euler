{
 "cells": [
  {
   "cell_type": "markdown",
   "id": "2dcd52c1",
   "metadata": {},
   "source": [
    "### 54. Poker hands\n",
    "\n",
    "link: https://projecteuler.net/problem=54\n",
    "\n",
    "<p>In the card game poker, a hand consists of five cards and are ranked, from lowest to highest, in the following way:</p>\n",
    "<ul><li><b>High Card</b>: Highest value card.</li>\n",
    "<li><b>One Pair</b>: Two cards of the same value.</li>\n",
    "<li><b>Two Pairs</b>: Two different pairs.</li>\n",
    "<li><b>Three of a Kind</b>: Three cards of the same value.</li>\n",
    "<li><b>Straight</b>: All cards are consecutive values.</li>\n",
    "<li><b>Flush</b>: All cards of the same suit.</li>\n",
    "<li><b>Full House</b>: Three of a kind and a pair.</li>\n",
    "<li><b>Four of a Kind</b>: Four cards of the same value.</li>\n",
    "<li><b>Straight Flush</b>: All cards are consecutive values of same suit.</li>\n",
    "<li><b>Royal Flush</b>: Ten, Jack, Queen, King, Ace, in same suit.</li>\n",
    "</ul><p>The cards are valued in the order:<br />2, 3, 4, 5, 6, 7, 8, 9, 10, Jack, Queen, King, Ace.</p>\n",
    "<p>If two players have the same ranked hands then the rank made up of the highest value wins; for example, a pair of eights beats a pair of fives (see example 1 below). But if two ranks tie, for example, both players have a pair of queens, then highest cards in each hand are compared (see example 4 below); if the highest cards tie then the next highest cards are compared, and so on.</p>\n",
    "<p>Consider the following five hands dealt to two players:</p>\n",
    "<div class=\"center\">\n",
    "<table><tr><td><b>Hand</b></td><td> </td><td><b>Player 1</b></td><td> </td><td><b>Player 2</b></td><td> </td><td><b>Winner</b></td>\n",
    "</tr><tr><td><b>1</b></td><td> </td><td>5H 5C 6S 7S KD<br /><div class=\"smaller\">Pair of Fives</div></td><td> </td><td>2C 3S 8S 8D TD<br /><div class=\"smaller\">Pair of Eights</div></td><td> </td><td>Player 2</td>\n",
    "</tr><tr><td><b>2</b></td><td> </td><td>5D 8C 9S JS AC<br /><div class=\"smaller\">Highest card Ace</div></td><td> </td><td>2C 5C 7D 8S QH<br /><div class=\"smaller\">Highest card Queen</div></td><td> </td><td>Player 1</td>\n",
    "</tr><tr><td><b>3</b></td><td> </td><td>2D 9C AS AH AC<br /><div class=\"smaller\">Three Aces</div></td><td> </td><td>3D 6D 7D TD QD<br /><div class=\"smaller\">Flush  with Diamonds</div></td><td> </td><td>Player 2</td>\n",
    "</tr><tr><td><b>4</b></td><td> </td><td>4D 6S 9H QH QC<br /><div class=\"smaller\">Pair of Queens<br />Highest card Nine</div></td><td> </td><td>3D 6D 7H QD QS<br /><div class=\"smaller\">Pair of Queens<br />Highest card Seven</div></td><td> </td><td>Player 1</td>\n",
    "</tr><tr><td><b>5</b></td><td> </td><td>2H 2D 4C 4D 4S<br /><div class=\"smaller\">Full House<br />With Three Fours</div></td><td> </td><td>3C 3D 3S 9S 9D<br /><div class=\"smaller\">Full House<br />with Three Threes</div></td><td> </td><td>Player 1</td>\n",
    "</tr></table></div>\n",
    "<p>The file, <a href=\"project/resources/p054_poker.txt\">poker.txt</a>, contains one-thousand random hands dealt to two players. Each line of the file contains ten cards (separated by a single space): the first five are Player 1's cards and the last five are Player 2's cards. You can assume that all hands are valid (no invalid characters or repeated cards), each player's hand is in no specific order, and in each hand there is a clear winner.</p>\n",
    "<p>How many hands does Player 1 win?</p>"
   ]
  },
  {
   "cell_type": "code",
   "execution_count": 1,
   "id": "66d02053",
   "metadata": {},
   "outputs": [
    {
     "name": "stdout",
     "output_type": "stream",
     "text": [
      "Wall time: 14 ms\n"
     ]
    },
    {
     "data": {
      "text/plain": [
       "376"
      ]
     },
     "execution_count": 1,
     "metadata": {},
     "output_type": "execute_result"
    }
   ],
   "source": [
    "%%time\n",
    "\n",
    "file = '054_Poker hands_poker.txt'\n",
    "\n",
    "card_values = {'2': 2, '3': 3, '4': 4, '5': 5,\n",
    "               '6': 6, '7': 7, '8': 8, '9': 9,\n",
    "               'T': 10, 'J': 11, 'Q': 12, 'K': 13, 'A': 14}\n",
    "\n",
    "def get_hand_rank(hand):\n",
    "    values = sorted(card_values[x[0]] for x in hand)\n",
    "    value_dict = {v: values.count(v) for v in values}\n",
    "    \n",
    "    is_flush = len(set(x[1] for x in hand)) == 1\n",
    "    is_straight = len(set(values)) == 5 and (values[-1] - values[0]) == 4\n",
    "    \n",
    "    if is_flush and is_straight:\n",
    "        return (9, values[-1])\n",
    "    \n",
    "    if sorted(value_dict.values())[-1] == 4:\n",
    "        return (8, max(value_dict, key=value_dict.get))\n",
    "    \n",
    "    if sorted(value_dict.values()) == [2, 3]:\n",
    "        return (7, max(value_dict, key=value_dict.get))\n",
    "    \n",
    "    if is_flush:\n",
    "        return (6, *values[::-1])\n",
    "    \n",
    "    if is_straight:\n",
    "        return (5, *values[::-1])\n",
    "    \n",
    "    if sorted(value_dict.values()) == [1, 1, 3]:\n",
    "        return (4, max(value_dict, key=value_dict.get))\n",
    "    \n",
    "    if sorted(value_dict.values()) == [1, 2, 2]:\n",
    "        srt = sorted(value_dict, key=value_dict.get)\n",
    "        return (3, *sorted(srt[1:])[::-1] + [srt[0]])\n",
    "    \n",
    "    if sorted(value_dict.values()) == [1, 1, 1, 2]:\n",
    "        srt = sorted(value_dict, key=value_dict.get)\n",
    "        return (2, *[srt[-1]] + sorted(srt[:-1])[::-1])\n",
    "    \n",
    "    return (1, *values[::-1])\n",
    "\n",
    "\n",
    "with open(file) as f:\n",
    "    acc = 0\n",
    "    for line in f:\n",
    "        line = line.split()\n",
    "        hand_1, hand_2 = line[:5], line[5:]\n",
    "        if get_hand_rank(hand_1) > get_hand_rank(hand_2):\n",
    "            acc += 1\n",
    "\n",
    "acc\n",
    "\n",
    "# 376\n",
    "# 2022.08.13\n",
    "# Wall time: 14 ms"
   ]
  }
 ],
 "metadata": {
  "kernelspec": {
   "display_name": "Python 3",
   "language": "python",
   "name": "python3"
  },
  "language_info": {
   "codemirror_mode": {
    "name": "ipython",
    "version": 3
   },
   "file_extension": ".py",
   "mimetype": "text/x-python",
   "name": "python",
   "nbconvert_exporter": "python",
   "pygments_lexer": "ipython3",
   "version": "3.8.8"
  }
 },
 "nbformat": 4,
 "nbformat_minor": 5
}
