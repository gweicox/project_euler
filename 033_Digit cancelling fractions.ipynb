{
 "cells": [
  {
   "cell_type": "markdown",
   "id": "3b25da40",
   "metadata": {},
   "source": [
    "### 33. Digit cancelling fractions\n",
    "\n",
    "link: https://projecteuler.net/problem=33\n",
    "\n",
    "<p>The fraction <sup>49</sup>/<sub>98</sub> is a curious fraction, as an inexperienced mathematician in attempting to simplify it may incorrectly believe that <sup>49</sup>/<sub>98</sub> = <sup>4</sup>/<sub>8</sub>, which is correct, is obtained by cancelling the 9s.</p>\n",
    "<p>We shall consider fractions like, <sup>30</sup>/<sub>50</sub> = <sup>3</sup>/<sub>5</sub>, to be trivial examples.</p>\n",
    "<p>There are exactly four non-trivial examples of this type of fraction, less than one in value, and containing two digits in the numerator and denominator.</p>\n",
    "<p>If the product of these four fractions is given in its lowest common terms, find the value of the denominator.</p>"
   ]
  },
  {
   "cell_type": "code",
   "execution_count": 1,
   "id": "3ffd0f56",
   "metadata": {},
   "outputs": [
    {
     "name": "stdout",
     "output_type": "stream",
     "text": [
      "100\n",
      "Wall time: 0 ns\n"
     ]
    }
   ],
   "source": [
    "%%time\n",
    "\n",
    "def gcd(a: int, b: int) -> int: \n",
    "    while b != 0: \n",
    "        a, b = b, a % b \n",
    "    return a\n",
    "\n",
    "numerator = 1\n",
    "denominator = 1\n",
    "\n",
    "for a in range(1, 9):\n",
    "    for c in range(a + 1, 10):\n",
    "        \n",
    "        # ab/bc = a/c\n",
    "        for b in range(a + 1, 10):\n",
    "            if (10 * a + b) * c == (10 * b + c) * a:\n",
    "                numerator *= a\n",
    "                denominator *= c\n",
    "        \n",
    "        # ba/cb = a/c\n",
    "        for b in range(1, c):\n",
    "            if (10 * b + a) * c == (10 * c + b) * a:\n",
    "                numerator *= a\n",
    "                denominator *= c\n",
    "        \n",
    "print(int(denominator / gcd(numerator, denominator)))\n",
    "\n",
    "# 100\n",
    "# 2022.07.23\n",
    "# Wall time: 0 ns"
   ]
  }
 ],
 "metadata": {
  "kernelspec": {
   "display_name": "Python 3",
   "language": "python",
   "name": "python3"
  },
  "language_info": {
   "codemirror_mode": {
    "name": "ipython",
    "version": 3
   },
   "file_extension": ".py",
   "mimetype": "text/x-python",
   "name": "python",
   "nbconvert_exporter": "python",
   "pygments_lexer": "ipython3",
   "version": "3.8.8"
  }
 },
 "nbformat": 4,
 "nbformat_minor": 5
}
