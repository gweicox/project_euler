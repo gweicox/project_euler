{
 "cells": [
  {
   "cell_type": "markdown",
   "id": "62e6d7d6",
   "metadata": {},
   "source": [
    "### 52. Permuted multiples\n",
    "\n",
    "link: https://projecteuler.net/problem=52\n",
    "\n",
    "<p>It can be seen that the number, 125874, and its double, 251748, contain exactly the same digits, but in a different order.</p>\n",
    "<p>Find the smallest positive integer, <i>x</i>, such that 2<i>x</i>, 3<i>x</i>, 4<i>x</i>, 5<i>x</i>, and 6<i>x</i>, contain the same digits.</p>"
   ]
  },
  {
   "cell_type": "code",
   "execution_count": 1,
   "id": "0ec455e1",
   "metadata": {},
   "outputs": [
    {
     "name": "stdout",
     "output_type": "stream",
     "text": [
      "142857\n",
      "Wall time: 184 ms\n"
     ]
    }
   ],
   "source": [
    "%%time\n",
    "\n",
    "n = 1\n",
    "\n",
    "def f(n: int) -> list:\n",
    "    return sorted(str(n))\n",
    "    \n",
    "while True:\n",
    "    if f(n) == f(2*n) == f(3*n) == f(4*n) == f(5*n) == f(6*n):\n",
    "        print(n)\n",
    "        break\n",
    "    n += 1\n",
    "\n",
    "# 142857\n",
    "# 2022.08.11\n",
    "# Wall time: 184 ms"
   ]
  }
 ],
 "metadata": {
  "kernelspec": {
   "display_name": "Python 3",
   "language": "python",
   "name": "python3"
  },
  "language_info": {
   "codemirror_mode": {
    "name": "ipython",
    "version": 3
   },
   "file_extension": ".py",
   "mimetype": "text/x-python",
   "name": "python",
   "nbconvert_exporter": "python",
   "pygments_lexer": "ipython3",
   "version": "3.8.8"
  }
 },
 "nbformat": 4,
 "nbformat_minor": 5
}
