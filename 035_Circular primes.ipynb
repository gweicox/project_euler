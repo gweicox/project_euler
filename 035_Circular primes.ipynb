{
 "cells": [
  {
   "cell_type": "markdown",
   "id": "24c49fb1",
   "metadata": {},
   "source": [
    "### 35. Circular primes\n",
    "\n",
    "link: https://projecteuler.net/problem=35\n",
    "\n",
    "<p>The number, 197, is called a circular prime because all rotations of the digits: 197, 971, and 719, are themselves prime.</p>\n",
    "<p>There are thirteen such primes below 100: 2, 3, 5, 7, 11, 13, 17, 31, 37, 71, 73, 79, and 97.</p>\n",
    "<p>How many circular primes are there below one million?</p>"
   ]
  },
  {
   "cell_type": "code",
   "execution_count": 1,
   "id": "a6e5f419",
   "metadata": {},
   "outputs": [
    {
     "name": "stdout",
     "output_type": "stream",
     "text": [
      "Wall time: 243 ms\n"
     ]
    },
    {
     "data": {
      "text/plain": [
       "55"
      ]
     },
     "execution_count": 1,
     "metadata": {},
     "output_type": "execute_result"
    }
   ],
   "source": [
    "%%time\n",
    "\n",
    "def is_prime(number: int) -> bool:\n",
    "    if number <= 1: return False\n",
    "    elif number <= 3: return True\n",
    "    if not number % 2 or not number % 3: return False\n",
    "    else:\n",
    "        for i in range(5, int(number**0.5) + 1, 6):\n",
    "            if not number % i or not number % (i + 2):\n",
    "                return False\n",
    "    return True\n",
    "\n",
    "def get_all_rotations(n: int) -> list:\n",
    "    return [str_n:= str(n)] + [(str_n:= str_n[1:] + str_n[0]) for _ in range(len(str_n) - 1)]\n",
    "\n",
    "def is_circular_prime(n: int) -> bool:\n",
    "    return all(is_prime(int(x)) for x in get_all_rotations(n))\n",
    "\n",
    "acc = 4 # 2, 3, 5, 7\n",
    "\n",
    "for n in range(11, 10**6 + 1, 6):\n",
    "    if set(str(n)) <= {'1', '3', '7', '9'}:\n",
    "        if is_circular_prime(n):\n",
    "            acc += 1\n",
    "    if set(str(n+2)) <= {'1', '3', '7', '9'}:\n",
    "        if is_circular_prime(n+2):\n",
    "            acc += 1\n",
    "\n",
    "acc\n",
    "\n",
    "# 55\n",
    "# 2022.07.25\n",
    "# Wall time: 243 ms"
   ]
  }
 ],
 "metadata": {
  "kernelspec": {
   "display_name": "Python 3",
   "language": "python",
   "name": "python3"
  },
  "language_info": {
   "codemirror_mode": {
    "name": "ipython",
    "version": 3
   },
   "file_extension": ".py",
   "mimetype": "text/x-python",
   "name": "python",
   "nbconvert_exporter": "python",
   "pygments_lexer": "ipython3",
   "version": "3.8.8"
  }
 },
 "nbformat": 4,
 "nbformat_minor": 5
}
