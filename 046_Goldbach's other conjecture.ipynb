{
 "cells": [
  {
   "cell_type": "markdown",
   "id": "4b3fc1d9",
   "metadata": {},
   "source": [
    "### 46. Goldbach's other conjecture\n",
    "\n",
    "link: https://projecteuler.net/problem=46\n",
    "\n",
    "<p>It was proposed by Christian Goldbach that every odd composite number can be written as the sum of a prime and twice a square.</p>\n",
    "<p class=\"margin_left\">9 = 7 + 2×1<sup>2</sup><br />\n",
    "15 = 7 + 2×2<sup>2</sup><br />\n",
    "21 = 3 + 2×3<sup>2</sup><br />\n",
    "25 = 7 + 2×3<sup>2</sup><br />\n",
    "27 = 19 + 2×2<sup>2</sup><br />\n",
    "33 = 31 + 2×1<sup>2</sup></p>\n",
    "<p>It turns out that the conjecture was false.</p>\n",
    "<p>What is the smallest odd composite that cannot be written as the sum of a prime and twice a square?</p>"
   ]
  },
  {
   "cell_type": "code",
   "execution_count": 1,
   "id": "bb5c51c2",
   "metadata": {},
   "outputs": [
    {
     "name": "stdout",
     "output_type": "stream",
     "text": [
      "1\n",
      "5777\n",
      "5993\n",
      "Wall time: 195 ms\n"
     ]
    }
   ],
   "source": [
    "%%time\n",
    "\n",
    "\n",
    "n = 10_000\n",
    "sieve = list(range(n + 1))\n",
    "sieve[1] = 0\n",
    "\n",
    "for k, i in enumerate(sieve):\n",
    "    if i > 1:\n",
    "        for j in range(i * i, n + 1, i):\n",
    "            sieve[j] = 0\n",
    "    else:\n",
    "        if k % 2: \n",
    "            if all((((k - p) / 2) ** 0.5) % 1 for p in sieve[2:k] if p > 0):\n",
    "                print(k)\n",
    "\n",
    "# 5777\n",
    "# 2022.08.05\n",
    "# Wall time: 195 ms"
   ]
  }
 ],
 "metadata": {
  "kernelspec": {
   "display_name": "Python 3",
   "language": "python",
   "name": "python3"
  },
  "language_info": {
   "codemirror_mode": {
    "name": "ipython",
    "version": 3
   },
   "file_extension": ".py",
   "mimetype": "text/x-python",
   "name": "python",
   "nbconvert_exporter": "python",
   "pygments_lexer": "ipython3",
   "version": "3.8.8"
  }
 },
 "nbformat": 4,
 "nbformat_minor": 5
}
