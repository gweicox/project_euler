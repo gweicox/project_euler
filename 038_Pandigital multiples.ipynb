{
 "cells": [
  {
   "cell_type": "markdown",
   "id": "7634f084",
   "metadata": {},
   "source": [
    "### 38. Pandigital multiples\n",
    "\n",
    "link: https://projecteuler.net/problem=38\n",
    "\n",
    "<p>Take the number 192 and multiply it by each of 1, 2, and 3:</p>\n",
    "<blockquote>192 × 1 = 192<br />\n",
    "192 × 2 = 384<br />\n",
    "192 × 3 = 576</blockquote>\n",
    "<p>By concatenating each product we get the 1 to 9 pandigital, 192384576. We will call 192384576 the concatenated product of 192 and (1,2,3)</p>\n",
    "<p>The same can be achieved by starting with 9 and multiplying by 1, 2, 3, 4, and 5, giving the pandigital, 918273645, which is the concatenated product of 9 and (1,2,3,4,5).</p>\n",
    "<p>What is the largest 1 to 9 pandigital 9-digit number that can be formed as the concatenated product of an integer with (1,2, ... , <var>n</var>) where <var>n</var> &gt; 1?</p>"
   ]
  },
  {
   "cell_type": "code",
   "execution_count": 1,
   "id": "e88f63b7",
   "metadata": {},
   "outputs": [
    {
     "name": "stdout",
     "output_type": "stream",
     "text": [
      "Wall time: 21 ms\n"
     ]
    },
    {
     "data": {
      "text/plain": [
       "'932718654'"
      ]
     },
     "execution_count": 1,
     "metadata": {},
     "output_type": "execute_result"
    }
   ],
   "source": [
    "%%time\n",
    "\n",
    "def get_concat_prod(a: int, n: int) -> str:\n",
    "    return ''.join(str(a * b) for b in range(1, n + 1))\n",
    "\n",
    "def is_1_to_9_pandigital(n: str) -> bool:\n",
    "    return len(n) == 9 and set(n) == set(map(str, range(1, 10)))\n",
    "\n",
    "res = ''\n",
    "\n",
    "for a in range(9, 9876 + 1):\n",
    "    if (a_:=str(a))[0] == '9' and len(set(a_)) == len(a_):\n",
    "        for n in range(2, 9 + 1):\n",
    "            concat_prod = get_concat_prod(a, n)\n",
    "            if is_1_to_9_pandigital(concat_prod):\n",
    "                res = max(concat_prod, res)\n",
    "\n",
    "res\n",
    "\n",
    "# 932718654\n",
    "# 2022.07.28\n",
    "# Wall time: 21 ms"
   ]
  }
 ],
 "metadata": {
  "kernelspec": {
   "display_name": "Python 3",
   "language": "python",
   "name": "python3"
  },
  "language_info": {
   "codemirror_mode": {
    "name": "ipython",
    "version": 3
   },
   "file_extension": ".py",
   "mimetype": "text/x-python",
   "name": "python",
   "nbconvert_exporter": "python",
   "pygments_lexer": "ipython3",
   "version": "3.8.8"
  }
 },
 "nbformat": 4,
 "nbformat_minor": 5
}
