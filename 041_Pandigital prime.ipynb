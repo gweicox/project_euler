{
 "cells": [
  {
   "cell_type": "markdown",
   "id": "22f06040",
   "metadata": {},
   "source": [
    "### 41.  Pandigital prime\n",
    "\n",
    "link: https://projecteuler.net/problem=41\n",
    "\n",
    "<p>We shall say that an <i>n</i>-digit number is pandigital if it makes use of all the digits 1 to <i>n</i> exactly once. For example, 2143 is a 4-digit pandigital and is also prime.</p>\n",
    "<p>What is the largest <i>n</i>-digit pandigital prime that exists?</p>"
   ]
  },
  {
   "cell_type": "code",
   "execution_count": 1,
   "id": "d7d20ca8",
   "metadata": {},
   "outputs": [
    {
     "name": "stdout",
     "output_type": "stream",
     "text": [
      "Wall time: 5.03 ms\n"
     ]
    },
    {
     "data": {
      "text/plain": [
       "7652413"
      ]
     },
     "execution_count": 1,
     "metadata": {},
     "output_type": "execute_result"
    }
   ],
   "source": [
    "%%time\n",
    "\n",
    "from itertools import permutations as p\n",
    "\n",
    "\n",
    "def is_prime(n: int) -> bool:\n",
    "    if n <= 1: return False\n",
    "    if n <= 3: return True\n",
    "    if not n % 2 or not n % 3: return False\n",
    "    for i in range(5, int(n**.5) + 1, 6):\n",
    "        if not n % i or not n % (i + 2): return False\n",
    "    return True\n",
    "\n",
    "# (1+2+3+4+5+6+7+8+9) % 3 = 0 => not prime\n",
    "# (1+2+3+4+5+6+7) % 3 = 1 => mayby there is\n",
    "\n",
    "max(n for x in p('123456') if is_prime(n:=int('7' + ''.join(x))))\n",
    "\n",
    "# 7652413\n",
    "# 2022.07.31\n",
    "# Wall time: 5.03 ms"
   ]
  }
 ],
 "metadata": {
  "kernelspec": {
   "display_name": "Python 3",
   "language": "python",
   "name": "python3"
  },
  "language_info": {
   "codemirror_mode": {
    "name": "ipython",
    "version": 3
   },
   "file_extension": ".py",
   "mimetype": "text/x-python",
   "name": "python",
   "nbconvert_exporter": "python",
   "pygments_lexer": "ipython3",
   "version": "3.8.8"
  }
 },
 "nbformat": 4,
 "nbformat_minor": 5
}
