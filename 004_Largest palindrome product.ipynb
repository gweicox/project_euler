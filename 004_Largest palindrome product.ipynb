{
 "cells": [
  {
   "cell_type": "markdown",
   "id": "114be139",
   "metadata": {},
   "source": [
    "### 4.  Largest palindrome product\n",
    "link: https://projecteuler.net/problem=4\n",
    "\n",
    "\n",
    "A palindromic number reads the same both ways. The largest palindrome made from the product of two 2-digit numbers is 9009 = 91 × 99.\n",
    "\n",
    "Find the largest palindrome made from the product of two 3-digit numbers.\n"
   ]
  },
  {
   "cell_type": "code",
   "execution_count": 1,
   "id": "24f545e5",
   "metadata": {},
   "outputs": [],
   "source": [
    "def largest_palindrome_product(n_digit: int) -> int:\n",
    "    \n",
    "    def is_palindrome(n: int) -> bool:\n",
    "        return (s:=str(n)) == s[::-1]\n",
    "    \n",
    "    min_ = (10 ** n_digit) - (10 ** (n_digit - 1)) + 1\n",
    "    max_ = (10 ** n_digit)\n",
    "    \n",
    "    largest_palindrome = 0\n",
    "    \n",
    "    for i in (x for x in range(min_, max_, 2) if str(x)[-1] in '1379'):\n",
    "        for j in (x for x in range(i, max_, 2) if str(x)[-1] in '1379'):\n",
    "            product = i * j\n",
    "            if is_palindrome(product):\n",
    "                if product > largest_palindrome:\n",
    "                    largest_palindrome = product\n",
    "  \n",
    "    return largest_palindrome"
   ]
  },
  {
   "cell_type": "code",
   "execution_count": 2,
   "id": "05f73e8a",
   "metadata": {},
   "outputs": [
    {
     "name": "stdout",
     "output_type": "stream",
     "text": [
      "Wall time: 996 µs\n"
     ]
    },
    {
     "data": {
      "text/plain": [
       "906609"
      ]
     },
     "execution_count": 2,
     "metadata": {},
     "output_type": "execute_result"
    }
   ],
   "source": [
    "%%time\n",
    "\n",
    "largest_palindrome_product(3)\n",
    "\n",
    "# 2022.06.24"
   ]
  },
  {
   "cell_type": "code",
   "execution_count": 3,
   "id": "3034707d",
   "metadata": {},
   "outputs": [
    {
     "name": "stdout",
     "output_type": "stream",
     "text": [
      "Wall time: 999 µs\n"
     ]
    },
    {
     "data": {
      "text/plain": [
       "906609"
      ]
     },
     "execution_count": 3,
     "metadata": {},
     "output_type": "execute_result"
    }
   ],
   "source": [
    "%%time\n",
    "\n",
    "max([x * y for x in range(901, 1000, 2) for y in range(x, 1000, 2) if (p := str(x * y)) == p[::-1]])\n",
    "\n",
    "# 2022.06.24"
   ]
  }
 ],
 "metadata": {
  "kernelspec": {
   "display_name": "Python 3",
   "language": "python",
   "name": "python3"
  },
  "language_info": {
   "codemirror_mode": {
    "name": "ipython",
    "version": 3
   },
   "file_extension": ".py",
   "mimetype": "text/x-python",
   "name": "python",
   "nbconvert_exporter": "python",
   "pygments_lexer": "ipython3",
   "version": "3.8.8"
  }
 },
 "nbformat": 4,
 "nbformat_minor": 5
}
