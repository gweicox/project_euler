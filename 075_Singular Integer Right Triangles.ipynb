{
 "cells": [
  {
   "cell_type": "markdown",
   "id": "0ce79ac5",
   "metadata": {},
   "source": [
    "### 75. Singular Integer Right Triangles\n",
    "\n",
    "link: https://projecteuler.net/problem=75\n",
    "\n",
    "<p>It turns out that $\\textbf{12 cm}$ is the smallest length of wire that can be bent to form an integer sided right angle triangle in exactly one way, but there are many more examples.</p>\n",
    "\n",
    "<ul style=\"list-style-type:none;\">\n",
    "<li>$\\textbf{12 cm}$: $(3,4,5)$</li>\n",
    "<li>$\\textbf{24 cm}$: $(6,8,10)$</li>\n",
    "<li>$\\textbf{30 cm}$: $(5,12,13)$</li>\n",
    "<li>$\\textbf{36 cm}$: $(9,12,15)$</li>\n",
    "<li>$\\textbf{40 cm}$: $(8,15,17)$</li>\n",
    "<li>$\\textbf{48 cm}$: $(12,16,20)$</li>\n",
    "</ul>\n",
    "\n",
    "<p>In contrast, some lengths of wire, like $\\textbf{20 cm}$, cannot be bent to form an integer sided right angle triangle, and other lengths allow more than one solution to be found; for example, using $\\textbf{120 cm}$ it is possible to form exactly three different integer sided right angle triangles.</p>\n",
    "\n",
    "<ul style=\"list-style-type:none;\">\n",
    "<li>$\\textbf{120 cm}$: $(30,40,50)$, $(20,48,52)$, $(24,45,51)$</li>\n",
    "</ul>\n",
    "\n",
    "<p>Given that $L$ is the length of the wire, for how many values of $L \\le 1\\,500\\,000$ can exactly one integer sided right angle triangle be formed?</p>\n"
   ]
  },
  {
   "cell_type": "code",
   "execution_count": 1,
   "id": "7b453b9a",
   "metadata": {},
   "outputs": [
    {
     "name": "stdout",
     "output_type": "stream",
     "text": [
      "Wall time: 471 ms\n"
     ]
    },
    {
     "data": {
      "text/plain": [
       "161667"
      ]
     },
     "execution_count": 1,
     "metadata": {},
     "output_type": "execute_result"
    }
   ],
   "source": [
    "%%time\n",
    "\n",
    "\n",
    "#https://en.wikipedia.org/wiki/Pythagorean_triple\n",
    "\n",
    "from math import gcd\n",
    "\n",
    "\n",
    "def get_L(n, m):\n",
    "    return 2 * m * (n + m)\n",
    "\n",
    "\n",
    "def algos(limit):\n",
    "    arr = [0] * (limit + 1)\n",
    "\n",
    "    for n in range(1, limit):\n",
    "        if get_L(n, n + 1) > limit: break\n",
    "\n",
    "        for m in range(n+1, limit):\n",
    "            if gcd(n, m) == 1 and not (n % 2 and m % 2):\n",
    "                k, L = 2, get_L(n, m)\n",
    "                if L > limit: break\n",
    "                arr[L] += 1\n",
    "\n",
    "                while True:\n",
    "                    L_curr = L * k\n",
    "                    if L_curr > limit: break\n",
    "                    arr[L_curr] += 1\n",
    "                    k += 1\n",
    "\n",
    "    return sum(e == 1 for e in arr)\n",
    "\n",
    "\n",
    "algos(1_500_000)\n",
    "\n",
    "# 161667\n",
    "# 2024.02.14\n",
    "# Wall time: 471 ms"
   ]
  }
 ],
 "metadata": {
  "kernelspec": {
   "display_name": "Python 3",
   "language": "python",
   "name": "python3"
  },
  "language_info": {
   "codemirror_mode": {
    "name": "ipython",
    "version": 3
   },
   "file_extension": ".py",
   "mimetype": "text/x-python",
   "name": "python",
   "nbconvert_exporter": "python",
   "pygments_lexer": "ipython3",
   "version": "3.8.8"
  }
 },
 "nbformat": 4,
 "nbformat_minor": 5
}
