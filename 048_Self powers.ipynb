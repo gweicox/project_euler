{
 "cells": [
  {
   "cell_type": "markdown",
   "id": "f387cfc6",
   "metadata": {},
   "source": [
    "### 48. Self powers\n",
    "\n",
    "link: https://projecteuler.net/problem=48\n",
    "\n",
    "  \n",
    "<p>The series, 1<sup>1</sup> + 2<sup>2</sup> + 3<sup>3</sup> + ... + 10<sup>10</sup> = 10405071317.</p>\n",
    "<p>Find the last ten digits of the series, 1<sup>1</sup> + 2<sup>2</sup> + 3<sup>3</sup> + ... + 1000<sup>1000</sup>.</p>"
   ]
  },
  {
   "cell_type": "code",
   "execution_count": 1,
   "id": "f04d9189",
   "metadata": {},
   "outputs": [
    {
     "name": "stdout",
     "output_type": "stream",
     "text": [
      "Wall time: 9 ms\n"
     ]
    },
    {
     "data": {
      "text/plain": [
       "'9110846700'"
      ]
     },
     "execution_count": 1,
     "metadata": {},
     "output_type": "execute_result"
    }
   ],
   "source": [
    "%%time\n",
    "\n",
    "\n",
    "str(sum(x ** x for x in range(1, 1001)))[-10:]\n",
    "\n",
    "\n",
    "# 9110846700\n",
    "# 2022.08.07\n",
    "# Wall time: 9 ms"
   ]
  }
 ],
 "metadata": {
  "kernelspec": {
   "display_name": "Python 3",
   "language": "python",
   "name": "python3"
  },
  "language_info": {
   "codemirror_mode": {
    "name": "ipython",
    "version": 3
   },
   "file_extension": ".py",
   "mimetype": "text/x-python",
   "name": "python",
   "nbconvert_exporter": "python",
   "pygments_lexer": "ipython3",
   "version": "3.8.8"
  }
 },
 "nbformat": 4,
 "nbformat_minor": 5
}
