{
 "cells": [
  {
   "cell_type": "markdown",
   "id": "26657c0d",
   "metadata": {},
   "source": [
    "### 74. Digit Factorial Chains\n",
    "\n",
    "link: https://projecteuler.net/problem=XX\n",
    "\n",
    "<p>The number $145$ is well known for the property that the sum of the factorial of its digits is equal to $145$:\n",
    "<br>\n",
    "\n",
    "$$1! + 4! + 5! = 1 + 24 + 120 = 145.$$</p>\n",
    "\n",
    "<p>Perhaps less well known is $169$, in that it produces the longest chain of numbers that link back to $169$; it turns out that there are only three such loops that exist:</p>\n",
    "\n",
    "$$\n",
    "\\begin{align}\n",
    "& 169 \\to 363601 \\to 1454 \\to 169\\\\\n",
    "& 871 \\to 45361 \\to 871\\\\\n",
    "& 872 \\to 45362 \\to 872\n",
    "\\end{align}\n",
    "$$\n",
    "\n",
    "<p>It is not difficult to prove that EVERY starting number will eventually get stuck in a loop. For example,</p>\n",
    "\n",
    "$$\n",
    "\\begin{align}\n",
    "& 69 \\to 363600 \\to 1454 \\to 169 \\to 363601 (\\to 1454)\\\\\n",
    "& 78 \\to 45360 \\to 871 \\to 45361 (\\to 871)\\\\\n",
    "& 540 \\to 145 (\\to 145)\n",
    "\\end{align}\n",
    "$$\n",
    "\n",
    "<p>Starting with $69$ produces a chain of five non-repeating terms, but the longest non-repeating chain with a starting number below one million is sixty terms.</p>\n",
    "\n",
    "<p>How many chains, with a starting number below one million, contain exactly sixty non-repeating terms?</p>"
   ]
  },
  {
   "cell_type": "code",
   "execution_count": 1,
   "id": "981be4d7",
   "metadata": {},
   "outputs": [
    {
     "name": "stdout",
     "output_type": "stream",
     "text": [
      "Wall time: 1.93 s\n"
     ]
    },
    {
     "data": {
      "text/plain": [
       "402"
      ]
     },
     "execution_count": 1,
     "metadata": {},
     "output_type": "execute_result"
    }
   ],
   "source": [
    "%%time\n",
    "\n",
    "from math import factorial\n",
    "\n",
    "\n",
    "f = {x: factorial(int(x)) for x in \"0123456789\"}\n",
    "\n",
    "cache = {145: 1,\n",
    "         871: 2, 872: 2, 45361: 2, 45362: 2,\n",
    "         169: 3, 1454: 3, 363601: 3}\n",
    "\n",
    "def get_chain_len(n, cache):\n",
    "    if n in cache:\n",
    "        return cache[n]\n",
    "\n",
    "    curr, chain = n, set()\n",
    "\n",
    "    while True:\n",
    "        chain.add(curr)\n",
    "        curr = sum(f[x] for x in str(curr))\n",
    "\n",
    "        if curr in cache:\n",
    "            cache[n] = len(chain) + cache[curr]\n",
    "            return cache[n]\n",
    "\n",
    "        if curr in chain:\n",
    "            cache[n] = len(chain)\n",
    "            return cache[n]\n",
    "\n",
    "acc = 0\n",
    "\n",
    "for n in range(1, 10**6):\n",
    "    if get_chain_len(n, cache) == 60:\n",
    "        acc += 1\n",
    "\n",
    "acc\n",
    "\n",
    "# 402\n",
    "# 2024.02.13\n",
    "# Wall time: 1.93 s"
   ]
  }
 ],
 "metadata": {
  "kernelspec": {
   "display_name": "Python 3",
   "language": "python",
   "name": "python3"
  },
  "language_info": {
   "codemirror_mode": {
    "name": "ipython",
    "version": 3
   },
   "file_extension": ".py",
   "mimetype": "text/x-python",
   "name": "python",
   "nbconvert_exporter": "python",
   "pygments_lexer": "ipython3",
   "version": "3.8.8"
  }
 },
 "nbformat": 4,
 "nbformat_minor": 5
}
