{
 "cells": [
  {
   "cell_type": "markdown",
   "id": "bb5cbb5e",
   "metadata": {},
   "source": [
    "### 34. Digit factorials\n",
    "\n",
    "link: https://projecteuler.net/problem=34\n",
    "\n",
    "<p>145 is a curious number, as 1! + 4! + 5! = 1 + 24 + 120 = 145.</p>\n",
    "<p>Find the sum of all numbers which are equal to the sum of the factorial of their digits.</p>\n",
    "<p class=\"smaller\">Note: As 1! = 1 and 2! = 2 are not sums they are not included.</p>"
   ]
  },
  {
   "cell_type": "code",
   "execution_count": 1,
   "id": "42299ca6",
   "metadata": {},
   "outputs": [
    {
     "name": "stdout",
     "output_type": "stream",
     "text": [
      "Wall time: 215 ms\n"
     ]
    },
    {
     "data": {
      "text/plain": [
       "40730"
      ]
     },
     "execution_count": 1,
     "metadata": {},
     "output_type": "execute_result"
    }
   ],
   "source": [
    "%%time\n",
    "\n",
    "from math import factorial as f\n",
    "\n",
    "d_factorials = {str(x): f(x) for x in range(10)}\n",
    "\n",
    "def is_sum_dfn_eq_n(n: int) -> bool:\n",
    "    return n == sum(map(lambda x: d_factorials[x], str(n)))\n",
    "\n",
    "sum(n for n in range(10, 10**5) if is_sum_dfn_eq_n(n))\n",
    "\n",
    "\n",
    "# 40730\n",
    "# 2022.07.24\n",
    "# Wall time: 215 ms"
   ]
  },
  {
   "cell_type": "code",
   "execution_count": 2,
   "id": "bc56a248",
   "metadata": {},
   "outputs": [
    {
     "name": "stdout",
     "output_type": "stream",
     "text": [
      "1\n",
      "2\n",
      "145\n",
      "40585\n"
     ]
    }
   ],
   "source": [
    "for n in range(1, 10**6):\n",
    "    if is_sum_dfn_eq_n(n):\n",
    "        print(n)"
   ]
  }
 ],
 "metadata": {
  "kernelspec": {
   "display_name": "Python 3",
   "language": "python",
   "name": "python3"
  },
  "language_info": {
   "codemirror_mode": {
    "name": "ipython",
    "version": 3
   },
   "file_extension": ".py",
   "mimetype": "text/x-python",
   "name": "python",
   "nbconvert_exporter": "python",
   "pygments_lexer": "ipython3",
   "version": "3.8.8"
  }
 },
 "nbformat": 4,
 "nbformat_minor": 5
}
