{
 "cells": [
  {
   "cell_type": "markdown",
   "id": "dd1f263c",
   "metadata": {},
   "source": [
    "### 76. Counting Summations\n",
    "\n",
    "link: https://projecteuler.net/problem=76\n",
    "\n",
    "<p>It is possible to write five as a sum in exactly six different ways:</p>\n",
    "\n",
    "\\begin{align}\n",
    "& 4 + 1\\\\\n",
    "& 3 + 2\\\\\n",
    "& 3 + 1 + 1\\\\\n",
    "& 2 + 2 + 1\\\\\n",
    "& 2 + 1 + 1 + 1\\\\\n",
    "& 1 + 1 + 1 + 1 + 1\n",
    "\\end{align}\n",
    "\n",
    "<p>How many different ways can one hundred be written as a sum of at least two positive integers?</p>\n"
   ]
  },
  {
   "cell_type": "code",
   "execution_count": 1,
   "id": "c9e7b630",
   "metadata": {},
   "outputs": [
    {
     "name": "stdout",
     "output_type": "stream",
     "text": [
      "Wall time: 554 ms\n"
     ]
    },
    {
     "data": {
      "text/plain": [
       "190569291"
      ]
     },
     "execution_count": 1,
     "metadata": {},
     "output_type": "execute_result"
    }
   ],
   "source": [
    "%%time\n",
    "\n",
    "# https://mathworld.wolfram.com/PartitionFunctionP.html\n",
    "# https://oeis.org/A000041\n",
    "\n",
    "from sympy.ntheory import npartitions\n",
    "\n",
    "\n",
    "npartitions(100) - 1\n",
    "\n",
    "# 190569291\n",
    "# 2024.02.15\n",
    "# Wall time: 554 ms"
   ]
  },
  {
   "cell_type": "code",
   "execution_count": 2,
   "id": "dc590851",
   "metadata": {},
   "outputs": [
    {
     "name": "stdout",
     "output_type": "stream",
     "text": [
      "Wall time: 1.04 ms\n"
     ]
    },
    {
     "data": {
      "text/plain": [
       "190569291"
      ]
     },
     "execution_count": 2,
     "metadata": {},
     "output_type": "execute_result"
    }
   ],
   "source": [
    "%%time\n",
    "\n",
    "\n",
    "def partition(n):\n",
    "    dp = [0] * (n+1)\n",
    "    dp[0] = 1\n",
    "\n",
    "    for i in range(1, n):\n",
    "        for j in range(i, n+1):\n",
    "            dp[j] += dp[j-i]\n",
    "\n",
    "    return dp[n]\n",
    "\n",
    "partition(100)"
   ]
  }
 ],
 "metadata": {
  "kernelspec": {
   "display_name": "Python 3",
   "language": "python",
   "name": "python3"
  },
  "language_info": {
   "codemirror_mode": {
    "name": "ipython",
    "version": 3
   },
   "file_extension": ".py",
   "mimetype": "text/x-python",
   "name": "python",
   "nbconvert_exporter": "python",
   "pygments_lexer": "ipython3",
   "version": "3.8.8"
  }
 },
 "nbformat": 4,
 "nbformat_minor": 5
}
