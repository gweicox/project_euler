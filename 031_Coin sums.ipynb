{
 "cells": [
  {
   "cell_type": "markdown",
   "id": "c38e7974",
   "metadata": {},
   "source": [
    "### 31.  Coin sums\n",
    "\n",
    "link: https://projecteuler.net/problem=31\n",
    "\n",
    "<p>In the United Kingdom the currency is made up of pound (£) and pence (p). There are eight coins in general circulation:</p>\n",
    "<blockquote>1p, 2p, 5p, 10p, 20p, 50p, £1 (100p), and £2 (200p).</blockquote>\n",
    "<p>It is possible to make £2 in the following way:</p>\n",
    "<blockquote>1×£1 + 1×50p + 2×20p + 1×5p + 1×2p + 3×1p</blockquote>\n",
    "<p>How many different ways can £2 be made using any number of coins?</p>"
   ]
  },
  {
   "cell_type": "code",
   "execution_count": 1,
   "id": "68a4a6ab",
   "metadata": {},
   "outputs": [
    {
     "name": "stdout",
     "output_type": "stream",
     "text": [
      "Wall time: 8.03 ms\n"
     ]
    },
    {
     "data": {
      "text/plain": [
       "73682"
      ]
     },
     "execution_count": 1,
     "metadata": {},
     "output_type": "execute_result"
    }
   ],
   "source": [
    "%%time\n",
    "\n",
    "\n",
    "acc = 1\n",
    "\n",
    "for a in range(0, 201, 100):  \n",
    "    for b in range(0, 201 - a, 50):      \n",
    "        for c in range(0, 201 - a - b, 20):       \n",
    "            for d in range(0, 201 - a - b - c, 10):     \n",
    "                for e in range(0, 201 - a - b - c - d, 5):\n",
    "                    for f in range(0, 201 - a - b - c - d - e, 2):\n",
    "                        acc += 1\n",
    "\n",
    "acc\n",
    "\n",
    "# 73682\n",
    "# 2022.07.21\n",
    "# Wall time: 8.03 ms"
   ]
  }
 ],
 "metadata": {
  "kernelspec": {
   "display_name": "Python 3",
   "language": "python",
   "name": "python3"
  },
  "language_info": {
   "codemirror_mode": {
    "name": "ipython",
    "version": 3
   },
   "file_extension": ".py",
   "mimetype": "text/x-python",
   "name": "python",
   "nbconvert_exporter": "python",
   "pygments_lexer": "ipython3",
   "version": "3.8.8"
  }
 },
 "nbformat": 4,
 "nbformat_minor": 5
}
