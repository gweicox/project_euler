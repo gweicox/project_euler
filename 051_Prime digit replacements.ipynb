{
 "cells": [
  {
   "cell_type": "markdown",
   "id": "c64a2607",
   "metadata": {},
   "source": [
    "### 51. Prime digit replacements\n",
    "\n",
    "link: https://projecteuler.net/problem=51\n",
    "\n",
    "<p>By replacing the 1<sup>st</sup> digit of the 2-digit number *3, it turns out that six of the nine possible values: 13, 23, 43, 53, 73, and 83, are all prime.</p>\n",
    "<p>By replacing the 3<sup>rd</sup> and 4<sup>th</sup> digits of 56**3 with the same digit, this 5-digit number is the first example having seven primes among the ten generated numbers, yielding the family: 56003, 56113, 56333, 56443, 56663, 56773, and 56993. Consequently 56003, being the first member of this family, is the smallest prime with this property.</p>\n",
    "<p>Find the smallest prime which, by replacing part of the number (not necessarily adjacent digits) with the same digit, is part of an eight prime value family.</p>"
   ]
  },
  {
   "cell_type": "code",
   "execution_count": 1,
   "id": "a2dfa700",
   "metadata": {},
   "outputs": [
    {
     "name": "stdout",
     "output_type": "stream",
     "text": [
      "121313\n",
      "Wall time: 772 ms\n"
     ]
    }
   ],
   "source": [
    "%%time\n",
    "\n",
    "def eratosthenes_sieve(n: int) -> list:\n",
    "    sieve = list(range(n + 1))\n",
    "    sieve[1] = 0\n",
    "    for i in sieve:\n",
    "        if i > 1:\n",
    "            for j in range(i * i, n + 1, i):\n",
    "                sieve[j] = 0\n",
    "    return sieve\n",
    "\n",
    "limit = 10**6\n",
    "\n",
    "def has_three_same_num(n: int) -> bool:\n",
    "    n = str(n)\n",
    "    return len(set(n[:-1])) < (len(n) - 2)\n",
    "\n",
    "primes = [x for x in eratosthenes_sieve(limit) if has_three_same_num(x)]\n",
    "primes_set = set(primes)\n",
    "\n",
    "def check_num(n: int) -> bool:\n",
    "    n = str(n)\n",
    "    acc = 0\n",
    "    for i, d in enumerate(n[:-1]):\n",
    "        if d in n[i+1:-1]:\n",
    "            j = i + n[i+1:-1].index(d) + 1\n",
    "            if d in n[j+1:-1]:\n",
    "                k = i + j + n[j+1:-1].index(d) + 1\n",
    "            \n",
    "                for dt in ('0987654321'):\n",
    "                    pc = int(n[:i] + dt + n[i+1:j] + dt + n[j+1:k] + dt + n[k+1:])\n",
    "                    if pc in primes_set:\n",
    "                        acc += 1\n",
    "                return acc >= 8\n",
    "\n",
    "for n in primes:\n",
    "    if check_num(n):\n",
    "        print(n)\n",
    "        break\n",
    "\n",
    "# 121313\n",
    "# 2022.08.10\n",
    "# Wall time: 772 ms"
   ]
  }
 ],
 "metadata": {
  "kernelspec": {
   "display_name": "Python 3",
   "language": "python",
   "name": "python3"
  },
  "language_info": {
   "codemirror_mode": {
    "name": "ipython",
    "version": 3
   },
   "file_extension": ".py",
   "mimetype": "text/x-python",
   "name": "python",
   "nbconvert_exporter": "python",
   "pygments_lexer": "ipython3",
   "version": "3.8.8"
  }
 },
 "nbformat": 4,
 "nbformat_minor": 5
}
