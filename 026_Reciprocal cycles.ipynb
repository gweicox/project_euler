{
 "cells": [
  {
   "cell_type": "markdown",
   "id": "bb3b1407",
   "metadata": {},
   "source": [
    "### 26. Reciprocal cycles\n",
    "\n",
    "link: https://projecteuler.net/problem=26\n",
    "\n",
    "A unit fraction contains 1 in the numerator. The decimal representation of the unit fractions with denominators 2 to 10 are given:\n",
    "\n",
    "> 1/2 = 0.5 <br>\n",
    "> 1/3 = 0.(3) <br>\n",
    "> 1/4 = 0.25 <br>\n",
    "> 1/5 = 0.2 <br>\n",
    "> 1/6 = 0.1(6) <br>\n",
    "> 1/7 = 0.(142857) <br>\n",
    "> 1/8 = 0.125 <br>\n",
    "> 1/9 = 0.(1) <br>\n",
    "> 1/10 = 0.1\n",
    "\n",
    "Where 0.1(6) means 0.166666..., and has a 1-digit recurring cycle. It can be seen that 1/7 has a 6-digit recurring cycle.\n",
    "\n",
    "Find the value of _d_ < 1000 for which 1/_d_ contains the longest recurring cycle in its decimal fraction part."
   ]
  },
  {
   "cell_type": "code",
   "execution_count": 1,
   "id": "b7a4cb3d",
   "metadata": {},
   "outputs": [
    {
     "name": "stdout",
     "output_type": "stream",
     "text": [
      "983\n",
      "Wall time: 81 ms\n"
     ]
    }
   ],
   "source": [
    "%%time\n",
    "\n",
    "def get_unit_frac(n: int) -> str:\n",
    "    len_n = len(str(n))\n",
    "    \n",
    "    # quotient, remainder\n",
    "    q, r = (10 ** len_n) // n, (10 ** len_n) % n\n",
    "    acc = '0.' + '0' * (len_n - 1) + str(q)\n",
    "    remainders = {r}\n",
    "    \n",
    "    while True:\n",
    "        q, r = (10 * r) // n, (10 * r) % n\n",
    "        if r in remainders: break\n",
    "        acc += str(q)\n",
    "        remainders.add(r)\n",
    "\n",
    "    return acc\n",
    "\n",
    "cur_max, res = 0, 0\n",
    "\n",
    "for n in range(7, 1000):\n",
    "    if len(get_unit_frac(n)) > cur_max:\n",
    "        cur_max = len(get_unit_frac(n))\n",
    "        res = n\n",
    "\n",
    "print(res)\n",
    "        \n",
    "# 983\n",
    "# 2022.07.16\n",
    "# Wall time: 81 ms"
   ]
  }
 ],
 "metadata": {
  "kernelspec": {
   "display_name": "Python 3",
   "language": "python",
   "name": "python3"
  },
  "language_info": {
   "codemirror_mode": {
    "name": "ipython",
    "version": 3
   },
   "file_extension": ".py",
   "mimetype": "text/x-python",
   "name": "python",
   "nbconvert_exporter": "python",
   "pygments_lexer": "ipython3",
   "version": "3.8.8"
  }
 },
 "nbformat": 4,
 "nbformat_minor": 5
}
