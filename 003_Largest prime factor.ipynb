{
 "cells": [
  {
   "cell_type": "markdown",
   "id": "06f334e9",
   "metadata": {},
   "source": [
    "The prime factors of 13195 are 5, 7, 13 and 29.\n",
    "\n",
    "What is the largest prime factor of the number 600851475143 ?"
   ]
  },
  {
   "cell_type": "code",
   "execution_count": 1,
   "id": "e580cd83",
   "metadata": {},
   "outputs": [],
   "source": [
    "def factor(n: int) -> list:\n",
    "    res, d = [], 2\n",
    "    \n",
    "    while d * d <= n:\n",
    "        if n % d == 0:\n",
    "            res.append(d)\n",
    "            n //= d\n",
    "        else:\n",
    "            d += 1\n",
    "            \n",
    "    if n > 1:\n",
    "        res.append(n)\n",
    "        \n",
    "    return res"
   ]
  },
  {
   "cell_type": "code",
   "execution_count": 2,
   "id": "a5592ec2",
   "metadata": {},
   "outputs": [
    {
     "name": "stdout",
     "output_type": "stream",
     "text": [
      "Wall time: 0 ns\n"
     ]
    },
    {
     "data": {
      "text/plain": [
       "6857"
      ]
     },
     "execution_count": 2,
     "metadata": {},
     "output_type": "execute_result"
    }
   ],
   "source": [
    "%%time\n",
    "\n",
    "factor(600851475143)[-1]\n",
    "\n",
    "# 2022.06.23"
   ]
  }
 ],
 "metadata": {
  "kernelspec": {
   "display_name": "Python 3",
   "language": "python",
   "name": "python3"
  },
  "language_info": {
   "codemirror_mode": {
    "name": "ipython",
    "version": 3
   },
   "file_extension": ".py",
   "mimetype": "text/x-python",
   "name": "python",
   "nbconvert_exporter": "python",
   "pygments_lexer": "ipython3",
   "version": "3.8.8"
  }
 },
 "nbformat": 4,
 "nbformat_minor": 5
}
