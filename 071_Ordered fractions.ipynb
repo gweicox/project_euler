{
 "cells": [
  {
   "cell_type": "markdown",
   "id": "95b28a00",
   "metadata": {},
   "source": [
    "### 71. Ordered fractions\n",
    "\n",
    "link: https://projecteuler.net/problem=71\n",
    "\n",
    "<p>Consider the fraction, $\\dfrac n d$, where $n$ and $d$ are positive integers. If $n \\lt d$ and $\\operatorname{HCF}(n,d)=1$, it is called a reduced proper fraction.</p>\n",
    "\n",
    "<p>If we list the set of reduced proper fractions for $d \\le 8$ in ascending order of size, we get: <br>\n",
    "\n",
    "$$\\frac 1 8, \\frac 1 7, \\frac 1 6, \\frac 1 5, \\frac 1 4, \\frac 2 7, \\frac 1 3, \\frac 3 8, \\frac{\\color{blue}{2}}{\\color{green}{5}}, \\frac 3 7, \\frac 1 2, \\frac 4 7, \\frac 3 5, \\frac 5 8, \\frac 2 3, \\frac 5 7, \\frac 3 4, \\frac 4 5, \\frac 5 6, \\frac 6 7, \\frac 7 8$$</p>\n",
    "\n",
    "<p>It can be seen that $\\dfrac 2 5$ is the fraction immediately to the left of $\\dfrac 3 7$.</p>\n",
    "\n",
    "<p>By listing the set of reduced proper fractions for $d \\le 1\\,000\\,000$ in ascending order of size, find the numerator of the fraction immediately to the left of $\\dfrac 3 7$.</p>"
   ]
  },
  {
   "cell_type": "code",
   "execution_count": 1,
   "id": "069ac005",
   "metadata": {},
   "outputs": [
    {
     "name": "stdout",
     "output_type": "stream",
     "text": [
      "Wall time: 10 ms\n"
     ]
    },
    {
     "data": {
      "text/plain": [
       "428570"
      ]
     },
     "execution_count": 1,
     "metadata": {},
     "output_type": "execute_result"
    }
   ],
   "source": [
    "%%time\n",
    "\n",
    "\n",
    "def prime_factors(n):\n",
    "    res, d = set(), 2\n",
    "    while d * d <= n:\n",
    "        if n % d == 0:\n",
    "            res.add(d)\n",
    "            n //= d\n",
    "        else: d += 1 \n",
    "    if n > 1: res.add(n)\n",
    "    return res\n",
    "\n",
    "\n",
    "N, curr_n, curr_n_d = 10**6, 2, 2 / 5\n",
    "\n",
    "for d in range(N, N-100, -1):\n",
    "    n = int(3 * d / 7)\n",
    "    if not prime_factors(n) & prime_factors(d):\n",
    "        if n / d > curr_n_d:\n",
    "            curr_n, curr_n_d = n, n / d\n",
    "\n",
    "curr_n\n",
    "\n",
    "# 428570\n",
    "# 2024.02.10\n",
    "# Wall time: 10 ms"
   ]
  }
 ],
 "metadata": {
  "kernelspec": {
   "display_name": "Python 3",
   "language": "python",
   "name": "python3"
  },
  "language_info": {
   "codemirror_mode": {
    "name": "ipython",
    "version": 3
   },
   "file_extension": ".py",
   "mimetype": "text/x-python",
   "name": "python",
   "nbconvert_exporter": "python",
   "pygments_lexer": "ipython3",
   "version": "3.8.8"
  }
 },
 "nbformat": 4,
 "nbformat_minor": 5
}
