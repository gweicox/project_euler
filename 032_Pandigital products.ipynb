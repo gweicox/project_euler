{
 "cells": [
  {
   "cell_type": "markdown",
   "id": "d4821b1d",
   "metadata": {},
   "source": [
    "### 32. Pandigital products\n",
    "\n",
    "link: https://projecteuler.net/problem=32\n",
    "\n",
    "<p>We shall say that an <var>n</var>-digit number is pandigital if it makes use of all the digits 1 to <var>n</var> exactly once; <br>\n",
    "for example, the 5-digit number, 15234, is 1 through 5 pandigital.</p>\n",
    "\n",
    "<p>The product 7254 is unusual, as the identity, 39 × 186 = 7254, containing multiplicand, multiplier, and product is 1 through 9 pandigital.</p>\n",
    "\n",
    "<p>Find the sum of all products whose multiplicand/multiplier/product identity can be written as a 1 through 9 pandigital.</p>\n",
    "\n",
    "<div class=\"note\">HINT: Some products can be obtained in more than one way so be sure to only include it once in your sum.</div>\n"
   ]
  },
  {
   "cell_type": "code",
   "execution_count": 1,
   "id": "c41c75b2",
   "metadata": {},
   "outputs": [
    {
     "name": "stdout",
     "output_type": "stream",
     "text": [
      "Wall time: 197 ms\n"
     ]
    },
    {
     "data": {
      "text/plain": [
       "45228"
      ]
     },
     "execution_count": 1,
     "metadata": {},
     "output_type": "execute_result"
    }
   ],
   "source": [
    "%%time\n",
    "\n",
    "\n",
    "def is_pandigital_product(a: int, b: int) -> bool:\n",
    "    a_b_ab = str(a) + str(b) + str(a * b)\n",
    "    return (len(a_b_ab) == 9) and set(range(1, 10)) == set(map(int, a_b_ab))\n",
    "\n",
    "set_2d_3d = set((a * b for a in range(10, 100) for b in range(100, 1000) if is_pandigital_product(a, b)))\n",
    "set_1d_4d = set((a * b for a in range(1, 10) for b in range(1000, 10000) if is_pandigital_product(a, b)))\n",
    "\n",
    "sum({*set_2d_3d, *set_1d_4d})\n",
    "\n",
    "# 45228\n",
    "# 2022.07.22\n",
    "# Wall time: 197 ms"
   ]
  }
 ],
 "metadata": {
  "kernelspec": {
   "display_name": "Python 3",
   "language": "python",
   "name": "python3"
  },
  "language_info": {
   "codemirror_mode": {
    "name": "ipython",
    "version": 3
   },
   "file_extension": ".py",
   "mimetype": "text/x-python",
   "name": "python",
   "nbconvert_exporter": "python",
   "pygments_lexer": "ipython3",
   "version": "3.8.8"
  }
 },
 "nbformat": 4,
 "nbformat_minor": 5
}
