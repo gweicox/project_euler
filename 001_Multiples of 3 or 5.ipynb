{
 "cells": [
  {
   "cell_type": "markdown",
   "id": "e1507002",
   "metadata": {},
   "source": [
    "## 001_Multiples of 3 or 5"
   ]
  },
  {
   "cell_type": "markdown",
   "id": "aaefaa49",
   "metadata": {},
   "source": [
    "If we list all the natural numbers below 10 that are multiples of 3 or 5, we get 3, 5, 6 and 9.\n",
    "\n",
    "The sum of these multiples is 23.\n",
    "\n",
    "Find the sum of all the multiples of 3 or 5 below 1000."
   ]
  },
  {
   "cell_type": "code",
   "execution_count": 1,
   "id": "c3ddf7bf",
   "metadata": {},
   "outputs": [
    {
     "name": "stdout",
     "output_type": "stream",
     "text": [
      "Wall time: 0 ns\n"
     ]
    },
    {
     "data": {
      "text/plain": [
       "233168"
      ]
     },
     "execution_count": 1,
     "metadata": {},
     "output_type": "execute_result"
    }
   ],
   "source": [
    "%%time\n",
    "\n",
    "sum([x for x in range(3, 1000) if (x % 3 == 0) or (x % 5 == 0)])\n",
    "\n",
    "# 2022.06.21"
   ]
  },
  {
   "cell_type": "code",
   "execution_count": 2,
   "id": "197bc64c",
   "metadata": {},
   "outputs": [
    {
     "name": "stdout",
     "output_type": "stream",
     "text": [
      "Wall time: 0 ns\n"
     ]
    },
    {
     "data": {
      "text/plain": [
       "233168"
      ]
     },
     "execution_count": 2,
     "metadata": {},
     "output_type": "execute_result"
    }
   ],
   "source": [
    "%%time\n",
    "# sum of the arithmetic progression Sn = [a1 + an] * n / 2\n",
    "# a1 - first term, d - common difference, ub - upper bound \n",
    "\n",
    "aps = lambda a1, ub, d: (a1 + ub - ub % d) * (ub // d) // 2\n",
    "\n",
    "aps(3, 999, 3) + aps(5, 999, 5) - aps(15, 999, 15)"
   ]
  }
 ],
 "metadata": {
  "kernelspec": {
   "display_name": "Python 3",
   "language": "python",
   "name": "python3"
  },
  "language_info": {
   "codemirror_mode": {
    "name": "ipython",
    "version": 3
   },
   "file_extension": ".py",
   "mimetype": "text/x-python",
   "name": "python",
   "nbconvert_exporter": "python",
   "pygments_lexer": "ipython3",
   "version": "3.8.8"
  }
 },
 "nbformat": 4,
 "nbformat_minor": 5
}
