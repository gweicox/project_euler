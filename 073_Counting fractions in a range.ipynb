{
 "cells": [
  {
   "cell_type": "markdown",
   "id": "bcccbb96",
   "metadata": {},
   "source": [
    "### 73. Counting fractions in a range\n",
    "\n",
    "link: https://projecteuler.net/problem=73\n",
    "\n",
    "<p>Consider the fraction, $\\dfrac n d$, where $n$ and $d$ are positive integers. If $n \\lt d$ and $\\operatorname{HCF}(n, d)=1$, it is called a reduced proper fraction.</p>\n",
    "\n",
    "<p>If we list the set of reduced proper fractions for $d \\le 8$ in ascending order of size, we get:<br>\n",
    "\n",
    "$$\\frac 1 8, \\frac 1 7, \\frac 1 6, \\frac 1 5, \\frac 1 4, \\frac 2 7, \\frac 1 3, \\mathbf{\\frac 3 8, \\frac 2 5, \\frac 3 7}, \\frac 1 2, \\frac 4 7, \\frac 3 5, \\frac 5 8, \\frac 2 3, \\frac 5 7, \\frac 3 4, \\frac 4 5, \\frac 5 6, \\frac 6 7, \\frac 7 8$$</p>\n",
    "\n",
    "<p>It can be seen that there are $3$ fractions between $\\dfrac 1 3$ and $\\dfrac 1 2$.</p>\n",
    "\n",
    "<p>How many fractions lie between $\\dfrac 1 3$ and $\\dfrac 1 2$ in the sorted set of reduced proper fractions for $d \\le 12\\,000$?</p>"
   ]
  },
  {
   "cell_type": "code",
   "execution_count": 1,
   "id": "2e2f3019",
   "metadata": {},
   "outputs": [
    {
     "name": "stdout",
     "output_type": "stream",
     "text": [
      "Wall time: 2.37 s\n"
     ]
    },
    {
     "data": {
      "text/plain": [
       "7295372"
      ]
     },
     "execution_count": 1,
     "metadata": {},
     "output_type": "execute_result"
    }
   ],
   "source": [
    "%%time\n",
    "\n",
    "\n",
    "from math import gcd\n",
    "\n",
    "\n",
    "def algos(limit):\n",
    "    acc = 0\n",
    "    for d in range(5, limit + 1):\n",
    "        for n in range(d // 3 + 1, d // 2 + 1):\n",
    "            if gcd(d, n) == 1:\n",
    "                acc += 1\n",
    "    return acc\n",
    "\n",
    "\n",
    "algos(12_000)\n",
    "\n",
    "# 7295372\n",
    "# 2024.02.12\n",
    "# Wall time: 2.37 s"
   ]
  }
 ],
 "metadata": {
  "kernelspec": {
   "display_name": "Python 3",
   "language": "python",
   "name": "python3"
  },
  "language_info": {
   "codemirror_mode": {
    "name": "ipython",
    "version": 3
   },
   "file_extension": ".py",
   "mimetype": "text/x-python",
   "name": "python",
   "nbconvert_exporter": "python",
   "pygments_lexer": "ipython3",
   "version": "3.8.8"
  }
 },
 "nbformat": 4,
 "nbformat_minor": 5
}
