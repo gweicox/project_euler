{
 "cells": [
  {
   "cell_type": "markdown",
   "id": "e862d86a",
   "metadata": {},
   "source": [
    "### 56. Powerful digit sum\n",
    "\n",
    "link: https://projecteuler.net/problem=56\n",
    "\n",
    "  \n",
    "<p>A googol (10<sup>100</sup>) is a massive number: one followed by one-hundred zeros; 100<sup>100</sup> is almost unimaginably large: one followed by two-hundred zeros. Despite their size, the sum of the digits in each number is only 1.</p>\n",
    "<p>Considering natural numbers of the form, <i>a<sup>b</sup></i>, where <i>a, b</i> &lt; 100, what is the maximum digital sum?</p>"
   ]
  },
  {
   "cell_type": "code",
   "execution_count": 1,
   "id": "79b46144",
   "metadata": {},
   "outputs": [
    {
     "name": "stdout",
     "output_type": "stream",
     "text": [
      "ans = 972\n",
      "a=99, b=95\n",
      "Wall time: 16.1 ms\n"
     ]
    }
   ],
   "source": [
    "%%time\n",
    "\n",
    "\n",
    "curr_max, a, b = 0, 0, 0\n",
    "\n",
    "for a_ in range(77, 100):\n",
    "    for b_ in range(77, 100):\n",
    "        curr_sum = sum(int(x) for x in str(a_ ** b_))\n",
    "        if curr_sum > curr_max:\n",
    "            curr_max, a, b = curr_sum, a_, b_\n",
    "\n",
    "print(f\"ans = {curr_max}\\n{a=}, {b=}\")\n",
    "\n",
    "\n",
    "# 972\n",
    "# 2024.01.23\n",
    "# Wall time: 16.1 ms"
   ]
  }
 ],
 "metadata": {
  "kernelspec": {
   "display_name": "Python 3",
   "language": "python",
   "name": "python3"
  },
  "language_info": {
   "codemirror_mode": {
    "name": "ipython",
    "version": 3
   },
   "file_extension": ".py",
   "mimetype": "text/x-python",
   "name": "python",
   "nbconvert_exporter": "python",
   "pygments_lexer": "ipython3",
   "version": "3.8.8"
  }
 },
 "nbformat": 4,
 "nbformat_minor": 5
}
