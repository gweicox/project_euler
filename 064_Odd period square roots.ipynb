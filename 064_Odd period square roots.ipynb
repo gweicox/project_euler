{
 "cells": [
  {
   "cell_type": "markdown",
   "id": "3249a05f",
   "metadata": {},
   "source": [
    "### 64. Odd period square roots\n",
    "\n",
    "link: https://projecteuler.net/problem=64\n",
    "\n",
    "<p>All square roots are periodic when written as continued fractions and can be written in the form:</p>\n",
    "\n",
    "$\\displaystyle \\quad \\quad \\sqrt{N}=a_0+\\frac 1 {a_1+\\frac 1 {a_2+ \\frac 1 {a3+ \\dots}}}$\n",
    "\n",
    "<p>For example, let us consider $\\sqrt{23}:$</p>\n",
    "\n",
    "$\\quad \\quad \\sqrt{23}=4+\\sqrt{23}-4=4+\\frac 1 {\\frac 1 {\\sqrt{23}-4}}=4+\\frac 1  {1+\\frac{\\sqrt{23}-3}7}$\n",
    "\n",
    "<p>If we continue we would get the following expansion:</p>\n",
    "\n",
    "$\\displaystyle \\quad \\quad \\sqrt{23}=4+\\frac 1 {1+\\frac 1 {3+ \\frac 1 {1+\\frac 1 {8+ \\dots}}}}$\n",
    "\n",
    "<p>The process can be summarised as follows:</p>\n",
    "<p>\n",
    "\n",
    "$\\quad \\quad a_0=4, \\frac 1 {\\sqrt{23}-4}=\\frac {\\sqrt{23}+4} 7=1+\\frac {\\sqrt{23}-3} 7$<br />\n",
    "$\\quad \\quad a_1=1, \\frac 7 {\\sqrt{23}-3}=\\frac {7(\\sqrt{23}+3)} {14}=3+\\frac {\\sqrt{23}-3} 2$<br />\n",
    "$\\quad \\quad a_2=3, \\frac 2 {\\sqrt{23}-3}=\\frac {2(\\sqrt{23}+3)} {14}=1+\\frac {\\sqrt{23}-4} 7$<br />\n",
    "$\\quad \\quad a_3=1, \\frac 7 {\\sqrt{23}-4}=\\frac {7(\\sqrt{23}+4)} 7=8+\\sqrt{23}-4$<br />\n",
    "$\\quad \\quad a_4=8, \\frac 1 {\\sqrt{23}-4}=\\frac {\\sqrt{23}+4} 7=1+\\frac {\\sqrt{23}-3} 7$<br />\n",
    "$\\quad \\quad a_5=1, \\frac 7 {\\sqrt{23}-3}=\\frac {7 (\\sqrt{23}+3)} {14}=3+\\frac {\\sqrt{23}-3} 2$<br />\n",
    "$\\quad \\quad a_6=3, \\frac 2 {\\sqrt{23}-3}=\\frac {2(\\sqrt{23}+3)} {14}=1+\\frac {\\sqrt{23}-4} 7$<br />\n",
    "$\\quad \\quad a_7=1, \\frac 7 {\\sqrt{23}-4}=\\frac {7(\\sqrt{23}+4)} {7}=8+\\sqrt{23}-4$<br /></p>\n",
    "\n",
    "<p>It can be seen that the sequence is repeating. For conciseness, we use the notation <br />\n",
    "$\\sqrt{23}=[4;(1,3,1,8)]$, to indicate that the block (1,3,1,8) repeats indefinitely.</p>\n",
    "\n",
    "<p>The first ten continued fraction representations of (irrational) square roots are:</p>\n",
    "<p>\n",
    "\n",
    "$\\quad \\quad \\sqrt{2}=[1;(2)]$, period=$1$<br />\n",
    "$\\quad \\quad \\sqrt{3}=[1;(1,2)]$, period=$2$<br />\n",
    "$\\quad \\quad \\sqrt{5}=[2;(4)]$, period=$1$<br />\n",
    "$\\quad \\quad \\sqrt{6}=[2;(2,4)]$, period=$2$<br />\n",
    "$\\quad \\quad \\sqrt{7}=[2;(1,1,1,4)]$, period=$4$<br />\n",
    "$\\quad \\quad \\sqrt{8}=[2;(1,4)]$, period=$2$<br />\n",
    "$\\quad \\quad \\sqrt{10}=[3;(6)]$, period=$1$<br />\n",
    "$\\quad \\quad \\sqrt{11}=[3;(3,6)]$, period=$2$<br />\n",
    "$\\quad \\quad \\sqrt{12}=[3;(2,6)]$, period=$2$<br />\n",
    "$\\quad \\quad \\sqrt{13}=[3;(1,1,1,1,6)]$, period=$5$\n",
    "</p>\n",
    "<p>Exactly four continued fractions, for $N \\le 13$, have an odd period.</p>\n",
    "<p>How many continued fractions for $N \\le 10\\,000$ have an odd period?</p>"
   ]
  },
  {
   "cell_type": "code",
   "execution_count": 1,
   "id": "07a8241d",
   "metadata": {},
   "outputs": [
    {
     "name": "stdout",
     "output_type": "stream",
     "text": [
      "1322\n",
      "Wall time: 327 ms\n"
     ]
    }
   ],
   "source": [
    "%%time\n",
    "\n",
    "\n",
    "acc = 0\n",
    "\n",
    "for n in range(2, 10_000):\n",
    "    block_len = 1\n",
    "    a = int(n ** 0.5)\n",
    "    b = n - a ** 2\n",
    "    if b > 0:\n",
    "        while True:\n",
    "            c = int((n ** 0.5 + a) / b)\n",
    "            if c == 2 * int(n ** 0.5):\n",
    "                break\n",
    "            block_len += 1\n",
    "            a, b = (c * b - a), ((n - (a - c * b) ** 2) / b)\n",
    "        acc += block_len % 2\n",
    "\n",
    "\n",
    "print(acc)\n",
    "\n",
    "\n",
    "# 1322\n",
    "# 2024.02.01\n",
    "# Wall time: 327 ms"
   ]
  }
 ],
 "metadata": {
  "kernelspec": {
   "display_name": "Python 3",
   "language": "python",
   "name": "python3"
  },
  "language_info": {
   "codemirror_mode": {
    "name": "ipython",
    "version": 3
   },
   "file_extension": ".py",
   "mimetype": "text/x-python",
   "name": "python",
   "nbconvert_exporter": "python",
   "pygments_lexer": "ipython3",
   "version": "3.8.8"
  }
 },
 "nbformat": 4,
 "nbformat_minor": 5
}
