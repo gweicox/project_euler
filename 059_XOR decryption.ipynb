{
 "cells": [
  {
   "cell_type": "markdown",
   "id": "aeb73071",
   "metadata": {},
   "source": [
    "### 59. XOR decryption\n",
    "\n",
    "link: https://projecteuler.net/problem=59\n",
    "\n",
    "<p>Each character on a computer is assigned a unique code and the preferred standard is ASCII (American Standard Code for Information Interchange). For example, uppercase A = 65, asterisk (*) = 42, and lowercase k = 107.</p>\n",
    "\n",
    "<p>A modern encryption method is to take a text file, convert the bytes to ASCII, then XOR each byte with a given value, taken from a secret key. The advantage with the XOR function is that using the same encryption key on the cipher text, restores the plain text; for example, 65 XOR 42 = 107, then 107 XOR 42 = 65.</p>\n",
    "\n",
    "<p>For unbreakable encryption, the key is the same length as the plain text message, and the key is made up of random bytes. The user would keep the encrypted message and the encryption key in different locations, and without both \"halves\", it is impossible to decrypt the message.</p>\n",
    "\n",
    "<p>Unfortunately, this method is impractical for most users, so the modified method is to use a password as a key. If the password is shorter than the message, which is likely, the key is repeated cyclically throughout the message. The balance for this method is using a sufficiently long password key for security, but short enough to be memorable.</p>\n",
    "\n",
    "<p>Your task has been made easy, as the encryption key consists of three lower case characters. Using\n",
    "<a href=\"https://projecteuler.net/resources/documents/0059_cipher.txt\">p059_cipher.txt</a>\n",
    "(right click and 'Save Link/Target As...'), a file containing the encrypted ASCII codes, and the knowledge that the plain text must contain common English words, decrypt the message and find the sum of the ASCII values in the original text.</p>"
   ]
  },
  {
   "cell_type": "code",
   "execution_count": 1,
   "id": "0fc22c87",
   "metadata": {},
   "outputs": [
    {
     "name": "stdout",
     "output_type": "stream",
     "text": [
      "An extract taken from the introduction of one of Euler's most celebrated papers, \"De summis serierum reciprocarum\" [On the sums of series of reciprocals]: I have recently found, quite unexpectedly, an elegant expression for the entire sum of this series 1 + 1/4 + 1/9 + 1/16 + etc., which depends on the quadrature of the circle, so that if the true sum of this series is obtained, from it at once the quadrature of the circle follows. Namely, I have found that the sum of this series is a sixth part of the square of the perimeter of the circle whose diameter is 1; or by putting the sum of this series equal to s, it has the ratio sqrt(6) multiplied by s to 1 of the perimeter to the diameter. I will soon show that the sum of this series to be approximately 1.644934066842264364; and from multiplying this number by six, and then taking the square root, the number 3.141592653589793238 is indeed produced, which expresses the perimeter of a circle whose diameter is 1. Following again the same steps by which I had arrived at this sum, I have discovered that the sum of the series 1 + 1/16 + 1/81 + 1/256 + 1/625 + etc. also depends on the quadrature of the circle. Namely, the sum of this multiplied by 90 gives the biquadrate (fourth power) of the circumference of the perimeter of a circle whose diameter is 1. And by similar reasoning I have likewise been able to determine the sums of the subsequent series in which the exponents are even numbers.\n",
      "Wall time: 676 ms\n"
     ]
    },
    {
     "data": {
      "text/plain": [
       "129448"
      ]
     },
     "execution_count": 1,
     "metadata": {},
     "output_type": "execute_result"
    }
   ],
   "source": [
    "%%time\n",
    "\n",
    "\n",
    "with open('059_XOR decryption_cipher.txt') as f:\n",
    "    encrypted = [int(x) for x in f.read().split(',')]\n",
    "\n",
    "def xor_decrypt(encrypted):\n",
    "    for a in range(97, 123):\n",
    "        for b in range(97, 123):\n",
    "            for c in range(97, 123):\n",
    "                key = [a, b, c] * (len(encrypted) // 3 + 1)\n",
    "                text = ''.join(chr(x ^ y) for x, y in (zip(encrypted, key)))\n",
    "                if ' the ' in text:\n",
    "                    print(text)\n",
    "                    return sum(ord(x) for x in text)\n",
    "\n",
    "xor_decrypt(encrypted)\n",
    "\n",
    "# 129448\n",
    "# 2024.01.27\n",
    "# Wall time: 676 ms"
   ]
  }
 ],
 "metadata": {
  "kernelspec": {
   "display_name": "Python 3",
   "language": "python",
   "name": "python3"
  },
  "language_info": {
   "codemirror_mode": {
    "name": "ipython",
    "version": 3
   },
   "file_extension": ".py",
   "mimetype": "text/x-python",
   "name": "python",
   "nbconvert_exporter": "python",
   "pygments_lexer": "ipython3",
   "version": "3.8.8"
  }
 },
 "nbformat": 4,
 "nbformat_minor": 5
}
