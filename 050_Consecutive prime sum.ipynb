{
 "cells": [
  {
   "cell_type": "markdown",
   "id": "5963ba98",
   "metadata": {},
   "source": [
    "### 50. Consecutive prime sum\n",
    "\n",
    "link: https://projecteuler.net/problem=50\n",
    "\n",
    "<p>The prime 41, can be written as the sum of six consecutive primes:</p>\n",
    "<div class=\"center\">41 = 2 + 3 + 5 + 7 + 11 + 13</div>\n",
    "<p>This is the longest sum of consecutive primes that adds to a prime below one-hundred.</p>\n",
    "<p>The longest sum of consecutive primes below one-thousand that adds to a prime, contains 21 terms, and is equal to 953.</p>\n",
    "<p>Which prime, below one-million, can be written as the sum of the most consecutive primes?</p>"
   ]
  },
  {
   "cell_type": "code",
   "execution_count": 1,
   "id": "05886397",
   "metadata": {},
   "outputs": [
    {
     "name": "stdout",
     "output_type": "stream",
     "text": [
      "Wall time: 308 ms\n"
     ]
    },
    {
     "data": {
      "text/plain": [
       "997651"
      ]
     },
     "execution_count": 1,
     "metadata": {},
     "output_type": "execute_result"
    }
   ],
   "source": [
    "%%time\n",
    "\n",
    "\n",
    "def eratosthenes_sieve(n: int) -> list:\n",
    "    sieve = list(range(n + 1))\n",
    "    sieve[1] = 0\n",
    "    for i in sieve:\n",
    "        if i > 1:\n",
    "            for j in range(i * i, n + 1, i):\n",
    "                sieve[j] = 0\n",
    "    return sieve\n",
    "\n",
    "def longest_sum_prime(limit: int) -> int:\n",
    "    primes = [x for x in eratosthenes_sieve(limit) if x]\n",
    "    max_prime = primes[-1]\n",
    "    primes_set = set(primes)\n",
    "    res, long = 0, 1\n",
    "    \n",
    "    for i in range(len(primes)):\n",
    "        if sum(primes[i:i+long]) > max_prime:\n",
    "            break\n",
    "        for j in range(i+long, len(primes)):\n",
    "            sum_ = sum(primes[i:j])\n",
    "            if sum_ > max_prime:\n",
    "                break\n",
    "            if sum_ in primes_set:\n",
    "                long = j - i + 1\n",
    "                res = sum_\n",
    "    return res\n",
    "\n",
    "\n",
    "longest_sum_prime(10**6)\n",
    "\n",
    "\n",
    "# 997651\n",
    "# 2022.08.09\n",
    "# Wall time: 308 ms"
   ]
  }
 ],
 "metadata": {
  "kernelspec": {
   "display_name": "Python 3",
   "language": "python",
   "name": "python3"
  },
  "language_info": {
   "codemirror_mode": {
    "name": "ipython",
    "version": 3
   },
   "file_extension": ".py",
   "mimetype": "text/x-python",
   "name": "python",
   "nbconvert_exporter": "python",
   "pygments_lexer": "ipython3",
   "version": "3.8.8"
  }
 },
 "nbformat": 4,
 "nbformat_minor": 5
}
