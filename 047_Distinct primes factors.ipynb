{
 "cells": [
  {
   "cell_type": "markdown",
   "id": "51fb9580",
   "metadata": {},
   "source": [
    "### 47. Distinct primes factors\n",
    "\n",
    "link: https://projecteuler.net/problem=47\n",
    "\n",
    "<p>The first two consecutive numbers to have two distinct prime factors are:</p>\n",
    "<p class=\"margin_left\">14 = 2 × 7<br />15 = 3 × 5</p>\n",
    "<p>The first three consecutive numbers to have three distinct prime factors are:</p>\n",
    "<p class=\"margin_left\">644 = 2² × 7 × 23<br />645 = 3 × 5 × 43<br />646 = 2 × 17 × 19.</p>\n",
    "<p>Find the first four consecutive integers to have four distinct prime factors each. What is the first of these numbers?</p>"
   ]
  },
  {
   "cell_type": "code",
   "execution_count": 1,
   "id": "6c92ce21",
   "metadata": {},
   "outputs": [
    {
     "name": "stdout",
     "output_type": "stream",
     "text": [
      "134043 134044 134045 134046\n",
      "Wall time: 259 ms\n"
     ]
    }
   ],
   "source": [
    "%%time\n",
    "\n",
    "\n",
    "n = 200_000\n",
    "sieve = list(range(n))\n",
    "sieve[1] = 0\n",
    "d = {x:0 for x in range(n)}\n",
    "\n",
    "for i in sieve:\n",
    "    if i > 1:\n",
    "        for j in range(i, n, i):\n",
    "            sieve[j] = 0\n",
    "            d[j] += 1\n",
    "\n",
    "acc = 0\n",
    "\n",
    "for k, v in d.items():\n",
    "    if v == 4:\n",
    "        acc += 1\n",
    "        if acc == 4:\n",
    "            print(k-3, k-2, k-1, k)\n",
    "            break\n",
    "    else:\n",
    "        acc = 0\n",
    "\n",
    "\n",
    "# 134043\n",
    "# 2022.08.06\n",
    "# Wall time: 259 ms"
   ]
  },
  {
   "cell_type": "code",
   "execution_count": 2,
   "id": "7d49dbb7",
   "metadata": {},
   "outputs": [
    {
     "name": "stdout",
     "output_type": "stream",
     "text": [
      "134043 134044 134045 134046\n",
      "Wall time: 1.32 s\n"
     ]
    }
   ],
   "source": [
    "%%time\n",
    "\n",
    "\n",
    "def n_uniq_prime_factors(n: int) -> int:\n",
    "    res, d = [], 2\n",
    "    while d * d <= n:\n",
    "        if n % d == 0: res.append(d); n //= d\n",
    "        else: d += 1 \n",
    "    if n > 1: res.append(n)\n",
    "    return len(set(res))\n",
    "\n",
    "i = 647\n",
    "\n",
    "while True:\n",
    "    if n_uniq_prime_factors(i) == 4:\n",
    "        i += 1\n",
    "        if n_uniq_prime_factors(i) == 4:\n",
    "            i += 1\n",
    "            if n_uniq_prime_factors(i) == 4:\n",
    "                i += 1\n",
    "                if n_uniq_prime_factors(i) == 4:\n",
    "                    print(i-3, i-2, i-1, i)\n",
    "                    break\n",
    "    i += 1\n",
    "\n",
    "\n",
    "# 134043\n",
    "# 2022.08.06\n",
    "# Wall time: 1.32 s"
   ]
  },
  {
   "cell_type": "code",
   "execution_count": 3,
   "id": "85f22256",
   "metadata": {},
   "outputs": [
    {
     "name": "stdout",
     "output_type": "stream",
     "text": [
      "134043 134044 134045 134046\n",
      "Wall time: 91.2 ms\n"
     ]
    }
   ],
   "source": [
    "%%time\n",
    "\n",
    "n = 200_000\n",
    "sieve = [False] * n\n",
    "\n",
    "for i in range(2, n):\n",
    "    if not sieve[i]:\n",
    "        acc = 0\n",
    "        for j in range(i, n, i):\n",
    "            sieve[j] += 1\n",
    "    elif sieve[i] == 4:\n",
    "        acc += 1\n",
    "        if acc == 4:\n",
    "            print(i-3, i-2, i-1, i)\n",
    "            break\n",
    "    else:\n",
    "        acc = 0\n",
    "\n",
    "\n",
    "# 134043\n",
    "# 2022.08.06\n",
    "# Wall time: 91.2 ms"
   ]
  }
 ],
 "metadata": {
  "kernelspec": {
   "display_name": "Python 3",
   "language": "python",
   "name": "python3"
  },
  "language_info": {
   "codemirror_mode": {
    "name": "ipython",
    "version": 3
   },
   "file_extension": ".py",
   "mimetype": "text/x-python",
   "name": "python",
   "nbconvert_exporter": "python",
   "pygments_lexer": "ipython3",
   "version": "3.8.8"
  }
 },
 "nbformat": 4,
 "nbformat_minor": 5
}
