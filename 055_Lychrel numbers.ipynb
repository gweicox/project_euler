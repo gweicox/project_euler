{
 "cells": [
  {
   "cell_type": "markdown",
   "id": "a3f606fb",
   "metadata": {},
   "source": [
    "### 55. Lychrel numbers\n",
    "\n",
    "link: https://projecteuler.net/problem=55\n",
    "\n",
    "<p>If we take 47, reverse and add, 47 + 74 = 121, which is palindromic.</p>\n",
    "<p>Not all numbers produce palindromes so quickly. For example,</p>\n",
    "<p class=\"margin_left\">349 + 943 = 1292,<br />\n",
    "1292 + 2921 = 4213<br />\n",
    "4213 + 3124 = 7337</p>\n",
    "<p>That is, 349 took three iterations to arrive at a palindrome.</p>\n",
    "<p>Although no one has proved it yet, it is thought that some numbers, like 196, never produce a palindrome. A number that never forms a palindrome through the reverse and add process is called a Lychrel number. Due to the theoretical nature of these numbers, and for the purpose of this problem, we shall assume that a number is Lychrel until proven otherwise. In addition you are given that for every number below ten-thousand, it will either (i) become a palindrome in less than fifty iterations, or, (ii) no one, with all the computing power that exists, has managed so far to map it to a palindrome. In fact, 10677 is the first number to be shown to require over fifty iterations before producing a palindrome: 4668731596684224866951378664 (53 iterations, 28-digits).</p>\n",
    "<p>Surprisingly, there are palindromic numbers that are themselves Lychrel numbers; the first example is 4994.</p>\n",
    "<p>How many Lychrel numbers are there below ten-thousand?</p>\n",
    "<p class=\"smaller\">NOTE: Wording was modified slightly on 24 April 2007 to emphasise the theoretical nature of Lychrel numbers.</p>"
   ]
  },
  {
   "cell_type": "code",
   "execution_count": 1,
   "id": "3362e8cd",
   "metadata": {},
   "outputs": [
    {
     "name": "stdout",
     "output_type": "stream",
     "text": [
      "Wall time: 47.3 ms\n"
     ]
    },
    {
     "data": {
      "text/plain": [
       "249"
      ]
     },
     "execution_count": 1,
     "metadata": {},
     "output_type": "execute_result"
    }
   ],
   "source": [
    "%%time\n",
    "\n",
    "\n",
    "def is_lychrel(n: int) -> bool:\n",
    "    for _ in range(50):\n",
    "        n = n + int(str(n)[::-1])\n",
    "        if str(n) == str(n)[::-1]:\n",
    "            return False\n",
    "    return True\n",
    "\n",
    "\n",
    "sum(is_lychrel(x) for x in range(1, 10_000))\n",
    "\n",
    "\n",
    "# 249\n",
    "# 2022.08.14\n",
    "# Wall time: 47.3 ms"
   ]
  }
 ],
 "metadata": {
  "kernelspec": {
   "display_name": "Python 3",
   "language": "python",
   "name": "python3"
  },
  "language_info": {
   "codemirror_mode": {
    "name": "ipython",
    "version": 3
   },
   "file_extension": ".py",
   "mimetype": "text/x-python",
   "name": "python",
   "nbconvert_exporter": "python",
   "pygments_lexer": "ipython3",
   "version": "3.8.8"
  }
 },
 "nbformat": 4,
 "nbformat_minor": 5
}
