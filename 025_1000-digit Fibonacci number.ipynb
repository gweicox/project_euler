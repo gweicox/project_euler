{
 "cells": [
  {
   "cell_type": "markdown",
   "id": "7e13ed14",
   "metadata": {},
   "source": [
    "### 25. 1000-digit Fibonacci number\n",
    "\n",
    "link: https://projecteuler.net/problem=25\n",
    "\n",
    "The Fibonacci sequence is defined by the recurrence relation:\n",
    "\n",
    "F<sub>n</sub> = F<sub>n-1</sub> + F<sub>n-2</sub>, where F<sub>1</sub> = 1 and F<sub>2</sub> = 1.\n",
    "\n",
    "Hence the first 12 terms will be:\n",
    "\n",
    "> F1 = 1  \n",
    "> F2 = 1  \n",
    "> F3 = 2  \n",
    "> F4 = 3  \n",
    "> F5 = 5  \n",
    "> F6 = 8  \n",
    "> F7 = 13  \n",
    "> F8 = 21  \n",
    "> F9 = 34  \n",
    "> F10 = 55  \n",
    "> F11 = 89  \n",
    "> F12 = 144\n",
    "\n",
    "The 12th term, F<sub>12</sub>, is the first term to contain three digits.\n",
    "\n",
    "What is the index of the first term in the Fibonacci sequence to contain 1000 digits?"
   ]
  },
  {
   "cell_type": "code",
   "execution_count": 1,
   "id": "b559b46a",
   "metadata": {},
   "outputs": [
    {
     "name": "stdout",
     "output_type": "stream",
     "text": [
      "Wall time: 34 ms\n"
     ]
    },
    {
     "data": {
      "text/plain": [
       "4782"
      ]
     },
     "execution_count": 1,
     "metadata": {},
     "output_type": "execute_result"
    }
   ],
   "source": [
    "%%time\n",
    "\n",
    "def get_n_digit_fibo(n: int) -> int: \n",
    "    a, b, i = 1, 1, 2\n",
    "    \n",
    "    while len(str(b)) < n:\n",
    "        a, b, i = b, a + b, i + 1\n",
    "        \n",
    "    return i\n",
    "\n",
    "get_n_digit_fibo(1000)\n",
    "\n",
    "# 4782\n",
    "# 2022.07.15\n",
    "# Wall time: 34 ms"
   ]
  }
 ],
 "metadata": {
  "kernelspec": {
   "display_name": "Python 3",
   "language": "python",
   "name": "python3"
  },
  "language_info": {
   "codemirror_mode": {
    "name": "ipython",
    "version": 3
   },
   "file_extension": ".py",
   "mimetype": "text/x-python",
   "name": "python",
   "nbconvert_exporter": "python",
   "pygments_lexer": "ipython3",
   "version": "3.8.8"
  }
 },
 "nbformat": 4,
 "nbformat_minor": 5
}
