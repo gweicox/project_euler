{
 "cells": [
  {
   "cell_type": "markdown",
   "id": "4c401cfc",
   "metadata": {},
   "source": [
    "### 49. Prime permutations\n",
    "\n",
    "link: https://projecteuler.net/problem=49\n",
    "\n",
    "<p>The arithmetic sequence, 1487, 4817, 8147, in which each of the terms increases by 3330, is unusual in two ways: (i) each of the three terms are prime, and, (ii) each of the 4-digit numbers are permutations of one another.</p>\n",
    "<p>There are no arithmetic sequences made up of three 1-, 2-, or 3-digit primes, exhibiting this property, but there is one other 4-digit increasing sequence.</p>\n",
    "<p>What 12-digit number do you form by concatenating the three terms in this sequence?</p>"
   ]
  },
  {
   "cell_type": "code",
   "execution_count": 1,
   "id": "22cdbd81",
   "metadata": {},
   "outputs": [
    {
     "name": "stdout",
     "output_type": "stream",
     "text": [
      "1487 4817 8147\n",
      "2969 6299 9629\n",
      "Wall time: 21 ms\n"
     ]
    }
   ],
   "source": [
    "%%time\n",
    "\n",
    "from itertools import permutations as pm\n",
    "\n",
    "\n",
    "def eratosthenes_sieve(n: int) -> list:\n",
    "    sieve = list(range(n + 1))\n",
    "    sieve[1] = 0\n",
    "    for i in sieve:\n",
    "        if i > 1:\n",
    "            for j in range(i * i, n + 1, i):\n",
    "                sieve[j] = 0\n",
    "    return sieve\n",
    "\n",
    "primes = set(eratosthenes_sieve(9999)[1000:]) - {0}\n",
    "\n",
    "for p in primes:\n",
    "    row = [y for y in (int(''.join(x)) for x in pm(str(p))) if y in primes]\n",
    "    row = sorted(list(set(row)))\n",
    "    if len(row) >= 3:\n",
    "        for ind, i in enumerate(row[:-2], 1):\n",
    "            for j in row[ind:-1]:\n",
    "                delta = j - i\n",
    "                if j + delta in row:\n",
    "                    print(i, j , j + delta)\n",
    "                    primes = primes - set(row)\n",
    "\n",
    "# 296962999629\n",
    "# 2022.08.08\n",
    "# Wall time: 21 ms"
   ]
  }
 ],
 "metadata": {
  "kernelspec": {
   "display_name": "Python 3",
   "language": "python",
   "name": "python3"
  },
  "language_info": {
   "codemirror_mode": {
    "name": "ipython",
    "version": 3
   },
   "file_extension": ".py",
   "mimetype": "text/x-python",
   "name": "python",
   "nbconvert_exporter": "python",
   "pygments_lexer": "ipython3",
   "version": "3.8.8"
  }
 },
 "nbformat": 4,
 "nbformat_minor": 5
}
