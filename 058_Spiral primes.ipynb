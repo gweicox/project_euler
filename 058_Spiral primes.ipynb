{
 "cells": [
  {
   "cell_type": "markdown",
   "id": "28c3d8cc",
   "metadata": {},
   "source": [
    "### 58. Spiral primes\n",
    "\n",
    "link: https://projecteuler.net/problem=58\n",
    "\n",
    "<p>Starting with 1 and spiralling anticlockwise in the following way, a square spiral with side length 7 is formed.</p>"
   ]
  },
  {
   "cell_type": "markdown",
   "id": "21315fbe",
   "metadata": {},
   "source": [
    "<table style=\"border-collapse: collapse; font-weight: bold; font-size: larger;\">\n",
    "  <tr>\n",
    "    <td style=\"color: red;\">37</td>\n",
    "    <td>36</td>\n",
    "    <td>35</td>\n",
    "    <td>34</td>\n",
    "    <td>33</td>\n",
    "    <td>32</td>\n",
    "    <td style=\"color: red;\">31</td>\n",
    "  </tr>\n",
    "  <tr>\n",
    "    <td>38</td>\n",
    "    <td style=\"color: red;\">17</td>\n",
    "    <td>16</td>\n",
    "    <td>15</td>\n",
    "    <td>14</td>\n",
    "    <td style=\"color: red;\">13</td>\n",
    "    <td>30</td>\n",
    "  </tr>\n",
    "  <tr>\n",
    "    <td>39</td>\n",
    "    <td>18</td>\n",
    "    <td style=\"color: red;\">5</td>\n",
    "    <td>4</td>\n",
    "    <td style=\"color: red;\">3</td>\n",
    "    <td>12</td>\n",
    "    <td>29</td>\n",
    "  </tr>\n",
    "  <tr>\n",
    "    <td>40</td>\n",
    "    <td>19</td>\n",
    "    <td>6</td>\n",
    "    <td>1</td>\n",
    "    <td>2</td>\n",
    "    <td>11</td>\n",
    "    <td>28</td>\n",
    "  </tr>\n",
    "  <tr>\n",
    "    <td>41</td>\n",
    "    <td>20</td>\n",
    "    <td style=\"color: red;\">7</td>\n",
    "    <td>8</td>\n",
    "    <td>9</td>\n",
    "    <td>10</td>\n",
    "    <td>27</td>\n",
    "  </tr>\n",
    "  <tr>\n",
    "    <td>42</td>\n",
    "    <td>21</td>\n",
    "    <td>22</td>\n",
    "    <td>23</td>\n",
    "    <td>24</td>\n",
    "    <td>25</td>\n",
    "    <td>26</td>\n",
    "  </tr>\n",
    "  <tr>\n",
    "    <td style=\"color: red;\">43</td>\n",
    "    <td>44</td>\n",
    "    <td>45</td>\n",
    "    <td>46</td>\n",
    "    <td>47</td>\n",
    "    <td>48</td>\n",
    "    <td>49</td>\n",
    "  </tr>\n",
    "</table>\n"
   ]
  },
  {
   "cell_type": "markdown",
   "id": "269c9341",
   "metadata": {},
   "source": [
    "<p>It is interesting to note that the odd squares lie along the bottom right diagonal, but what is more interesting is that 8 out of the 13 numbers lying along both diagonals are prime; that is, a ratio of 8/13 ≈ 62%.</p>\n",
    "<p>If one complete new layer is wrapped around the spiral above, a square spiral with side length 9 will be formed. If this process is continued, what is the side length of the square spiral for which the ratio of primes along both diagonals first falls below 10%?</p>"
   ]
  },
  {
   "cell_type": "code",
   "execution_count": 1,
   "id": "c6b8c98a",
   "metadata": {},
   "outputs": [
    {
     "name": "stdout",
     "output_type": "stream",
     "text": [
      "26241\n",
      "Wall time: 1.61 s\n"
     ]
    }
   ],
   "source": [
    "%%time\n",
    "\n",
    "\n",
    "def is_prime(n):\n",
    "    if n <= 1: return False\n",
    "    if n <= 3: return True\n",
    "    if not n % 2 or not n % 3: return False\n",
    "    for d in range(5, int(n**0.5) + 1, 6):\n",
    "        if not n % d or not n % (d + 2): return False\n",
    "    return True\n",
    "\n",
    "side_length, diag_N, primes_N = 7, 13, 8\n",
    "\n",
    "while True:\n",
    "    side_length += 2\n",
    "    diag_N += 4\n",
    "\n",
    "    for n in range(1, 4):\n",
    "        primes_N += is_prime((side_length-2)**2 + n * (side_length-1))\n",
    "\n",
    "    if primes_N / diag_N < 0.1:\n",
    "        print(side_length)\n",
    "        break\n",
    "\n",
    "\n",
    "# 26241\n",
    "# 2024.01.25\n",
    "# Wall time: 1.61 s"
   ]
  }
 ],
 "metadata": {
  "kernelspec": {
   "display_name": "Python 3",
   "language": "python",
   "name": "python3"
  },
  "language_info": {
   "codemirror_mode": {
    "name": "ipython",
    "version": 3
   },
   "file_extension": ".py",
   "mimetype": "text/x-python",
   "name": "python",
   "nbconvert_exporter": "python",
   "pygments_lexer": "ipython3",
   "version": "3.8.8"
  }
 },
 "nbformat": 4,
 "nbformat_minor": 5
}
