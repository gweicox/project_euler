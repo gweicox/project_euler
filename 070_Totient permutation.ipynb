{
 "cells": [
  {
   "cell_type": "markdown",
   "id": "30172e2e",
   "metadata": {},
   "source": [
    "### 70. Totient permutation\n",
    "\n",
    "link: https://projecteuler.net/problem=70\n",
    "\n",
    "<p>Euler's Totient function, φ(<var>n</var>) [sometimes called the phi function], is used to determine the number of positive numbers less than or equal to <var>n</var> which are relatively prime to <var>n</var>. For example, as 1, 2, 4, 5, 7, and 8, are all less than nine and relatively prime to nine, φ(9)=6.<br />\n",
    "The number 1 is considered to be relatively prime to every positive number, so φ(1)=1. </p>\n",
    "\n",
    "<p>Interestingly, φ(87109)=79180, and it can be seen that 87109 is a permutation of 79180.</p>\n",
    "\n",
    "<p>Find the value of <var>n</var>, 1 &lt; <var>n</var> &lt; 10<sup>7</sup>, for which φ(<var>n</var>) is a permutation of <var>n</var> and the ratio <var>n</var>/φ(<var>n</var>) produces a minimum.</p>"
   ]
  },
  {
   "cell_type": "code",
   "execution_count": 1,
   "id": "e01bd3c1",
   "metadata": {},
   "outputs": [
    {
     "name": "stdout",
     "output_type": "stream",
     "text": [
      "Wall time: 5.34 s\n"
     ]
    },
    {
     "data": {
      "text/plain": [
       "8319823"
      ]
     },
     "execution_count": 1,
     "metadata": {},
     "output_type": "execute_result"
    }
   ],
   "source": [
    "%%time\n",
    "\n",
    "# https://en.wikipedia.org/wiki/Semiprime\n",
    "# https://oeis.org/A001358\n",
    "\n",
    "from math import sqrt\n",
    "from numpy import ones\n",
    "\n",
    "\n",
    "N = 10**7\n",
    "\n",
    "def sieve_of_eratosthenes(limit):\n",
    "    primes = ones(limit, dtype=bool)\n",
    "    primes[0] = primes[1] = False\n",
    "    for i in range(2, int(sqrt(limit)) + 1):\n",
    "        if primes[i]:\n",
    "            primes[i*i::i] = False\n",
    "    return primes\n",
    "\n",
    "\n",
    "def is_permutation(a, b):\n",
    "    return sorted(str(a)) == sorted(str(b))\n",
    "\n",
    "\n",
    "def algos(N):\n",
    "    sieve = sieve_of_eratosthenes(N)\n",
    "    ans, min_n_phi_ratio = None, float(\"inf\")\n",
    "\n",
    "    for i in range(N):\n",
    "        if sieve[i]:\n",
    "            for j in range(i, N):\n",
    "                if sieve[j]:\n",
    "                    if i * j > N:\n",
    "                        break\n",
    "                    n = i * j\n",
    "                    phi = n - (i + j) + 1 if i != j else n - i\n",
    "\n",
    "                    if is_permutation(n, phi):\n",
    "                        if n / phi < min_n_phi_ratio:\n",
    "                            min_n_phi_ratio = n / phi\n",
    "                            ans = n\n",
    "    return ans\n",
    "\n",
    "\n",
    "algos(N)\n",
    "\n",
    "# 8319823\n",
    "# 2024.02.09\n",
    "# Wall time: 5.34 s"
   ]
  }
 ],
 "metadata": {
  "kernelspec": {
   "display_name": "Python 3",
   "language": "python",
   "name": "python3"
  },
  "language_info": {
   "codemirror_mode": {
    "name": "ipython",
    "version": 3
   },
   "file_extension": ".py",
   "mimetype": "text/x-python",
   "name": "python",
   "nbconvert_exporter": "python",
   "pygments_lexer": "ipython3",
   "version": "3.8.8"
  }
 },
 "nbformat": 4,
 "nbformat_minor": 5
}
