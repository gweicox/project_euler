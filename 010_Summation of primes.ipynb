{
 "cells": [
  {
   "cell_type": "markdown",
   "id": "95274730",
   "metadata": {},
   "source": [
    "### 10.  Summation of primes\n",
    "\n",
    "link: https://projecteuler.net/problem=10\n",
    "\n",
    "The sum of the primes below 10 is 2 + 3 + 5 + 7 = 17.\n",
    "\n",
    "Find the sum of all the primes below two million."
   ]
  },
  {
   "cell_type": "code",
   "execution_count": 1,
   "id": "844c9167",
   "metadata": {},
   "outputs": [],
   "source": [
    "def eratosthenes_sieve(n: int) -> list:\n",
    "    \n",
    "    sieve = list(range(n + 1))\n",
    "    sieve[1] = 0\n",
    "    \n",
    "    for i in sieve:\n",
    "        if i > 1:\n",
    "            for j in range(i * i, n + 1, i):\n",
    "                sieve[j] = 0\n",
    "                \n",
    "    return sieve"
   ]
  },
  {
   "cell_type": "code",
   "execution_count": 2,
   "id": "e6229c31",
   "metadata": {},
   "outputs": [
    {
     "name": "stdout",
     "output_type": "stream",
     "text": [
      "Wall time: 673 ms\n"
     ]
    },
    {
     "data": {
      "text/plain": [
       "142913828922"
      ]
     },
     "execution_count": 2,
     "metadata": {},
     "output_type": "execute_result"
    }
   ],
   "source": [
    "%%time\n",
    "\n",
    "sum(eratosthenes_sieve(2 * 10**6))\n",
    "\n",
    "# 2022.06.30"
   ]
  }
 ],
 "metadata": {
  "kernelspec": {
   "display_name": "Python 3",
   "language": "python",
   "name": "python3"
  },
  "language_info": {
   "codemirror_mode": {
    "name": "ipython",
    "version": 3
   },
   "file_extension": ".py",
   "mimetype": "text/x-python",
   "name": "python",
   "nbconvert_exporter": "python",
   "pygments_lexer": "ipython3",
   "version": "3.8.8"
  }
 },
 "nbformat": 4,
 "nbformat_minor": 5
}
