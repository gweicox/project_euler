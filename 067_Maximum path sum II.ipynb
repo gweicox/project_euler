{
 "cells": [
  {
   "cell_type": "markdown",
   "id": "a63361ae",
   "metadata": {},
   "source": [
    "### 67. Maximum path sum II\n",
    "\n",
    "link: https://projecteuler.net/problem=67\n",
    "\n",
    "<p>By starting at the top of the triangle below and moving to adjacent numbers on the row below, the maximum total from top to bottom is 23.</p>\n",
    "\n",
    "<p style=\"text-align: center; font-size: larger;\">\n",
    "<span style=\"color: red;\"><b> 3 </b></span><br />\n",
    "<span style=\"color: red;\"><b> 7 </b></span> 4 <br />\n",
    "2 <span style=\"color: red;\"><b> 4 </b></span> 6 <br />\n",
    "8 5 <span style=\"color: red;\"><b> 9 </b></span> 3</p>\n",
    "\n",
    "<p>That is, 3 + 7 + 4 + 9 = 23.</p>\n",
    "\n",
    "<p>Find the maximum total from top to bottom in <a href=\"https://projecteuler.net/resources/documents/0067_triangle.txt\">triangle.txt</a> (right click and 'Save Link/Target As...'), a 15K text file containing a triangle with one-hundred rows.</p>\n",
    "\n",
    "<p class=\"smaller\"><b>NOTE:</b> This is a much more difficult version of <a href=\"https://projecteuler.net/problem=18\">Problem 18</a>. It is not possible to try every route to solve this problem, as there are 2<sup>99</sup> altogether! If you could check one trillion (10<sup>12</sup>) routes every second it would take over twenty billion years to check them all. There is an efficient algorithm to solve it. ;o)</p>"
   ]
  },
  {
   "cell_type": "code",
   "execution_count": 1,
   "id": "9035a188",
   "metadata": {},
   "outputs": [
    {
     "name": "stdout",
     "output_type": "stream",
     "text": [
      "Wall time: 4 ms\n"
     ]
    },
    {
     "data": {
      "text/plain": [
       "7273"
      ]
     },
     "execution_count": 1,
     "metadata": {},
     "output_type": "execute_result"
    }
   ],
   "source": [
    "%%time\n",
    "\n",
    "\n",
    "with open(\"067_Maximum path sum II.txt\") as f:\n",
    "    data = f.read().strip()\n",
    "\n",
    "\n",
    "def algos(data):\n",
    "    triangle = [[*map(int, line.split())] for line in data.splitlines()]\n",
    "\n",
    "    for i, row in enumerate(triangle[1:], 1):\n",
    "        for j, num in enumerate(row):\n",
    "            triangle[i][j] = num + max(triangle[i-1][max(0, j-1): j+1])\n",
    "\n",
    "    return max(triangle[-1])\n",
    "\n",
    "\n",
    "algos(data)\n",
    "\n",
    "# 7273\n",
    "# 2024.02.05\n",
    "# Wall time: 4 ms"
   ]
  }
 ],
 "metadata": {
  "kernelspec": {
   "display_name": "Python 3",
   "language": "python",
   "name": "python3"
  },
  "language_info": {
   "codemirror_mode": {
    "name": "ipython",
    "version": 3
   },
   "file_extension": ".py",
   "mimetype": "text/x-python",
   "name": "python",
   "nbconvert_exporter": "python",
   "pygments_lexer": "ipython3",
   "version": "3.8.8"
  }
 },
 "nbformat": 4,
 "nbformat_minor": 5
}
