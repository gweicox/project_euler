{
 "cells": [
  {
   "cell_type": "markdown",
   "id": "d051882e",
   "metadata": {},
   "source": [
    "### 19.  Counting Sundays\n",
    "\n",
    "link: https://projecteuler.net/problem=19\n",
    "\n",
    "You are given the following information, but you may prefer to do some research for yourself.\n",
    "\n",
    "-   1 Jan 1900 was a Monday.\n",
    "-   Thirty days has September,  \n",
    "    April, June and November.  \n",
    "    All the rest have thirty-one,  \n",
    "    Saving February alone,  \n",
    "    Which has twenty-eight, rain or shine.  \n",
    "    And on leap years, twenty-nine.\n",
    "-   A leap year occurs on any year evenly divisible by 4, but not on a century unless it is divisible by 400.\n",
    "\n",
    "How many Sundays fell on the first of the month during the twentieth century (1 Jan 1901 to 31 Dec 2000)?"
   ]
  },
  {
   "cell_type": "code",
   "execution_count": 1,
   "id": "95fda2cb",
   "metadata": {},
   "outputs": [
    {
     "name": "stdout",
     "output_type": "stream",
     "text": [
      "171\n",
      "Wall time: 8.96 ms\n"
     ]
    }
   ],
   "source": [
    "%%time\n",
    "\n",
    "days_of_week = [1, 2, 3, 4, 5, 6, 7] * (366 * 101 // 7)\n",
    "\n",
    "month_days =  {1: 31, 2: 28, 3: 31, 4: 30, 5: 31, 6: 30, 7: 31, 8: 31, 9: 30, 10: 31, 11: 30, 12: 31}\n",
    "\n",
    "days_of_month, acc = [], 0\n",
    "\n",
    "\n",
    "for year in range(1900, 2001):\n",
    "    month_days[2] = (29, 28)[(year % 4 != 0) or (year % 100 == 0 and year % 400 != 0)]\n",
    "    for month in range(1, 13):\n",
    "        days_of_month += list(range(1, month_days[month] + 1))\n",
    "\n",
    "for i, j in zip(days_of_month[365:], days_of_week[365:]):\n",
    "    if (i == 1) and (j == 7):\n",
    "        acc += 1\n",
    "        \n",
    "print(acc)\n",
    "\n",
    "# 2022.07.09\n",
    "# 171"
   ]
  }
 ],
 "metadata": {
  "kernelspec": {
   "display_name": "Python 3",
   "language": "python",
   "name": "python3"
  },
  "language_info": {
   "codemirror_mode": {
    "name": "ipython",
    "version": 3
   },
   "file_extension": ".py",
   "mimetype": "text/x-python",
   "name": "python",
   "nbconvert_exporter": "python",
   "pygments_lexer": "ipython3",
   "version": "3.8.8"
  }
 },
 "nbformat": 4,
 "nbformat_minor": 5
}
