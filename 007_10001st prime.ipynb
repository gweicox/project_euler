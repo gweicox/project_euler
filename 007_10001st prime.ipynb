{
 "cells": [
  {
   "cell_type": "markdown",
   "id": "69555e1d",
   "metadata": {},
   "source": [
    "### 7.  10001st prime\n",
    "\n",
    "link: https://projecteuler.net/problem=7\n",
    "\n",
    "By listing the first six prime numbers: 2, 3, 5, 7, 11, and 13, we can see that the 6th prime is 13.\n",
    "\n",
    "What is the 10 001st prime number?"
   ]
  },
  {
   "cell_type": "code",
   "execution_count": 1,
   "id": "f745c312",
   "metadata": {},
   "outputs": [],
   "source": [
    "from math import log as ln\n",
    "\n",
    "def n_prime(n: int) -> int:\n",
    "    \n",
    "    if n == 1: return 2\n",
    "    \n",
    "    upper_bound = max(12, int(n * (ln(n) + ln(ln(n)))))\n",
    "    sieve = [True] * upper_bound\n",
    "    \n",
    "    acc, curr = 1, 1\n",
    "    \n",
    "    while acc < n:\n",
    "        curr += 2\n",
    "        if sieve[curr]:\n",
    "            acc += 1\n",
    "            for i in range(curr ** 2, upper_bound, curr):\n",
    "                sieve[i] = False \n",
    "    return curr"
   ]
  },
  {
   "cell_type": "code",
   "execution_count": 2,
   "id": "34d497a6",
   "metadata": {},
   "outputs": [
    {
     "name": "stdout",
     "output_type": "stream",
     "text": [
      "Wall time: 20.8 ms\n"
     ]
    },
    {
     "data": {
      "text/plain": [
       "104743"
      ]
     },
     "execution_count": 2,
     "metadata": {},
     "output_type": "execute_result"
    }
   ],
   "source": [
    "%%time\n",
    "\n",
    "n_prime(10_001) \n",
    "\n",
    "# 2022.06.27"
   ]
  }
 ],
 "metadata": {
  "kernelspec": {
   "display_name": "Python 3",
   "language": "python",
   "name": "python3"
  },
  "language_info": {
   "codemirror_mode": {
    "name": "ipython",
    "version": 3
   },
   "file_extension": ".py",
   "mimetype": "text/x-python",
   "name": "python",
   "nbconvert_exporter": "python",
   "pygments_lexer": "ipython3",
   "version": "3.8.8"
  }
 },
 "nbformat": 4,
 "nbformat_minor": 5
}
