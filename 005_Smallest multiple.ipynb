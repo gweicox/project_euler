{
 "cells": [
  {
   "cell_type": "markdown",
   "id": "b81c8555",
   "metadata": {},
   "source": [
    "### 5. Smallest multiple\n",
    "link: https://projecteuler.net/problem=5\n",
    "\n",
    "2520 is the smallest number that can be divided by each of the numbers from 1 to 10 without any remainder.\n",
    "\n",
    "What is the smallest positive number that is evenly divisible by all of the numbers from 1 to 20?"
   ]
  },
  {
   "cell_type": "code",
   "execution_count": 1,
   "id": "0ac608c9",
   "metadata": {},
   "outputs": [],
   "source": [
    "from functools import reduce\n",
    "\n",
    "\n",
    "def smallest_multiple(n: int) -> int:\n",
    "    \n",
    "    # greatest common divisor\n",
    "    def gcd(a: int, b: int) -> int: \n",
    "        while b != 0: \n",
    "            a, b = b, a % b \n",
    "        return a\n",
    "    \n",
    "    # least common multiple\n",
    "    def lcm(a: int, b: int) -> int:\n",
    "        return a * b // gcd(a, b)\n",
    "    \n",
    "    return reduce(lcm, range(2, n + 1))    "
   ]
  },
  {
   "cell_type": "code",
   "execution_count": 2,
   "id": "4f8efd24",
   "metadata": {},
   "outputs": [
    {
     "name": "stdout",
     "output_type": "stream",
     "text": [
      "Wall time: 0 ns\n"
     ]
    },
    {
     "data": {
      "text/plain": [
       "232792560"
      ]
     },
     "execution_count": 2,
     "metadata": {},
     "output_type": "execute_result"
    }
   ],
   "source": [
    "%%time\n",
    "\n",
    "smallest_multiple(20)\n",
    "\n",
    "# 2022.06.25"
   ]
  }
 ],
 "metadata": {
  "kernelspec": {
   "display_name": "Python 3",
   "language": "python",
   "name": "python3"
  },
  "language_info": {
   "codemirror_mode": {
    "name": "ipython",
    "version": 3
   },
   "file_extension": ".py",
   "mimetype": "text/x-python",
   "name": "python",
   "nbconvert_exporter": "python",
   "pygments_lexer": "ipython3",
   "version": "3.8.8"
  }
 },
 "nbformat": 4,
 "nbformat_minor": 5
}
