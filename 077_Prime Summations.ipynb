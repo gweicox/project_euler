{
 "cells": [
  {
   "cell_type": "markdown",
   "id": "92bb1ba0",
   "metadata": {},
   "source": [
    "### 77. Prime Summations\n",
    "\n",
    "link: https://projecteuler.net/problem=77\n",
    "\n",
    "\n",
    "<p>It is possible to write ten as the sum of primes in exactly five different ways:</p>\n",
    "\n",
    "\\begin{align}\n",
    "& 7 + 3\\\\\n",
    "& 5 + 5\\\\\n",
    "& 5 + 3 + 2\\\\\n",
    "& 3 + 3 + 2 + 2\\\\\n",
    "& 2 + 2 + 2 + 2 + 2\n",
    "\\end{align}\n",
    "\n",
    "<p>What is the first value which can be written as the sum of primes in over five thousand different ways?</p>"
   ]
  },
  {
   "cell_type": "code",
   "execution_count": 1,
   "id": "7240a8d2",
   "metadata": {},
   "outputs": [
    {
     "name": "stdout",
     "output_type": "stream",
     "text": [
      "Wall time: 0 ns\n"
     ]
    },
    {
     "data": {
      "text/plain": [
       "71"
      ]
     },
     "execution_count": 1,
     "metadata": {},
     "output_type": "execute_result"
    }
   ],
   "source": [
    "%%time\n",
    "\n",
    "\n",
    "def eratosthenes_sieve(n):\n",
    "    sieve = list(range(n + 1))\n",
    "    sieve[1] = 0\n",
    "    for i in sieve:\n",
    "        if i > 1:\n",
    "            for j in range(i * i, n + 1, i):\n",
    "                sieve[j] = 0\n",
    "    return sieve\n",
    "\n",
    "\n",
    "def algos(N, target):\n",
    "    sieve = eratosthenes_sieve(N)\n",
    "    ways = [0] * (N + 1)\n",
    "    ways[0] = 1\n",
    "\n",
    "    for d in sieve:\n",
    "        if d:\n",
    "            for i in range(d, N + 1):\n",
    "                ways[i] += ways[i - d]\n",
    "\n",
    "    for d, w in enumerate(ways):\n",
    "        if w > target:\n",
    "            return d\n",
    "\n",
    "    return \"N must be greater.\"\n",
    "\n",
    "\n",
    "algos(100, 5000)\n",
    "\n",
    "# 71\n",
    "# 2024.02.18\n",
    "# Wall time: 0 ns"
   ]
  }
 ],
 "metadata": {
  "kernelspec": {
   "display_name": "Python 3",
   "language": "python",
   "name": "python3"
  },
  "language_info": {
   "codemirror_mode": {
    "name": "ipython",
    "version": 3
   },
   "file_extension": ".py",
   "mimetype": "text/x-python",
   "name": "python",
   "nbconvert_exporter": "python",
   "pygments_lexer": "ipython3",
   "version": "3.8.8"
  }
 },
 "nbformat": 4,
 "nbformat_minor": 5
}
