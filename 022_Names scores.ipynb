{
 "cells": [
  {
   "cell_type": "markdown",
   "id": "27aa0ad7",
   "metadata": {},
   "source": [
    "### 22  Names scores\n",
    "\n",
    "link: https://projecteuler.net/problem=22\n",
    "\n",
    "Using [names.txt](https://projecteuler.net/project/resources/p022_names.txt) (right click and 'Save Link/Target As...'), a 46K text file containing over five-thousand first names, begin by sorting it into alphabetical order. Then working out the alphabetical value for each name, multiply this value by its alphabetical position in the list to obtain a name score.\n",
    "\n",
    "For example, when the list is sorted into alphabetical order, COLIN, which is worth 3 + 15 + 12 + 9 + 14 = 53, is the 938th name in the list. So, COLIN would obtain a score of 938 × 53 = 49714.\n",
    "\n",
    "What is the total of all the name scores in the file?"
   ]
  },
  {
   "cell_type": "code",
   "execution_count": 1,
   "id": "a4fb911e",
   "metadata": {},
   "outputs": [
    {
     "name": "stdout",
     "output_type": "stream",
     "text": [
      "Wall time: 10 ms\n"
     ]
    },
    {
     "data": {
      "text/plain": [
       "871198282"
      ]
     },
     "execution_count": 1,
     "metadata": {},
     "output_type": "execute_result"
    }
   ],
   "source": [
    "%%time\n",
    "\n",
    "with open('022_Names scores_names.txt') as f:\n",
    "    names = sorted(f.read().replace('\"', '').lower().split(','))\n",
    "\n",
    "sum(n * sum(ord(x) - 96 for x in name) for n, name in enumerate(names, 1))\n",
    "\n",
    "# 2022.07.12\n",
    "# 871198282\n",
    "# Wall time: 10 ms"
   ]
  },
  {
   "cell_type": "code",
   "execution_count": 2,
   "id": "1c4445c2",
   "metadata": {},
   "outputs": [
    {
     "name": "stdout",
     "output_type": "stream",
     "text": [
      "Wall time: 20 ms\n"
     ]
    },
    {
     "data": {
      "text/plain": [
       "871198282"
      ]
     },
     "execution_count": 2,
     "metadata": {},
     "output_type": "execute_result"
    }
   ],
   "source": [
    "%%time\n",
    "\n",
    "sum(i * sum(ord(x)-64 for x in j) for i, j in enumerate(sorted(eval('['+ open('022_Names scores_names.txt').read() +']')), 1))"
   ]
  }
 ],
 "metadata": {
  "kernelspec": {
   "display_name": "Python 3",
   "language": "python",
   "name": "python3"
  },
  "language_info": {
   "codemirror_mode": {
    "name": "ipython",
    "version": 3
   },
   "file_extension": ".py",
   "mimetype": "text/x-python",
   "name": "python",
   "nbconvert_exporter": "python",
   "pygments_lexer": "ipython3",
   "version": "3.8.8"
  }
 },
 "nbformat": 4,
 "nbformat_minor": 5
}
