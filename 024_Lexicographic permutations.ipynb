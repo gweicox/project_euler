{
 "cells": [
  {
   "cell_type": "markdown",
   "id": "14e6c7cb",
   "metadata": {},
   "source": [
    "### 24. Lexicographic permutations\n",
    "\n",
    "link: https://projecteuler.net/problem=24\n",
    "\n",
    "A permutation is an ordered arrangement of objects. For example, 3124 is one possible permutation of the digits 1, 2, 3 and 4. If all of the permutations are listed numerically or alphabetically, we call it lexicographic order. The lexicographic permutations of 0, 1 and 2 are:\n",
    "\n",
    "                                012   021   102   120   201   210\n",
    "\n",
    "What is the millionth lexicographic permutation of the digits 0, 1, 2, 3, 4, 5, 6, 7, 8 and 9?"
   ]
  },
  {
   "cell_type": "code",
   "execution_count": 1,
   "id": "d8116593",
   "metadata": {},
   "outputs": [
    {
     "name": "stdout",
     "output_type": "stream",
     "text": [
      "Wall time: 0 ns\n"
     ]
    },
    {
     "data": {
      "text/plain": [
       "('1000000 = 9!*2 + 8!*6 + 7!*6 + 6!*2 + 5!*5 + 4!*1 + 3!*2 + 2!*2',\n",
       " '2783915460')"
      ]
     },
     "execution_count": 1,
     "metadata": {},
     "output_type": "execute_result"
    }
   ],
   "source": [
    "%%time\n",
    "from math import factorial as f\n",
    "\n",
    "\n",
    "def get_n_lex_permutation(limit: int, digits: str):\n",
    "    multipliers, acc, bf = '', 0, 0\n",
    "    \n",
    "    while f(bf + 1) < limit:\n",
    "        bf += 1\n",
    "        \n",
    "    for b in range(bf, 0, -1):\n",
    "        m = 0\n",
    "        while acc + f(b) * m <= limit:\n",
    "            if acc + f(b) * m == limit:\n",
    "                multipliers += str(m)\n",
    "                f_sum = f'{limit} = ' + ' + '.join([f'{x}!*{y}' for x, y in zip(range(bf,0,-1), multipliers)])\n",
    "                n = ''\n",
    "                \n",
    "                for i in multipliers[:-1]:\n",
    "                    n += digits[int(i)]\n",
    "                    digits = digits[:int(i)] + digits[int(i)+1:]\n",
    "                \n",
    "                n += digits[int(multipliers[-1]) - 1]\n",
    "                digits = digits[:int(multipliers[-1]) - 1] + digits[int(multipliers[-1]) - 1 +1:]\n",
    "                n += digits[::-1]\n",
    "                return (f_sum, n)\n",
    "            \n",
    "            m += 1\n",
    "        acc += f(b) * (m - 1)\n",
    "        multipliers += str(m - 1)\n",
    "\n",
    "        \n",
    "get_n_lex_permutation(10**6, '0123456789')\n",
    "\n",
    "# 2783915460\n",
    "# 2022.07.14\n",
    "# Wall time: 0 ns"
   ]
  }
 ],
 "metadata": {
  "kernelspec": {
   "display_name": "Python 3",
   "language": "python",
   "name": "python3"
  },
  "language_info": {
   "codemirror_mode": {
    "name": "ipython",
    "version": 3
   },
   "file_extension": ".py",
   "mimetype": "text/x-python",
   "name": "python",
   "nbconvert_exporter": "python",
   "pygments_lexer": "ipython3",
   "version": "3.8.8"
  }
 },
 "nbformat": 4,
 "nbformat_minor": 5
}
