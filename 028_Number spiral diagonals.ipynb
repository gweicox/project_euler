{
 "cells": [
  {
   "cell_type": "markdown",
   "id": "c9741888",
   "metadata": {},
   "source": [
    "### 28. Number spiral diagonals\n",
    "\n",
    "link: https://projecteuler.net/problem=28\n",
    "\n",
    "Starting with the number 1 and moving to the right in a clockwise direction a 5 by 5 spiral is formed as follows:\n",
    "\n",
    "\n",
    "| | | | | |\n",
    "| :---: | :---: | :---: | :---: | :---: |\n",
    "|<span style=\"color:red\">**21**</span>|22|23|24|<span style=\"color:red\">**25**</span>| \n",
    "|20|<span style=\"color:red\">**7**</span>|8|<span style=\"color:red\">**9**</span>|10|\n",
    "|19|6|<span style=\"color:red\">**1**</span>|2|11|\n",
    "|18|<span style=\"color:red\">**5**</span>|4|<span style=\"color:red\">**3**</span>|12|\n",
    "|<span style=\"color:red\">**17**</span>|16|15|14|<span style=\"color:red\">**13**</span>|\n",
    "\n",
    "\n",
    "It can be verified that the sum of the numbers on the diagonals is 101.\n",
    "\n",
    "What is the sum of the numbers on the diagonals in a 1001 by 1001 spiral formed in the same way?"
   ]
  },
  {
   "cell_type": "code",
   "execution_count": 1,
   "id": "a7d3ea22",
   "metadata": {},
   "outputs": [
    {
     "name": "stdout",
     "output_type": "stream",
     "text": [
      "Wall time: 0 ns\n"
     ]
    },
    {
     "data": {
      "text/plain": [
       "669171001"
      ]
     },
     "execution_count": 1,
     "metadata": {},
     "output_type": "execute_result"
    }
   ],
   "source": [
    "%%time\n",
    "\n",
    "def get_diagonal_sum(n) -> int:\n",
    "    return 1 + sum((4 * x**2) - (6 * x) + 6 for x in range(3, n + 1, 2))\n",
    "\n",
    "get_diagonal_sum(1001)\n",
    "\n",
    "\n",
    "# 669171001\n",
    "# 2022.07.18\n",
    "# Wall time: 0 ns"
   ]
  }
 ],
 "metadata": {
  "kernelspec": {
   "display_name": "Python 3",
   "language": "python",
   "name": "python3"
  },
  "language_info": {
   "codemirror_mode": {
    "name": "ipython",
    "version": 3
   },
   "file_extension": ".py",
   "mimetype": "text/x-python",
   "name": "python",
   "nbconvert_exporter": "python",
   "pygments_lexer": "ipython3",
   "version": "3.8.8"
  }
 },
 "nbformat": 4,
 "nbformat_minor": 5
}
