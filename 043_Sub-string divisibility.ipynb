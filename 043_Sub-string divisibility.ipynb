{
 "cells": [
  {
   "cell_type": "markdown",
   "id": "2740bc54",
   "metadata": {},
   "source": [
    "### 43. Sub-string divisibility\n",
    "\n",
    "link: https://projecteuler.net/problem=43\n",
    "\n",
    "<p>The number, 1406357289, is a 0 to 9 pandigital number because it is made up of each of the digits 0 to 9 in some order, but it also has a rather interesting sub-string divisibility property.</p>\n",
    "<p>Let <i>d</i><sub>1</sub> be the 1<sup>st</sup> digit, <i>d</i><sub>2</sub> be the 2<sup>nd</sup> digit, and so on. In this way, we note the following:</p>\n",
    "<ul><li><i>d</i><sub>2</sub><i>d</i><sub>3</sub><i>d</i><sub>4</sub>=406 is divisible by 2</li>\n",
    "<li><i>d</i><sub>3</sub><i>d</i><sub>4</sub><i>d</i><sub>5</sub>=063 is divisible by 3</li>\n",
    "<li><i>d</i><sub>4</sub><i>d</i><sub>5</sub><i>d</i><sub>6</sub>=635 is divisible by 5</li>\n",
    "<li><i>d</i><sub>5</sub><i>d</i><sub>6</sub><i>d</i><sub>7</sub>=357 is divisible by 7</li>\n",
    "<li><i>d</i><sub>6</sub><i>d</i><sub>7</sub><i>d</i><sub>8</sub>=572 is divisible by 11</li>\n",
    "<li><i>d</i><sub>7</sub><i>d</i><sub>8</sub><i>d</i><sub>9</sub>=728 is divisible by 13</li>\n",
    "<li><i>d</i><sub>8</sub><i>d</i><sub>9</sub><i>d</i><sub>10</sub>=289 is divisible by 17</li>\n",
    "</ul><p>Find the sum of all 0 to 9 pandigital numbers with this property.</p>"
   ]
  },
  {
   "cell_type": "code",
   "execution_count": 1,
   "id": "8fa3b7a5",
   "metadata": {},
   "outputs": [
    {
     "name": "stdout",
     "output_type": "stream",
     "text": [
      "Wall time: 33.3 ms\n"
     ]
    },
    {
     "data": {
      "text/plain": [
       "16695334890"
      ]
     },
     "execution_count": 1,
     "metadata": {},
     "output_type": "execute_result"
    }
   ],
   "source": [
    "%%time\n",
    "\n",
    "\n",
    "acc, d = [], {'0','1','2','3','4','5','6','7','8','9'}\n",
    "\n",
    "for i1 in d:\n",
    "    for i2 in d.difference({i1}):\n",
    "        for i3 in d.difference({i1, i2}):\n",
    "            for i4 in {'0','2','4','6','8'}.difference({i1, i2, i3}):\n",
    "                for i5 in d.difference({i1, i2, i3, i4}):\n",
    "                    if not int(i3 + i4 + i5) % 3:\n",
    "                        for i6 in {'0','5'}.difference({i1, i2, i3, i4, i5}):\n",
    "                            for i7 in d.difference({i1, i2, i3, i4, i5, i6}):\n",
    "                                if not int(i5 + i6 + i7) % 7:\n",
    "                                    for i8 in d.difference({i1, i2, i3, i4, i5, i6, i7}):\n",
    "                                        if not int(i6 + i7 + i8) % 11:\n",
    "                                            for i9 in d.difference({i1, i2, i3, i4, i5, i6, i7, i8}):\n",
    "                                                if not int(i7 + i8 + i9) % 13:\n",
    "                                                    for i10 in d.difference({i1, i2, i3, i4, i5, i6, i7, i8, i9}):\n",
    "                                                        if not int(i8 + i9 + i10) % 17:\n",
    "                                                            acc.append(''.join((i1, i2, i3, i4, i5, i6, i7, i8, i9, i10)))\n",
    "\n",
    "\n",
    "sum(int(x) for x in acc)\n",
    "\n",
    "\n",
    "# 16695334890\n",
    "# 2022.08.02\n",
    "# Wall time: 33.3 ms"
   ]
  }
 ],
 "metadata": {
  "kernelspec": {
   "display_name": "Python 3",
   "language": "python",
   "name": "python3"
  },
  "language_info": {
   "codemirror_mode": {
    "name": "ipython",
    "version": 3
   },
   "file_extension": ".py",
   "mimetype": "text/x-python",
   "name": "python",
   "nbconvert_exporter": "python",
   "pygments_lexer": "ipython3",
   "version": "3.8.8"
  }
 },
 "nbformat": 4,
 "nbformat_minor": 5
}
