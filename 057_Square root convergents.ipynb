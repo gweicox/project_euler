{
 "cells": [
  {
   "cell_type": "markdown",
   "id": "cd5ea09a",
   "metadata": {},
   "source": [
    "### 57. Square root convergents\n",
    "\n",
    "link: https://projecteuler.net/problem=57\n",
    "\n",
    "<p>It is possible to show that the square root of two can be expressed as an infinite continued fraction.</p>\n",
    "<p class=\"center\">$\\sqrt 2 =1+ \\frac 1 {2+ \\frac 1 {2 +\\frac 1 {2+ \\dots}}}$</p>\n",
    "<p>By expanding this for the first four iterations, we get:</p>\n",
    "<p>$1 + \\frac 1 2 = \\frac  32 = 1.5$<br />\n",
    "$1 + \\frac 1 {2 + \\frac 1 2} = \\frac 7 5 = 1.4$<br />\n",
    "$1 + \\frac 1 {2 + \\frac 1 {2+\\frac 1 2}} = \\frac {17}{12} = 1.41666 \\dots$<br />\n",
    "$1 + \\frac 1 {2 + \\frac 1 {2+\\frac 1 {2+\\frac 1 2}}} = \\frac {41}{29} = 1.41379 \\dots$<br /></p>\n",
    "<p>The next three expansions are $\\frac {99}{70}$, $\\frac {239}{169}$, and $\\frac {577}{408}$, but the eighth expansion, $\\frac {1393}{985}$, is the first example where the number of digits in the numerator exceeds the number of digits in the denominator.</p>\n",
    "<p>In the first one-thousand expansions, how many fractions contain a numerator with more digits than the denominator?</p>"
   ]
  },
  {
   "cell_type": "code",
   "execution_count": 1,
   "id": "a866710a",
   "metadata": {},
   "outputs": [
    {
     "name": "stdout",
     "output_type": "stream",
     "text": [
      "ans = 153\n",
      "Wall time: 6.85 ms\n"
     ]
    }
   ],
   "source": [
    "%%time\n",
    "\n",
    "\n",
    "acc, a, b = 0, 3, 2\n",
    "\n",
    "for _ in range(999):\n",
    "    a, b = (a + 2 * b), (a + b)\n",
    "    acc += len(str(a)) > len(str(b))\n",
    "\n",
    "print(f\"ans = {acc}\")\n",
    "\n",
    "# 153\n",
    "# 2024.01.24\n",
    "# Wall time: 6.85 ms"
   ]
  }
 ],
 "metadata": {
  "kernelspec": {
   "display_name": "Python 3",
   "language": "python",
   "name": "python3"
  },
  "language_info": {
   "codemirror_mode": {
    "name": "ipython",
    "version": 3
   },
   "file_extension": ".py",
   "mimetype": "text/x-python",
   "name": "python",
   "nbconvert_exporter": "python",
   "pygments_lexer": "ipython3",
   "version": "3.8.8"
  }
 },
 "nbformat": 4,
 "nbformat_minor": 5
}
