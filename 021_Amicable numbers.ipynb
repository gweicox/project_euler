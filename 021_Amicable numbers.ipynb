{
 "cells": [
  {
   "cell_type": "markdown",
   "id": "c02178fd",
   "metadata": {},
   "source": [
    "### 21. Amicable numbers\n",
    "\n",
    "link: https://projecteuler.net/problem=21\n",
    "\n",
    "Let d(_n_) be defined as the sum of proper divisors of _n_ (numbers less than _n_ which divide evenly into _n_).  \n",
    "If d(_a_) = _b_ and d(_b_) = _a_, where _a_ ≠ _b_, then _a_ and _b_ are an amicable pair and each of _a_ and _b_ are called amicable numbers.\n",
    "\n",
    "For example, the proper divisors of 220 are 1, 2, 4, 5, 10, 11, 20, 22, 44, 55 and 110; therefore d(220) = 284. <br>The proper divisors of 284 are 1, 2, 4, 71 and 142; so d(284) = 220.\n",
    "\n",
    "Evaluate the sum of all the amicable numbers under 10000."
   ]
  },
  {
   "cell_type": "code",
   "execution_count": 1,
   "id": "535a21fa",
   "metadata": {},
   "outputs": [
    {
     "name": "stdout",
     "output_type": "stream",
     "text": [
      "Wall time: 105 ms\n"
     ]
    },
    {
     "data": {
      "text/plain": [
       "31626"
      ]
     },
     "execution_count": 1,
     "metadata": {},
     "output_type": "execute_result"
    }
   ],
   "source": [
    "%%time\n",
    "\n",
    "d = lambda n: sum([x + (n // x) * (n**0.5 != x) for x in range(2, int(n**0.5) + 1) if n % x == 0]) + 1\n",
    "\n",
    "sum([x for x in range(4, 10_001) if (d(z:=d(x)) == x) and (x != z)])\n",
    "\n",
    "# 2022.07.11\n",
    "# 31626"
   ]
  }
 ],
 "metadata": {
  "kernelspec": {
   "display_name": "Python 3",
   "language": "python",
   "name": "python3"
  },
  "language_info": {
   "codemirror_mode": {
    "name": "ipython",
    "version": 3
   },
   "file_extension": ".py",
   "mimetype": "text/x-python",
   "name": "python",
   "nbconvert_exporter": "python",
   "pygments_lexer": "ipython3",
   "version": "3.8.8"
  }
 },
 "nbformat": 4,
 "nbformat_minor": 5
}
