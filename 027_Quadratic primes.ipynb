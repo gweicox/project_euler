{
 "cells": [
  {
   "cell_type": "markdown",
   "id": "bd7d76be",
   "metadata": {},
   "source": [
    "### 27.  Quadratic primes\n",
    "\n",
    "link: https://projecteuler.net/problem=27\n",
    "\n",
    "Euler discovered the remarkable quadratic formula:\n",
    "\n",
    "n<sup>2</sup> + n + 41\n",
    "\n",
    "It turns out that the formula will produce 40 primes for the consecutive integer values 0≤n≤39. However, when n=40, 40<sup>2</sup> + 40 + 41 = 40(40 + 1) + 41 is divisible by 41, and certainly when n=41, 41<sup>2</sup> + 41 + 41 is clearly divisible by 41.\n",
    "\n",
    "The incredible formula n<sup>2</sup> −79n + 1601 was discovered, which produces 80 primes for the consecutive values 0≤n≤79. The product of the coefficients, −79 and 1601, is −126479.\n",
    "\n",
    "Considering quadratics of the form:\n",
    "\n",
    "> n<sup>2</sup> + an + b, where |a|<1000 and |b|≤1000  \n",
    ">   \n",
    "> where |n| is the modulus/absolute value of n  \n",
    "> e.g. |11|=11 and |−4|=4\n",
    "\n",
    "Find the product of the coefficients, a and b, for the quadratic expression that produces the maximum number of primes for consecutive values of n, starting with n=0."
   ]
  },
  {
   "cell_type": "code",
   "execution_count": 1,
   "id": "fbc09a89",
   "metadata": {},
   "outputs": [],
   "source": [
    "def eratosthenes_sieve(n: int) -> list:\n",
    "    sieve = list(range(n + 1))\n",
    "    sieve[1] = 0\n",
    "    for i in sieve:\n",
    "        if i > 1:\n",
    "            for j in range(i * i, n + 1, i):\n",
    "                sieve[j] = 0         \n",
    "    return sieve\n",
    "\n",
    "# eratosthenes_sieve(11) ->\n",
    "# [0, 0, 2, 3, 0, 5, 0, 7, 0, 0, 0, 11]"
   ]
  },
  {
   "cell_type": "code",
   "execution_count": 2,
   "id": "fffe4a1b",
   "metadata": {},
   "outputs": [],
   "source": [
    "def is_prime(number: int) -> bool:\n",
    "    if number <= 1: return False\n",
    "    elif number <= 3: return True\n",
    "    elif not number % 2 or not number % 3: return False\n",
    "    else:\n",
    "        for i in range(5, int(number**0.5) + 1, 6):\n",
    "            if not number % i or not number % (i + 2):\n",
    "                return False\n",
    "    return True\n",
    "\n",
    "# is_prime(11) -> True"
   ]
  },
  {
   "cell_type": "code",
   "execution_count": 3,
   "id": "dac8ae01",
   "metadata": {
    "scrolled": true
   },
   "outputs": [
    {
     "name": "stdout",
     "output_type": "stream",
     "text": [
      "acc = 71, a = -61, b = 971, ab = -59231\n",
      "Wall time: 684 ms\n"
     ]
    }
   ],
   "source": [
    "%%time\n",
    "\n",
    "cur_max, a_, b_ = 0, 0, 0\n",
    "primes_u1000 = set(eratosthenes_sieve(1000)) - {0}\n",
    "\n",
    "for b in primes_u1000:\n",
    "    for a in range(-b, 1000):\n",
    "        acc, n = 0, 0\n",
    "        while is_prime(n**2 + a*n + b):\n",
    "            acc += 1\n",
    "            n += 1\n",
    "        if acc > cur_max:\n",
    "            cur_max, a_, b_ = acc, a, b\n",
    "            \n",
    "print(f'acc = {cur_max}, a = {a_}, b = {b_}, ab = {a_ * b_}')\n",
    "\n",
    "# -59231\n",
    "# 2022.07.17\n",
    "# Wall time: 684 ms"
   ]
  }
 ],
 "metadata": {
  "kernelspec": {
   "display_name": "Python 3",
   "language": "python",
   "name": "python3"
  },
  "language_info": {
   "codemirror_mode": {
    "name": "ipython",
    "version": 3
   },
   "file_extension": ".py",
   "mimetype": "text/x-python",
   "name": "python",
   "nbconvert_exporter": "python",
   "pygments_lexer": "ipython3",
   "version": "3.8.8"
  }
 },
 "nbformat": 4,
 "nbformat_minor": 5
}
