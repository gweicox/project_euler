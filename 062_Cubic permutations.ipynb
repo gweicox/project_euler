{
 "cells": [
  {
   "cell_type": "markdown",
   "id": "da9b5780",
   "metadata": {},
   "source": [
    "### 62. Cubic permutations\n",
    "\n",
    "link: https://projecteuler.net/problem=62\n",
    "\n",
    "<p>The cube, 41063625 (345<sup>3</sup>), can be permuted to produce two other cubes: 56623104 (384<sup>3</sup>) and 66430125 (405<sup>3</sup>). <BR>\n",
    "In fact, 41063625 is the smallest cube which has exactly three permutations of its digits which are also cube.</p>\n",
    "\n",
    "<p>Find the smallest cube for which exactly five permutations of its digits are cube.</p>"
   ]
  },
  {
   "cell_type": "code",
   "execution_count": 1,
   "id": "fffef5fc",
   "metadata": {},
   "outputs": [
    {
     "name": "stdout",
     "output_type": "stream",
     "text": [
      "[5027, 7061, 7202, 8288, 8384] 127035954683\n",
      "[5196, 8124, 8496, 9702, 9783] 140283769536\n",
      "Wall time: 31 ms\n"
     ]
    }
   ],
   "source": [
    "%%time\n",
    "\n",
    "\n",
    "d, n, stop = {}, 22, 10**50\n",
    "\n",
    "while True:\n",
    "    t = tuple(sorted(str(n**3)))\n",
    "    curr = d.get(t, [0, []])\n",
    "    curr[0] += 1\n",
    "    curr[1] += [n] \n",
    "    d[t] = curr\n",
    "    if d[t][0] == 5:\n",
    "        print(d[t][1], d[t][1][0] ** 3)\n",
    "        stop = len(t)\n",
    "    n += 1\n",
    "    if len(str(n**3)) > stop:\n",
    "        break\n",
    "\n",
    "\n",
    "# 127035954683\n",
    "# 2024.01.30\n",
    "# Wall time: 31 ms"
   ]
  },
  {
   "cell_type": "code",
   "execution_count": 2,
   "id": "137d2896",
   "metadata": {},
   "outputs": [
    {
     "name": "stdout",
     "output_type": "stream",
     "text": [
      "[11257, 11272, 15178, 16231, 16885, 19654] 1426487591593\n",
      "[10002, 10020, 10200, 20001, 20010, 20100] 1000600120008\n",
      "Wall time: 57.2 ms\n"
     ]
    }
   ],
   "source": [
    "%%time\n",
    "\n",
    "# The first N permutations you find don't necessarily correspond to the smallest cube!\n",
    "# For example for N=6\n",
    "\n",
    "d, n, stop = {}, 22, 10**50\n",
    "\n",
    "while True:\n",
    "    t = tuple(sorted(str(n**3)))\n",
    "    curr = d.get(t, [0, []])\n",
    "    curr[0] += 1\n",
    "    curr[1] += [n] \n",
    "    d[t] = curr\n",
    "    if d[t][0] == 6:\n",
    "        print(d[t][1], d[t][1][0] ** 3)\n",
    "        stop = len(t)\n",
    "    n += 1\n",
    "    if len(str(n**3)) > stop:\n",
    "        break"
   ]
  }
 ],
 "metadata": {
  "kernelspec": {
   "display_name": "Python 3",
   "language": "python",
   "name": "python3"
  },
  "language_info": {
   "codemirror_mode": {
    "name": "ipython",
    "version": 3
   },
   "file_extension": ".py",
   "mimetype": "text/x-python",
   "name": "python",
   "nbconvert_exporter": "python",
   "pygments_lexer": "ipython3",
   "version": "3.8.8"
  }
 },
 "nbformat": 4,
 "nbformat_minor": 5
}
