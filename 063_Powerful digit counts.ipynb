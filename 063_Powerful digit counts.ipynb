{
 "cells": [
  {
   "cell_type": "markdown",
   "id": "db8206d2",
   "metadata": {},
   "source": [
    "### 63. Powerful digit counts\n",
    "\n",
    "link: https://projecteuler.net/problem=63\n",
    "\n",
    "<p>The 5-digit number, 16807=7<sup>5</sup>, is also a fifth power. Similarly, the 9-digit number, 134217728=8<sup>9</sup>, is a ninth power.</p>\n",
    "\n",
    "<p>How many <i>n</i>-digit positive integers exist which are also an <i>n</i>th power?</p>"
   ]
  },
  {
   "cell_type": "code",
   "execution_count": 1,
   "id": "bbb67eee",
   "metadata": {},
   "outputs": [
    {
     "name": "stdout",
     "output_type": "stream",
     "text": [
      "[1, 2, 3, 4, 5, 6, 7, 8, 9, 16, 25, 36, 49, 64, 81, 125, 216, 343, 512, 729, 1296, 2401, 4096, 6561, 16807, 32768, 59049, 117649, 262144, 531441, 2097152, 4782969, 16777216, 43046721, 134217728, 387420489, 1073741824, 3486784401, 31381059609, 282429536481, 2541865828329, 22876792454961, 205891132094649, 1853020188851841, 16677181699666569, 150094635296999121, 1350851717672992089, 12157665459056928801, 109418989131512359209]\n",
      "\n",
      "49\n",
      "Wall time: 0 ns\n"
     ]
    }
   ],
   "source": [
    "%%time\n",
    "\n",
    "\n",
    "acc, n, arr = 0, 1, []\n",
    "\n",
    "while True:\n",
    "    if len(str(9 ** n)) < n:\n",
    "        break\n",
    "    for d in range(1, 10):\n",
    "        if len(str(d ** n)) == n:\n",
    "            arr.append(d ** n)\n",
    "            acc += 1\n",
    "    n += 1\n",
    "\n",
    "\n",
    "print(arr)\n",
    "print()\n",
    "print(acc)\n",
    "\n",
    "\n",
    "# 49\n",
    "# 2024.01.31\n",
    "# Wall time: 0 ns"
   ]
  }
 ],
 "metadata": {
  "kernelspec": {
   "display_name": "Python 3",
   "language": "python",
   "name": "python3"
  },
  "language_info": {
   "codemirror_mode": {
    "name": "ipython",
    "version": 3
   },
   "file_extension": ".py",
   "mimetype": "text/x-python",
   "name": "python",
   "nbconvert_exporter": "python",
   "pygments_lexer": "ipython3",
   "version": "3.8.8"
  }
 },
 "nbformat": 4,
 "nbformat_minor": 5
}
