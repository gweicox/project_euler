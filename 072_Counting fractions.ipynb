{
 "cells": [
  {
   "cell_type": "markdown",
   "id": "f4e14598",
   "metadata": {},
   "source": [
    "### 72. Counting fractions\n",
    "\n",
    "link: https://projecteuler.net/problem=72\n",
    "\n",
    "<p>Consider the fraction, $\\dfrac n d$, where $n$ and $d$ are positive integers. If $n \\lt d$ and $\\operatorname{HCF}(n,d)=1$, it is called a reduced proper fraction.</p>\n",
    "\n",
    "<p>If we list the set of reduced proper fractions for $d \\le 8$ in ascending order of size, we get:\n",
    "\n",
    "$$\\frac 1 8, \\frac 1 7, \\frac 1 6, \\frac 1 5, \\frac 1 4, \\frac 2 7, \\frac 1 3, \\frac 3 8, \\frac 2 5, \\frac 3 7, \\frac 1 2, \\frac 4 7, \\frac 3 5, \\frac 5 8, \\frac 2 3, \\frac 5 7, \\frac 3 4, \\frac 4 5, \\frac 5 6, \\frac 6 7, \\frac 7 8$$</p>\n",
    "\n",
    "<p>It can be seen that there are $21$ elements in this set.</p>\n",
    "\n",
    "<p>How many elements would be contained in the set of reduced proper fractions for $d \\le 1\\,000\\,000$?</p>"
   ]
  },
  {
   "cell_type": "code",
   "execution_count": 1,
   "id": "b5b7f78d",
   "metadata": {},
   "outputs": [
    {
     "name": "stdout",
     "output_type": "stream",
     "text": [
      "Wall time: 19.9 s\n"
     ]
    },
    {
     "data": {
      "text/plain": [
       "303963552391"
      ]
     },
     "execution_count": 1,
     "metadata": {},
     "output_type": "execute_result"
    }
   ],
   "source": [
    "%%time\n",
    "\n",
    "\n",
    "def get_prime_factors(n):\n",
    "    res, d = set(), 2\n",
    "    while d * d <= n:\n",
    "        if n % d == 0:\n",
    "            res.add(d)\n",
    "            n //= d\n",
    "        else: d += 1 \n",
    "    if n > 1:\n",
    "        res.add(n)\n",
    "    return res\n",
    "\n",
    "\n",
    "def phi(n):\n",
    "    ans = n\n",
    "    for p in get_prime_factors(n):\n",
    "        ans = ans * (p - 1) // p\n",
    "    return ans\n",
    "\n",
    "\n",
    "N, acc = 10 ** 6, 0\n",
    "is_prime = [True] * (N + 1)\n",
    "\n",
    "\n",
    "for d in range(2, N + 1):\n",
    "    if is_prime[d]:\n",
    "        acc += d - 1\n",
    "        for i in range(d * d, N + 1, d):\n",
    "            is_prime[i] = False\n",
    "    else:\n",
    "        acc += phi(d)\n",
    "\n",
    "\n",
    "acc\n",
    "\n",
    "# 303963552391\n",
    "# 2024.02.11\n",
    "# Wall time: "
   ]
  }
 ],
 "metadata": {
  "kernelspec": {
   "display_name": "Python 3",
   "language": "python",
   "name": "python3"
  },
  "language_info": {
   "codemirror_mode": {
    "name": "ipython",
    "version": 3
   },
   "file_extension": ".py",
   "mimetype": "text/x-python",
   "name": "python",
   "nbconvert_exporter": "python",
   "pygments_lexer": "ipython3",
   "version": "3.8.8"
  }
 },
 "nbformat": 4,
 "nbformat_minor": 5
}
