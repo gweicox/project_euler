{
 "cells": [
  {
   "cell_type": "markdown",
   "id": "9671f8a9",
   "metadata": {},
   "source": [
    "### 65. Convergents of e\n",
    "\n",
    "link: https://projecteuler.net/problem=65\n",
    "\n",
    "<p>The square root of 2 can be written as an infinite continued fraction.</p>\n",
    "\n",
    "<p>$\\sqrt{2} = 1 + \\dfrac{1}{2 + \\dfrac{1}{2 + \\dfrac{1}{2 + \\dfrac{1}{2 + ...}}}}$</p>\n",
    "\n",
    "<p>The infinite continued fraction can be written, $\\sqrt{2} = [1; (2)]$, $(2)$ indicates that 2 repeats <i>ad infinitum</i>. In a similar way, $\\sqrt{23} = [4; (1, 3, 1, 8)]$.</p>\n",
    "\n",
    "<p>It turns out that the sequence of partial values of continued fractions for square roots provide the best rational approximations. Let us consider the convergents for $\\sqrt{2}$.</p>\n",
    "\n",
    "<p>$\\begin{align}\n",
    "1 + \\dfrac{1}{2} = \\dfrac{3}{2} \\\\\n",
    "1 + \\dfrac{1}{2 + \\dfrac{1}{2}} = \\dfrac{7}{5}\\\\\n",
    "1 + \\dfrac{1}{2 + \\dfrac{1}{2 + \\dfrac{1}{2}}} = \\dfrac{17}{12}\\\\\n",
    "1 + \\dfrac{1}{2 + \\dfrac{1}{2 + \\dfrac{1}{2 + \\dfrac{1}{2}}}} = \\dfrac{41}{29}\n",
    "\\end{align}$</p>\n",
    "\n",
    "<p>Hence the sequence of the first ten convergents for $\\sqrt{2}$ are:</p>\n",
    "\n",
    "<p>$1, \\dfrac{3}{2}, \\dfrac{7}{5}, \\dfrac{17}{12}, \\dfrac{41}{29}, \\dfrac{99}{70}, \\dfrac{239}{169}, \\dfrac{577}{408}, \\dfrac{1393}{985}, \\dfrac{3363}{2378}, ...$</p>\n",
    "\n",
    "<p>What is most surprising is that the important mathematical constant,<br />$e = [2; 1, 2, 1, 1, 4, 1, 1, 6, 1, ... , 1, 2k, 1, ...]$.</p>\n",
    "\n",
    "<p>The first ten terms in the sequence of convergents for <i>e</i> are:</p>\n",
    "\n",
    "<p>$2, 3, \\dfrac{8}{3}, \\dfrac{11}{4}, \\dfrac{19}{7}, \\dfrac{87}{32}, \\dfrac{106}{39}, \\dfrac{193}{71}, \\dfrac{1264}{465}, \\dfrac{1457}{536}, ...$</p>\n",
    "\n",
    "<p>The sum of digits in the numerator of the 10<sup>th</sup> convergent is $1 + 4 + 5 + 7 = 17$.</p>\n",
    "\n",
    "<p>Find the sum of digits in the numerator of the 100<sup>th</sup> convergent of the continued fraction for $e$.</p>"
   ]
  },
  {
   "cell_type": "code",
   "execution_count": 1,
   "id": "602e4098",
   "metadata": {},
   "outputs": [
    {
     "name": "stdout",
     "output_type": "stream",
     "text": [
      "Wall time: 0 ns\n"
     ]
    },
    {
     "data": {
      "text/plain": [
       "272"
      ]
     },
     "execution_count": 1,
     "metadata": {},
     "output_type": "execute_result"
    }
   ],
   "source": [
    "%%time\n",
    "\n",
    "\n",
    "e = sum([[2, 1, 2]] + [[1, 1, 2 * x] for x in range(2, 33 + 1)] + [[1]], [])[::-1]\n",
    "\n",
    "a, b, c = 1, e[0], e[1]\n",
    "\n",
    "for i in range(2, 100):\n",
    "    a, b, c = b, c * b + a, e[i]\n",
    "\n",
    "sum(int(x) for x in str(c * b + a))\n",
    "\n",
    "\n",
    "# 272\n",
    "# 2024.02.02\n",
    "# Wall time: 0 ns"
   ]
  }
 ],
 "metadata": {
  "kernelspec": {
   "display_name": "Python 3",
   "language": "python",
   "name": "python3"
  },
  "language_info": {
   "codemirror_mode": {
    "name": "ipython",
    "version": 3
   },
   "file_extension": ".py",
   "mimetype": "text/x-python",
   "name": "python",
   "nbconvert_exporter": "python",
   "pygments_lexer": "ipython3",
   "version": "3.8.8"
  }
 },
 "nbformat": 4,
 "nbformat_minor": 5
}
