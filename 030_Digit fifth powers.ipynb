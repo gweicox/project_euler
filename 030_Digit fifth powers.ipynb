{
 "cells": [
  {
   "cell_type": "markdown",
   "id": "ef890a8e",
   "metadata": {},
   "source": [
    "### 30. Digit fifth powers\n",
    "\n",
    "link: https://projecteuler.net/problem=30\n",
    "\n",
    "Surprisingly there are only three numbers that can be written as the sum of fourth powers of their digits:\n",
    "\n",
    "> 1634 = 1<sup>4</sup> + 6<sup>4</sup> + 3<sup>4</sup> + 4<sup>4</sup>  \n",
    "> 8208 = 8<sup>4</sup> + 2<sup>4</sup> + 0<sup>4</sup> + 8<sup>4</sup>  \n",
    "> 9474 = 9<sup>4</sup> + 4<sup>4</sup> + 7<sup>4</sup> + 4<sup>4</sup>\n",
    "\n",
    "As 1 = 1<sup>4</sup> is not a sum it is not included.\n",
    "\n",
    "The sum of these numbers is 1634 + 8208 + 9474 = 19316.\n",
    "\n",
    "Find the sum of all the numbers that can be written as the sum of fifth powers of their digits."
   ]
  },
  {
   "cell_type": "code",
   "execution_count": 1,
   "id": "cda0424a",
   "metadata": {},
   "outputs": [
    {
     "name": "stdout",
     "output_type": "stream",
     "text": [
      "Wall time: 843 ms\n"
     ]
    },
    {
     "data": {
      "text/plain": [
       "443839"
      ]
     },
     "execution_count": 1,
     "metadata": {},
     "output_type": "execute_result"
    }
   ],
   "source": [
    "%%time\n",
    "\n",
    "def is_5_powers_sum(n: int) -> bool:\n",
    "    return n == sum(int(x) ** 5 for x in str(n))\n",
    "\n",
    "sum(x for x in range(10, 9**5 * 6) if is_5_powers_sum(x))\n",
    "\n",
    "# 443839\n",
    "# 2022.07.20\n",
    "# Wall time: 843 ms"
   ]
  }
 ],
 "metadata": {
  "kernelspec": {
   "display_name": "Python 3",
   "language": "python",
   "name": "python3"
  },
  "language_info": {
   "codemirror_mode": {
    "name": "ipython",
    "version": 3
   },
   "file_extension": ".py",
   "mimetype": "text/x-python",
   "name": "python",
   "nbconvert_exporter": "python",
   "pygments_lexer": "ipython3",
   "version": "3.8.8"
  }
 },
 "nbformat": 4,
 "nbformat_minor": 5
}
